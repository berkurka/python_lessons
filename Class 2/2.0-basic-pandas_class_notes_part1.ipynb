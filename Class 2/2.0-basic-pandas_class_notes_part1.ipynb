{
 "cells": [
  {
   "cell_type": "markdown",
   "metadata": {},
   "source": [
    "# Lesson 2 | Basic Pandas\n",
    "\n",
    "\n",
    "### LEARNING OBJECTIVES\n",
    "*After this lesson, you will be able to:*\n",
    "- Importing data with pandas\n",
    "- Run basic data exploration analysis.\n",
    "- Change data types and find outliers.\n",
    "- Filter pandas dataframes.\n",
    "- Create simple reports to summerize data. "
   ]
  },
  {
   "cell_type": "markdown",
   "metadata": {},
   "source": [
    "# Table of Contents\n",
    "1. [What is Pandas](#whatis)\n",
    "2. [Import data using Pandas](#import)\n",
    "3. [Pandas Data Frame & Basic EDA](#basiceda)\n",
    "4. [Filtering Data Frame](#filtdata)\n",
    "5. [Adding new column or Row](#newcol)\n",
    "6. [Groupby and agg](#groupby)\n",
    "7. [Merge](#merge)"
   ]
  },
  {
   "cell_type": "markdown",
   "metadata": {},
   "source": [
    "# 1. What is Pandas?<a class=\"anchor\" id=\"whatis\"></a>\n",
    "\n",
    "## These are pandas:\n",
    "![SegmentLocal](Images/pandas.gif \"segment\")\n",
    "\n",
    "## But not the one we will learn today!"
   ]
  },
  {
   "cell_type": "markdown",
   "metadata": {},
   "source": [
    "## Pandas ~ Excel\n",
    "I would say that pandas is the closest from a excel table that you can get using python.\n",
    "\n",
    "It is an open source library written in Python for data manipulation and analysis, it's initial release was in 2008, it was initially developed out of the need of high performance to run quantative analysis on finantial data. Pandas was build on using a Python library called Numpy. Numpy is a library used to support large multi-dimentional arrays and matrices, it is very popular in the sientific community.\n",
    "![title](./Images/pandas_description.png)\n",
    "\n",
    "source: https://pandas.pydata.org/, https://en.wikipedia.org/wiki/Pandas_(software)"
   ]
  },
  {
   "cell_type": "markdown",
   "metadata": {},
   "source": [
    "# 2. Import data using Pandas <a class=\"anchor\" id=\"import\"></a>\n",
    "- In order to use the pandas pakage we will need to import it. `Import pandas`\n",
    "- We add the `as pd` after the import in order to use the variable `pd` to refer to the pandas pakage. This way we are able to acess all the methods and functions of this class by only typing `pd` instead of `pandas`."
   ]
  },
  {
   "cell_type": "code",
   "execution_count": 1,
   "metadata": {},
   "outputs": [],
   "source": [
    "import pandas as pd"
   ]
  },
  {
   "cell_type": "markdown",
   "metadata": {},
   "source": [
    "## Works with multiple file types:\n",
    "#### Excel, CSV, Json, Pickle, txt, XML, HTML, parquet \n",
    "\n",
    "-  Here are some examples:\n",
    "- `pd.read_csv(file_path + 'file_name.csv', sep=',')`\n",
    "\n",
    "- `pd.read_excel(file_path + 'file_name.xls', sheet='sheet_name')`\n",
    "\n",
    "- `pd.read_sql('select * from my_table', connection)`\n",
    "\n",
    "If the file is saved in the same folder as the code you are running you don't need to add the file path."
   ]
  },
  {
   "cell_type": "markdown",
   "metadata": {},
   "source": [
    "##### Relative path vs absolute path\n",
    " - I recommended to use absolute path, the absolute path "
   ]
  },
  {
   "cell_type": "code",
   "execution_count": null,
   "metadata": {},
   "outputs": [],
   "source": [
    "# Absolute path WILL NOT WORK!!!\n",
    "abs_path = 'C:/Users/berku/Desktop/DSI/Personal Git Hub/python_lessons/Class 2/data/'\n",
    "\n",
    "# The file can be imported with the absolute or relative path\n",
    "df = pd.read_csv(abs_path + 'netflix_titles.csv')"
   ]
  },
  {
   "cell_type": "code",
   "execution_count": 3,
   "metadata": {},
   "outputs": [],
   "source": [
    "# Relative path WILL WORK!!\n",
    "# The file can be imported with the absolute or relative path\n",
    "rel_path = './data/'\n",
    "df = pd.read_csv(rel_path + 'netflix_titles.csv')"
   ]
  },
  {
   "cell_type": "markdown",
   "metadata": {},
   "source": [
    "#### Common arguments:\n",
    "- **usecols** => If you don't need all the columns in the dataframe.\n",
    "- **dtype** => Change data types.\n",
    "- **parse_dates** => Read column as date time."
   ]
  },
  {
   "cell_type": "code",
   "execution_count": 4,
   "metadata": {},
   "outputs": [
    {
     "data": {
      "text/html": [
       "<div>\n",
       "<style scoped>\n",
       "    .dataframe tbody tr th:only-of-type {\n",
       "        vertical-align: middle;\n",
       "    }\n",
       "\n",
       "    .dataframe tbody tr th {\n",
       "        vertical-align: top;\n",
       "    }\n",
       "\n",
       "    .dataframe thead th {\n",
       "        text-align: right;\n",
       "    }\n",
       "</style>\n",
       "<table border=\"1\" class=\"dataframe\">\n",
       "  <thead>\n",
       "    <tr style=\"text-align: right;\">\n",
       "      <th></th>\n",
       "      <th>show_id</th>\n",
       "      <th>type</th>\n",
       "      <th>date_added</th>\n",
       "      <th>release_year</th>\n",
       "    </tr>\n",
       "  </thead>\n",
       "  <tbody>\n",
       "    <tr>\n",
       "      <th>0</th>\n",
       "      <td>81145628</td>\n",
       "      <td>Movie</td>\n",
       "      <td>September 9, 2019</td>\n",
       "      <td>2019</td>\n",
       "    </tr>\n",
       "  </tbody>\n",
       "</table>\n",
       "</div>"
      ],
      "text/plain": [
       "    show_id   type         date_added  release_year\n",
       "0  81145628  Movie  September 9, 2019          2019"
      ]
     },
     "execution_count": 4,
     "metadata": {},
     "output_type": "execute_result"
    }
   ],
   "source": [
    "# Usecols:\n",
    "df = pd.read_csv(rel_path + 'netflix_titles.csv', \n",
    "                 usecols=['show_id','type','date_added', 'release_year']\n",
    "                )\n",
    "df.head(1)"
   ]
  },
  {
   "cell_type": "code",
   "execution_count": 5,
   "metadata": {
    "scrolled": false
   },
   "outputs": [
    {
     "data": {
      "text/html": [
       "<div>\n",
       "<style scoped>\n",
       "    .dataframe tbody tr th:only-of-type {\n",
       "        vertical-align: middle;\n",
       "    }\n",
       "\n",
       "    .dataframe tbody tr th {\n",
       "        vertical-align: top;\n",
       "    }\n",
       "\n",
       "    .dataframe thead th {\n",
       "        text-align: right;\n",
       "    }\n",
       "</style>\n",
       "<table border=\"1\" class=\"dataframe\">\n",
       "  <thead>\n",
       "    <tr style=\"text-align: right;\">\n",
       "      <th></th>\n",
       "      <th>show_id</th>\n",
       "      <th>type</th>\n",
       "      <th>date_added</th>\n",
       "      <th>release_year</th>\n",
       "    </tr>\n",
       "  </thead>\n",
       "  <tbody>\n",
       "    <tr>\n",
       "      <th>0</th>\n",
       "      <td>81145628</td>\n",
       "      <td>Movie</td>\n",
       "      <td>2019-09-09</td>\n",
       "      <td>2019.0</td>\n",
       "    </tr>\n",
       "  </tbody>\n",
       "</table>\n",
       "</div>"
      ],
      "text/plain": [
       "    show_id   type date_added  release_year\n",
       "0  81145628  Movie 2019-09-09        2019.0"
      ]
     },
     "execution_count": 5,
     "metadata": {},
     "output_type": "execute_result"
    }
   ],
   "source": [
    "# dtype and parse_dates and Usecols\n",
    "df = pd.read_csv(rel_path + 'netflix_titles.csv', \n",
    "                 usecols=['show_id','type','date_added', 'release_year'], \n",
    "                 dtype={'show_id': int, 'type': str, 'release_year': float}, \n",
    "                 parse_dates=['date_added'])\n",
    "df.head(1)"
   ]
  },
  {
   "cell_type": "markdown",
   "metadata": {},
   "source": [
    "#### Import we will use for this project"
   ]
  },
  {
   "cell_type": "code",
   "execution_count": 9,
   "metadata": {},
   "outputs": [],
   "source": [
    "rel_path = './data/'\n",
    "df = pd.read_csv(rel_path + 'netflix_titles.csv', \n",
    "                 parse_dates=['date_added'])"
   ]
  },
  {
   "cell_type": "markdown",
   "metadata": {},
   "source": [
    "# 3.Pandas Data Frame & Basic EDA <a class=\"anchor\" id=\"basiceda\"></a>"
   ]
  },
  {
   "cell_type": "markdown",
   "metadata": {},
   "source": [
    "### Who Loves movies ??\n",
    "#### We will explore a Data Base with Movies and TV Shows that were listed on Netflix.\n",
    "\n",
    "<img src=\"./Images/netflix2.jpg\" alt=\"Drawing\" style=\"width: 200px;\"/>"
   ]
  },
  {
   "cell_type": "markdown",
   "metadata": {},
   "source": [
    "### Pandas Data Frame\n",
    "A pandas DataFrame is a 2-dimensional labeled data structure with columns of potentially different types."
   ]
  },
  {
   "cell_type": "markdown",
   "metadata": {},
   "source": [
    "**Structure:**\n",
    "![title](./Images/pandas_dataframe.png)\n"
   ]
  },
  {
   "cell_type": "markdown",
   "metadata": {},
   "source": [
    "## Use .head(), .sample() or .tail() to look at part of the data"
   ]
  },
  {
   "cell_type": "code",
   "execution_count": null,
   "metadata": {},
   "outputs": [],
   "source": [
    "# Check out the difference between\n",
    "df.head()\n",
    "df.tail()a\n",
    "df.sample()"
   ]
  },
  {
   "cell_type": "markdown",
   "metadata": {},
   "source": [
    "### Selecting Data From specfic rows / columns\n",
    "- df[list of column names separated by commas]\n",
    "- df.loc[row index, column names]"
   ]
  },
  {
   "cell_type": "code",
   "execution_count": 17,
   "metadata": {
    "collapsed": true
   },
   "outputs": [
    {
     "data": {
      "text/plain": [
       "0       2019\n",
       "1       2016\n",
       "2       2013\n",
       "3       2016\n",
       "4       2017\n",
       "        ... \n",
       "6229    2015\n",
       "6230    2016\n",
       "6231    2016\n",
       "6232    2013\n",
       "6233    2003\n",
       "Name: release_year, Length: 6234, dtype: int64"
      ]
     },
     "execution_count": 17,
     "metadata": {},
     "output_type": "execute_result"
    }
   ],
   "source": [
    "# Select a single column\n",
    "df['release_year']"
   ]
  },
  {
   "cell_type": "code",
   "execution_count": 18,
   "metadata": {},
   "outputs": [
    {
     "data": {
      "text/html": [
       "<div>\n",
       "<style scoped>\n",
       "    .dataframe tbody tr th:only-of-type {\n",
       "        vertical-align: middle;\n",
       "    }\n",
       "\n",
       "    .dataframe tbody tr th {\n",
       "        vertical-align: top;\n",
       "    }\n",
       "\n",
       "    .dataframe thead th {\n",
       "        text-align: right;\n",
       "    }\n",
       "</style>\n",
       "<table border=\"1\" class=\"dataframe\">\n",
       "  <thead>\n",
       "    <tr style=\"text-align: right;\">\n",
       "      <th></th>\n",
       "      <th>show_id</th>\n",
       "      <th>type</th>\n",
       "      <th>title</th>\n",
       "      <th>director</th>\n",
       "    </tr>\n",
       "  </thead>\n",
       "  <tbody>\n",
       "    <tr>\n",
       "      <th>0</th>\n",
       "      <td>81145628</td>\n",
       "      <td>Movie</td>\n",
       "      <td>Norm of the North: King Sized Adventure</td>\n",
       "      <td>Richard Finn, Tim Maltby</td>\n",
       "    </tr>\n",
       "  </tbody>\n",
       "</table>\n",
       "</div>"
      ],
      "text/plain": [
       "    show_id   type                                    title  \\\n",
       "0  81145628  Movie  Norm of the North: King Sized Adventure   \n",
       "\n",
       "                   director  \n",
       "0  Richard Finn, Tim Maltby  "
      ]
     },
     "execution_count": 18,
     "metadata": {},
     "output_type": "execute_result"
    }
   ],
   "source": [
    "# select multiple columns\n",
    "df[['show_id', 'type', 'title', 'director']].head(1)"
   ]
  },
  {
   "cell_type": "markdown",
   "metadata": {},
   "source": [
    "### EDA = exploratory data analysis\n",
    "\n",
    "EDA is about getting to know more about your data finding its main characteristics.\n",
    "When working with a new data set I would recomment running at least the methods below:\n",
    "\n",
    "- **shape**<br />\n",
    "Returns a tuple with number of rows and columns of the data frame.\n",
    "- **dtypes**<br />\n",
    "Are the data types what we expect them to be?<br />\n",
    "- **describe**<br />\n",
    "Will Describe create basis statistics. Default is to calculate it only for numeric columns.\n",
    "- **value_counts**<br />\n",
    "For a given column counts the occurrence of values.\n",
    "- **info** gives you non null counts for each column and memory usage<br />\n",
    "- **sort_values** to sort column values ascending or descending.<br />\n",
    "- **.isnull().sum()** sum of null rows for each column\n",
    "- **nunique() and unique()** Count or visualize unique values for a column.\n",
    "- **drop_duplicates()** Drops duplicates of a subset of columns\n",
    "- **sum, mean, min, max, mode, std, median**\n",
    "### Run the examples below:"
   ]
  },
  {
   "cell_type": "code",
   "execution_count": 19,
   "metadata": {},
   "outputs": [
    {
     "data": {
      "text/plain": [
       "(6234, 12)"
      ]
     },
     "execution_count": 19,
     "metadata": {},
     "output_type": "execute_result"
    }
   ],
   "source": [
    "df.shape"
   ]
  },
  {
   "cell_type": "code",
   "execution_count": 23,
   "metadata": {},
   "outputs": [
    {
     "data": {
      "text/html": [
       "<div>\n",
       "<style scoped>\n",
       "    .dataframe tbody tr th:only-of-type {\n",
       "        vertical-align: middle;\n",
       "    }\n",
       "\n",
       "    .dataframe tbody tr th {\n",
       "        vertical-align: top;\n",
       "    }\n",
       "\n",
       "    .dataframe thead th {\n",
       "        text-align: right;\n",
       "    }\n",
       "</style>\n",
       "<table border=\"1\" class=\"dataframe\">\n",
       "  <thead>\n",
       "    <tr style=\"text-align: right;\">\n",
       "      <th></th>\n",
       "      <th>show_id</th>\n",
       "      <th>type</th>\n",
       "      <th>title</th>\n",
       "      <th>director</th>\n",
       "      <th>cast</th>\n",
       "      <th>country</th>\n",
       "      <th>date_added</th>\n",
       "      <th>release_year</th>\n",
       "      <th>rating</th>\n",
       "      <th>duration</th>\n",
       "      <th>listed_in</th>\n",
       "      <th>description</th>\n",
       "    </tr>\n",
       "  </thead>\n",
       "  <tbody>\n",
       "    <tr>\n",
       "      <th>0</th>\n",
       "      <td>81145628</td>\n",
       "      <td>Movie</td>\n",
       "      <td>Norm of the North: King Sized Adventure</td>\n",
       "      <td>Richard Finn, Tim Maltby</td>\n",
       "      <td>Alan Marriott, Andrew Toth, Brian Dobson, Cole...</td>\n",
       "      <td>United States, India, South Korea, China</td>\n",
       "      <td>2019-09-09</td>\n",
       "      <td>2019</td>\n",
       "      <td>TV-PG</td>\n",
       "      <td>90 min</td>\n",
       "      <td>Children &amp; Family Movies, Comedies</td>\n",
       "      <td>Before planning an awesome wedding for his gra...</td>\n",
       "    </tr>\n",
       "  </tbody>\n",
       "</table>\n",
       "</div>"
      ],
      "text/plain": [
       "    show_id   type                                    title  \\\n",
       "0  81145628  Movie  Norm of the North: King Sized Adventure   \n",
       "\n",
       "                   director  \\\n",
       "0  Richard Finn, Tim Maltby   \n",
       "\n",
       "                                                cast  \\\n",
       "0  Alan Marriott, Andrew Toth, Brian Dobson, Cole...   \n",
       "\n",
       "                                    country date_added  release_year rating  \\\n",
       "0  United States, India, South Korea, China 2019-09-09          2019  TV-PG   \n",
       "\n",
       "  duration                           listed_in  \\\n",
       "0   90 min  Children & Family Movies, Comedies   \n",
       "\n",
       "                                         description  \n",
       "0  Before planning an awesome wedding for his gra...  "
      ]
     },
     "execution_count": 23,
     "metadata": {},
     "output_type": "execute_result"
    }
   ],
   "source": [
    "df.head(1)"
   ]
  },
  {
   "cell_type": "code",
   "execution_count": 21,
   "metadata": {},
   "outputs": [
    {
     "data": {
      "text/plain": [
       "show_id                  int64\n",
       "type                    object\n",
       "title                   object\n",
       "director                object\n",
       "cast                    object\n",
       "country                 object\n",
       "date_added      datetime64[ns]\n",
       "release_year             int64\n",
       "rating                  object\n",
       "duration                object\n",
       "listed_in               object\n",
       "description             object\n",
       "dtype: object"
      ]
     },
     "execution_count": 21,
     "metadata": {},
     "output_type": "execute_result"
    }
   ],
   "source": [
    "df.dtypes"
   ]
  },
  {
   "cell_type": "markdown",
   "metadata": {},
   "source": [
    "**3.1 Practice** Are the column data types what we expect them to be?\n",
    "- Yes\n",
    "- No"
   ]
  },
  {
   "cell_type": "code",
   "execution_count": 24,
   "metadata": {},
   "outputs": [
    {
     "data": {
      "text/html": [
       "<div>\n",
       "<style scoped>\n",
       "    .dataframe tbody tr th:only-of-type {\n",
       "        vertical-align: middle;\n",
       "    }\n",
       "\n",
       "    .dataframe tbody tr th {\n",
       "        vertical-align: top;\n",
       "    }\n",
       "\n",
       "    .dataframe thead th {\n",
       "        text-align: right;\n",
       "    }\n",
       "</style>\n",
       "<table border=\"1\" class=\"dataframe\">\n",
       "  <thead>\n",
       "    <tr style=\"text-align: right;\">\n",
       "      <th></th>\n",
       "      <th>show_id</th>\n",
       "      <th>release_year</th>\n",
       "    </tr>\n",
       "  </thead>\n",
       "  <tbody>\n",
       "    <tr>\n",
       "      <th>count</th>\n",
       "      <td>6.234000e+03</td>\n",
       "      <td>6234.00000</td>\n",
       "    </tr>\n",
       "    <tr>\n",
       "      <th>mean</th>\n",
       "      <td>7.670368e+07</td>\n",
       "      <td>2013.35932</td>\n",
       "    </tr>\n",
       "    <tr>\n",
       "      <th>std</th>\n",
       "      <td>1.094296e+07</td>\n",
       "      <td>8.81162</td>\n",
       "    </tr>\n",
       "    <tr>\n",
       "      <th>min</th>\n",
       "      <td>2.477470e+05</td>\n",
       "      <td>1925.00000</td>\n",
       "    </tr>\n",
       "    <tr>\n",
       "      <th>25%</th>\n",
       "      <td>8.003580e+07</td>\n",
       "      <td>2013.00000</td>\n",
       "    </tr>\n",
       "    <tr>\n",
       "      <th>50%</th>\n",
       "      <td>8.016337e+07</td>\n",
       "      <td>2016.00000</td>\n",
       "    </tr>\n",
       "    <tr>\n",
       "      <th>75%</th>\n",
       "      <td>8.024489e+07</td>\n",
       "      <td>2018.00000</td>\n",
       "    </tr>\n",
       "    <tr>\n",
       "      <th>max</th>\n",
       "      <td>8.123573e+07</td>\n",
       "      <td>2020.00000</td>\n",
       "    </tr>\n",
       "  </tbody>\n",
       "</table>\n",
       "</div>"
      ],
      "text/plain": [
       "            show_id  release_year\n",
       "count  6.234000e+03    6234.00000\n",
       "mean   7.670368e+07    2013.35932\n",
       "std    1.094296e+07       8.81162\n",
       "min    2.477470e+05    1925.00000\n",
       "25%    8.003580e+07    2013.00000\n",
       "50%    8.016337e+07    2016.00000\n",
       "75%    8.024489e+07    2018.00000\n",
       "max    8.123573e+07    2020.00000"
      ]
     },
     "execution_count": 24,
     "metadata": {},
     "output_type": "execute_result"
    }
   ],
   "source": [
    "# Will run it on only numeric columns\n",
    "df.describe() "
   ]
  },
  {
   "cell_type": "code",
   "execution_count": 25,
   "metadata": {
    "collapsed": true
   },
   "outputs": [
    {
     "data": {
      "text/html": [
       "<div>\n",
       "<style scoped>\n",
       "    .dataframe tbody tr th:only-of-type {\n",
       "        vertical-align: middle;\n",
       "    }\n",
       "\n",
       "    .dataframe tbody tr th {\n",
       "        vertical-align: top;\n",
       "    }\n",
       "\n",
       "    .dataframe thead th {\n",
       "        text-align: right;\n",
       "    }\n",
       "</style>\n",
       "<table border=\"1\" class=\"dataframe\">\n",
       "  <thead>\n",
       "    <tr style=\"text-align: right;\">\n",
       "      <th></th>\n",
       "      <th>type</th>\n",
       "      <th>title</th>\n",
       "      <th>director</th>\n",
       "      <th>cast</th>\n",
       "      <th>country</th>\n",
       "      <th>rating</th>\n",
       "      <th>duration</th>\n",
       "      <th>listed_in</th>\n",
       "      <th>description</th>\n",
       "    </tr>\n",
       "  </thead>\n",
       "  <tbody>\n",
       "    <tr>\n",
       "      <th>count</th>\n",
       "      <td>6234</td>\n",
       "      <td>6234</td>\n",
       "      <td>4265</td>\n",
       "      <td>5664</td>\n",
       "      <td>5758</td>\n",
       "      <td>6224</td>\n",
       "      <td>6234</td>\n",
       "      <td>6234</td>\n",
       "      <td>6234</td>\n",
       "    </tr>\n",
       "    <tr>\n",
       "      <th>unique</th>\n",
       "      <td>2</td>\n",
       "      <td>6172</td>\n",
       "      <td>3301</td>\n",
       "      <td>5469</td>\n",
       "      <td>554</td>\n",
       "      <td>14</td>\n",
       "      <td>201</td>\n",
       "      <td>461</td>\n",
       "      <td>6226</td>\n",
       "    </tr>\n",
       "    <tr>\n",
       "      <th>top</th>\n",
       "      <td>Movie</td>\n",
       "      <td>The Silence</td>\n",
       "      <td>Raúl Campos, Jan Suter</td>\n",
       "      <td>David Attenborough</td>\n",
       "      <td>United States</td>\n",
       "      <td>TV-MA</td>\n",
       "      <td>1 Season</td>\n",
       "      <td>Documentaries</td>\n",
       "      <td>A surly septuagenarian gets another chance at ...</td>\n",
       "    </tr>\n",
       "    <tr>\n",
       "      <th>freq</th>\n",
       "      <td>4265</td>\n",
       "      <td>3</td>\n",
       "      <td>18</td>\n",
       "      <td>18</td>\n",
       "      <td>2032</td>\n",
       "      <td>2027</td>\n",
       "      <td>1321</td>\n",
       "      <td>299</td>\n",
       "      <td>3</td>\n",
       "    </tr>\n",
       "  </tbody>\n",
       "</table>\n",
       "</div>"
      ],
      "text/plain": [
       "         type        title                director                cast  \\\n",
       "count    6234         6234                    4265                5664   \n",
       "unique      2         6172                    3301                5469   \n",
       "top     Movie  The Silence  Raúl Campos, Jan Suter  David Attenborough   \n",
       "freq     4265            3                      18                  18   \n",
       "\n",
       "              country rating  duration      listed_in  \\\n",
       "count            5758   6224      6234           6234   \n",
       "unique            554     14       201            461   \n",
       "top     United States  TV-MA  1 Season  Documentaries   \n",
       "freq             2032   2027      1321            299   \n",
       "\n",
       "                                              description  \n",
       "count                                                6234  \n",
       "unique                                               6226  \n",
       "top     A surly septuagenarian gets another chance at ...  \n",
       "freq                                                    3  "
      ]
     },
     "execution_count": 25,
     "metadata": {},
     "output_type": "execute_result"
    }
   ],
   "source": [
    "# Will run it on only object columns\n",
    "df.describe(include='O')"
   ]
  },
  {
   "cell_type": "code",
   "execution_count": 26,
   "metadata": {
    "collapsed": true
   },
   "outputs": [
    {
     "data": {
      "text/html": [
       "<div>\n",
       "<style scoped>\n",
       "    .dataframe tbody tr th:only-of-type {\n",
       "        vertical-align: middle;\n",
       "    }\n",
       "\n",
       "    .dataframe tbody tr th {\n",
       "        vertical-align: top;\n",
       "    }\n",
       "\n",
       "    .dataframe thead th {\n",
       "        text-align: right;\n",
       "    }\n",
       "</style>\n",
       "<table border=\"1\" class=\"dataframe\">\n",
       "  <thead>\n",
       "    <tr style=\"text-align: right;\">\n",
       "      <th></th>\n",
       "      <th>date_added</th>\n",
       "    </tr>\n",
       "  </thead>\n",
       "  <tbody>\n",
       "    <tr>\n",
       "      <th>count</th>\n",
       "      <td>6223</td>\n",
       "    </tr>\n",
       "    <tr>\n",
       "      <th>unique</th>\n",
       "      <td>1189</td>\n",
       "    </tr>\n",
       "    <tr>\n",
       "      <th>top</th>\n",
       "      <td>2020-01-01 00:00:00</td>\n",
       "    </tr>\n",
       "    <tr>\n",
       "      <th>freq</th>\n",
       "      <td>126</td>\n",
       "    </tr>\n",
       "    <tr>\n",
       "      <th>first</th>\n",
       "      <td>2008-01-01 00:00:00</td>\n",
       "    </tr>\n",
       "    <tr>\n",
       "      <th>last</th>\n",
       "      <td>2020-01-18 00:00:00</td>\n",
       "    </tr>\n",
       "  </tbody>\n",
       "</table>\n",
       "</div>"
      ],
      "text/plain": [
       "                 date_added\n",
       "count                  6223\n",
       "unique                 1189\n",
       "top     2020-01-01 00:00:00\n",
       "freq                    126\n",
       "first   2008-01-01 00:00:00\n",
       "last    2020-01-18 00:00:00"
      ]
     },
     "execution_count": 26,
     "metadata": {},
     "output_type": "execute_result"
    }
   ],
   "source": [
    "# Will run it on only date columns\n",
    "df.describe(include='datetime64[ns]')"
   ]
  },
  {
   "cell_type": "code",
   "execution_count": 27,
   "metadata": {
    "collapsed": true
   },
   "outputs": [
    {
     "data": {
      "text/plain": [
       "4292    1925\n",
       "2011    1942\n",
       "2013    1942\n",
       "2022    1943\n",
       "2023    1943\n",
       "        ... \n",
       "3189    2020\n",
       "3180    2020\n",
       "1315    2020\n",
       "3379    2020\n",
       "3464    2020\n",
       "Name: release_year, Length: 6234, dtype: int64"
      ]
     },
     "execution_count": 27,
     "metadata": {},
     "output_type": "execute_result"
    }
   ],
   "source": [
    "df['release_year'].sort_values(ascending=[True])"
   ]
  },
  {
   "cell_type": "code",
   "execution_count": 28,
   "metadata": {
    "collapsed": true
   },
   "outputs": [
    {
     "name": "stdout",
     "output_type": "stream",
     "text": [
      "<class 'pandas.core.frame.DataFrame'>\n",
      "RangeIndex: 6234 entries, 0 to 6233\n",
      "Data columns (total 12 columns):\n",
      " #   Column        Non-Null Count  Dtype         \n",
      "---  ------        --------------  -----         \n",
      " 0   show_id       6234 non-null   int64         \n",
      " 1   type          6234 non-null   object        \n",
      " 2   title         6234 non-null   object        \n",
      " 3   director      4265 non-null   object        \n",
      " 4   cast          5664 non-null   object        \n",
      " 5   country       5758 non-null   object        \n",
      " 6   date_added    6223 non-null   datetime64[ns]\n",
      " 7   release_year  6234 non-null   int64         \n",
      " 8   rating        6224 non-null   object        \n",
      " 9   duration      6234 non-null   object        \n",
      " 10  listed_in     6234 non-null   object        \n",
      " 11  description   6234 non-null   object        \n",
      "dtypes: datetime64[ns](1), int64(2), object(9)\n",
      "memory usage: 584.6+ KB\n"
     ]
    }
   ],
   "source": [
    "df.info()"
   ]
  },
  {
   "cell_type": "code",
   "execution_count": 29,
   "metadata": {
    "collapsed": true
   },
   "outputs": [
    {
     "data": {
      "text/plain": [
       "show_id            0\n",
       "type               0\n",
       "title              0\n",
       "director        1969\n",
       "cast             570\n",
       "country          476\n",
       "date_added        11\n",
       "release_year       0\n",
       "rating            10\n",
       "duration           0\n",
       "listed_in          0\n",
       "description        0\n",
       "dtype: int64"
      ]
     },
     "execution_count": 29,
     "metadata": {},
     "output_type": "execute_result"
    }
   ],
   "source": [
    "df.isnull().sum()"
   ]
  },
  {
   "cell_type": "code",
   "execution_count": 30,
   "metadata": {
    "collapsed": true
   },
   "outputs": [
    {
     "data": {
      "text/plain": [
       "Index(['show_id', 'type', 'title', 'director', 'cast', 'country', 'date_added',\n",
       "       'release_year', 'rating', 'duration', 'listed_in', 'description'],\n",
       "      dtype='object')"
      ]
     },
     "execution_count": 30,
     "metadata": {},
     "output_type": "execute_result"
    }
   ],
   "source": [
    "df.columns"
   ]
  },
  {
   "cell_type": "code",
   "execution_count": 32,
   "metadata": {},
   "outputs": [
    {
     "data": {
      "text/plain": [
       "554"
      ]
     },
     "execution_count": 32,
     "metadata": {},
     "output_type": "execute_result"
    }
   ],
   "source": [
    "df['country'].nunique()"
   ]
  },
  {
   "cell_type": "code",
   "execution_count": 31,
   "metadata": {
    "collapsed": true
   },
   "outputs": [
    {
     "name": "stdout",
     "output_type": "stream",
     "text": [
      "Number of unique country combination is: 554\n"
     ]
    },
    {
     "data": {
      "text/plain": [
       "array(['United States, India, South Korea, China', 'United Kingdom',\n",
       "       'United States', 'Spain', 'Bulgaria, United States, Spain, Canada',\n",
       "       'Chile', 'United States, United Kingdom, Denmark, Sweden', nan,\n",
       "       'Netherlands, Belgium, United Kingdom, United States',\n",
       "       'France, Belgium', 'United States, Uruguay', 'United States,',\n",
       "       'Thailand', 'China, Canada, United States',\n",
       "       'Belgium, United Kingdom, United States', 'Belgium, France',\n",
       "       'India', 'France', 'United States, Canada', 'Pakistan', 'Canada',\n",
       "       'United Kingdom, France', 'United States, United Kingdom',\n",
       "       'South Korea', 'Denmark, United States',\n",
       "       'United Kingdom, United States', 'Turkey, United States', 'Brazil',\n",
       "       'Denmark, France, Italy, Belgium, Netherlands', 'Indonesia',\n",
       "       'China', 'Ireland, United Kingdom', 'Turkey', 'Hong Kong',\n",
       "       'France, Morocco', 'Hong Kong, China', 'Mexico',\n",
       "       'United States, Mexico', 'Vietnam', 'France, Canada',\n",
       "       'Spain, Argentina', 'Nigeria', 'Japan',\n",
       "       'United Kingdom, Canada, United States',\n",
       "       'United Kingdom, France, Germany, Spain',\n",
       "       'United States, Greece, United Kingdom',\n",
       "       'Norway, United Kingdom, France, Ireland',\n",
       "       'France, Switzerland, Spain, United States, United Arab Emirates',\n",
       "       'Canada, United States', 'Canada, United States, United Kingdom',\n",
       "       'United States, United Kingdom, Canada, Japan',\n",
       "       'Japan, Canada, South Korea', 'Lebanon', 'Ireland',\n",
       "       'Cambodia, United States', 'Russia', 'United States, Denmark',\n",
       "       'Poland', 'Israel, United States', 'Italy', 'Netherlands',\n",
       "       'Brazil, United States', 'United States, France',\n",
       "       'Germany, United States, Canada', 'United States, Australia',\n",
       "       'Denmark, Brazil, France, Portugal, Sweden',\n",
       "       'France, United States', 'United Arab Emirates', 'Egypt', 'Taiwan',\n",
       "       'India, Germany, Austria', 'Australia', 'Czech Republic, France',\n",
       "       'United States, Senegal', 'Norway', 'Germany',\n",
       "       'India, Soviet Union', 'Argentina, Spain',\n",
       "       'United States, Hong Kong',\n",
       "       'United Kingdom, Italy, Israel, Peru, United States',\n",
       "       'Argentina, Uruguay, Spain, France',\n",
       "       'Germany, United States, Italy', 'Argentina',\n",
       "       'Pakistan, Norway, United States', 'Switzerland',\n",
       "       'United Kingdom, Ukraine, United States', 'Malaysia',\n",
       "       'Australia, United States', 'Ireland, South Africa',\n",
       "       'China, India, Nepal', 'Czech Republic, United States',\n",
       "       'United Kingdom, Hong Kong', 'United Kingdom, Canada, Italy',\n",
       "       'Spain, France', 'Philippines',\n",
       "       'United Kingdom, India, United States',\n",
       "       'France, Belgium, China, United States', 'Mexico, United States',\n",
       "       'United States, Indonesia', 'United Kingdom, Germany, Canada',\n",
       "       'Russia, Poland, Serbia', 'Serbia, United States',\n",
       "       'Spain, Portugal', 'Colombia', 'United States, Czech Republic',\n",
       "       'United States, United Kingdom, Germany', 'Singapore, Malaysia',\n",
       "       'Canada, Luxembourg', 'United States, Spain, Germany',\n",
       "       'Egypt, Austria, United States', 'Peru',\n",
       "       'United Kingdom, United States, Morocco',\n",
       "       'United States, Bulgaria', 'United Kingdom, West Germany',\n",
       "       'Belgium, Luxembourg, France', 'Mexico, Argentina',\n",
       "       'United Kingdom, Canada, United States, Cayman Islands',\n",
       "       'United States, United Kingdom, Morocco',\n",
       "       'Indonesia, United States', 'South Africa', 'United States, China',\n",
       "       'Netherlands, Denmark, South Africa',\n",
       "       'United Kingdom, Poland, United States', 'New Zealand',\n",
       "       'Venezuela', 'United States, Spain',\n",
       "       'Australia, United Arab Emirates', 'Australia, India',\n",
       "       'India, Malaysia',\n",
       "       'Canada, India, Thailand, United States, United Arab Emirates',\n",
       "       'Italy, France', 'Germany, Jordan, Netherlands',\n",
       "       'Turkey, France, Germany, Poland',\n",
       "       'United States, Israel, United Kingdom, Canada', 'Saudi Arabia',\n",
       "       'Egypt, France', 'Norway, Iceland, United States',\n",
       "       'Denmark, France, Poland', 'United States, Germany, Canada',\n",
       "       'United States, Germany', 'Poland,',\n",
       "       'United States, United Kingdom, Australia', 'Poland, West Germany',\n",
       "       'Germany, United States', 'United Kingdom, France, United States',\n",
       "       'United States, Malta, United Kingdom', 'United States, Sweden',\n",
       "       'India, United States', 'India, Australia',\n",
       "       'France, Canada, Belgium', 'United States, Italy',\n",
       "       'United States, Brazil', 'Canada, Ireland, United States',\n",
       "       'United States, France, Canada, Lebanon, Qatar',\n",
       "       'Switzerland, France', 'France, United Kingdom', 'Norway, Germany',\n",
       "       'United Kingdom, Canada, Japan', 'United States, Russia',\n",
       "       'Chile, United States, France', 'United States, Japan',\n",
       "       'Brazil, France', 'Iceland',\n",
       "       'United States, United Kingdom, Canada', 'Argentina, Chile',\n",
       "       'United Kingdom,', 'China, Hong Kong',\n",
       "       'South Africa, United States, New Zealand, Canada', 'Austria',\n",
       "       'Poland, United States', 'Ireland, Canada',\n",
       "       'Italy, Switzerland, France, Germany', 'Mexico, Netherlands',\n",
       "       'Peru, United States, United Kingdom', 'France, Senegal, Belgium',\n",
       "       'Germany, Canada, United States', 'Canada, Norway',\n",
       "       'China, Morocco, Hong Kong', 'Uruguay',\n",
       "       'United States, United Arab Emirates',\n",
       "       'Spain, Belgium, Switzerland, United States, China, United Kingdom',\n",
       "       'Singapore, United States',\n",
       "       'United Kingdom, Germany, Canada, United States',\n",
       "       'Australia, Canada', 'Australia, France',\n",
       "       'Germany, United Kingdom', 'Italy, United States',\n",
       "       'United States, New Zealand, United Kingdom',\n",
       "       'United Kingdom, Germany, United States',\n",
       "       'United States, Australia, Mexico',\n",
       "       'United States, South Korea, Japan', 'France, Iran, United States',\n",
       "       'United Kingdom, Australia, Canada, United States',\n",
       "       'France, Qatar', 'Finland, Germany, Belgium',\n",
       "       'United States, Spain, Chile, Peru',\n",
       "       'United Arab Emirates, United States, United Kingdom',\n",
       "       'United States, Ireland', 'Australia, Iraq',\n",
       "       'Argentina, United States, Mexico', 'Denmark',\n",
       "       'Germany, France, Russia',\n",
       "       'United States, Italy, United Kingdom, Liechtenstein',\n",
       "       'Hong Kong, United States', 'United States, United Kingdom, Italy',\n",
       "       'United States, France, Canada, Spain', 'Italy, Belgium, France',\n",
       "       'United States, United Kingdom, France', 'United Kingdom, India',\n",
       "       'New Zealand, United Kingdom, Australia',\n",
       "       'United Kingdom, China, United States', 'Pakistan, United States',\n",
       "       'Canada, India', 'India, Canada', 'Singapore',\n",
       "       'United States, Canada, United Kingdom', 'Mexico, France',\n",
       "       'United Kingdom, Belgium, Sweden', 'United States, India',\n",
       "       'Canada, Japan, United States',\n",
       "       'Italy, Switzerland, Albania, Poland', 'Colombia, United States',\n",
       "       'United Kingdom, Thailand', 'Belgium, Netherlands',\n",
       "       'United Kingdom, Israel, Russia', 'United Kingdom, South Africa',\n",
       "       'United States, South Korea, China', 'Cambodia', 'Denmark, Spain',\n",
       "       'Spain, Mexico, France', 'Argentina, Italy',\n",
       "       'United Kingdom, Pakistan',\n",
       "       'Denmark, France, United States, Sweden',\n",
       "       'Colombia, Mexico, United States', 'Czech Republic, Slovakia',\n",
       "       'Chile, Argentina', 'India, Germany, France',\n",
       "       'Spain, France, Uruguay', 'South Korea, Czech Republic',\n",
       "       'Italy, United States, Argentina', 'United States, South Africa',\n",
       "       'Singapore, France',\n",
       "       'United States, Australia, Samoa, United Kingdom',\n",
       "       'Spain, Switzerland', 'United Arab Emirates, Jordan',\n",
       "       'United Kingdom, Canada, France, United States',\n",
       "       'United States, Chile', 'Bulgaria, United States',\n",
       "       'Norway, Germany, Sweden', 'India, Japan',\n",
       "       'Austria, United States', 'Ghana, United States',\n",
       "       'United Kingdom, Spain, United States, Germany',\n",
       "       'United States, Cambodia', 'Mexico, Finland',\n",
       "       'Canada, United States, India, United Kingdom',\n",
       "       'Philippines, Qatar', 'Netherlands, Belgium, Germany, Jordan',\n",
       "       'Venezuela, Colombia',\n",
       "       'Brazil, Netherlands, United States, Colombia, Austria, Germany',\n",
       "       'Austria, Iraq, United States',\n",
       "       'Denmark, United Kingdom, South Africa, Sweden, Belgium',\n",
       "       'United States, Botswana', 'Iran, France',\n",
       "       'United Arab Emirates, United States', 'Belgium',\n",
       "       'United Kingdom, Japan, United States',\n",
       "       'United Arab Emirates, United Kingdom, India',\n",
       "       'United States, Taiwan',\n",
       "       'United Kingdom, United States, Czech Republic', 'Sweden',\n",
       "       'Hungary', 'India, France', 'India, Germany', 'Guatemala',\n",
       "       'Portugal, Spain', 'Taiwan, Hong Kong, United States, China',\n",
       "       'United Kingdom, Malawi', 'Paraguay, Argentina',\n",
       "       'Somalia, Kenya, Sudan, South Africa, United States',\n",
       "       'Germany, Sri Lanka', 'Ukraine', 'Uruguay, Spain, Mexico',\n",
       "       'France, Luxembourg, Canada', 'Spain, France, Italy',\n",
       "       'France, China, Japan, United States',\n",
       "       'United Kingdom, France, Canada, Belgium, United States',\n",
       "       'Colombia, Mexico', 'Dominican Republic',\n",
       "       'South Korea, United States', 'Israel',\n",
       "       'Chile, Argentina, France, Spain, United States', 'Russia, Spain',\n",
       "       'Netherlands, United States', 'Thailand, China, United States',\n",
       "       'United States, Canada, Ireland', 'United States, Iceland',\n",
       "       'Argentina, United States',\n",
       "       'United States, France, United Kingdom, Japan',\n",
       "       'United Kingdom, United States, Australia',\n",
       "       'Germany, United States, Sweden',\n",
       "       'United States, Canada, Japan, Panama', 'Sweden, United States',\n",
       "       'Chile, Peru', 'Israel, Sweden, Germany, Netherlands',\n",
       "       'Lebanon, Jordan', 'Romania',\n",
       "       'Denmark, Sweden, Israel, United States',\n",
       "       'Switzerland, United States',\n",
       "       'Finland, Sweden, Norway, Latvia, Germany',\n",
       "       'France, United Kingdom, India', 'Italy, France, Switzerland',\n",
       "       'France, Luxembourg, United States', 'India, United Kingdom',\n",
       "       'China, Hong Kong, United States', 'Singapore, Japan, France',\n",
       "       'United Kingdom, Poland', 'Philippines, Singapore',\n",
       "       'United States, China, Hong Kong',\n",
       "       'Canada, Mexico, Germany, South Africa',\n",
       "       'United Kingdom, New Zealand',\n",
       "       'United States, Brazil, India, Uganda, China',\n",
       "       'United Kingdom, Germany', 'China, United States, United Kingdom',\n",
       "       'Slovenia, Croatia, Germany, Czech Republic, Qatar',\n",
       "       'Germany, Australia', 'China, United States, Australia',\n",
       "       'Russia, United States',\n",
       "       'Ireland, Canada, United Kingdom, United States',\n",
       "       'Australia, United Kingdom, Canada', 'Canada, Spain, France',\n",
       "       'United Kingdom, Denmark, Canada, Croatia',\n",
       "       'Argentina, France, Germany',\n",
       "       'Switzerland, United Kingdom, United States',\n",
       "       'Argentina, Chile, Peru',\n",
       "       'Germany, France, Luxembourg, United Kingdom, United States',\n",
       "       'Taiwan, China, France, United States', 'Germany, Italy',\n",
       "       'Denmark, United Kingdom',\n",
       "       'Germany, United Kingdom, United States',\n",
       "       'United States, Czech Republic, United Kingdom',\n",
       "       'Hong Kong, Taiwan', 'Croatia, Slovenia, Serbia, Montenegro',\n",
       "       'United States, France, Italy, United Kingdom', 'Bangladesh',\n",
       "       'India, Nepal', 'United Kingdom, Jordan, Qatar, Iran',\n",
       "       'Norway, Denmark, Sweden', 'Iceland, Sweden, Belgium',\n",
       "       'United States, India, United Arab Emirates', 'India, Pakistan',\n",
       "       'Switzerland, Vatican City, Italy, Germany, France',\n",
       "       'Indonesia, Singapore',\n",
       "       'United Kingdom, United States, Spain, Germany, Greece, Canada',\n",
       "       'Spain, Belgium', 'Spain, United Kingdom, United States',\n",
       "       'United States, United Kingdom, France, Germany, Japan',\n",
       "       'United Kingdom, Egypt, United States',\n",
       "       'United States, India, Malaysia, Taiwan, Canada, United Kingdom',\n",
       "       'United Kingdom, Spain, Belgium',\n",
       "       'Germany, United States, United Kingdom, Canada',\n",
       "       'Soviet Union, India',\n",
       "       'Ireland, United Kingdom, Italy, United States',\n",
       "       'Austria, Czech Republic', 'United Kingdom, Ireland',\n",
       "       'United States, Greece, Brazil', 'Lebanon, Qatar',\n",
       "       'Italy, South Africa, West Germany, Australia, United States',\n",
       "       'United Kingdom, United States, Dominican Republic',\n",
       "       'Brazil, India, China, United States',\n",
       "       'Indonesia, South Korea, Singapore',\n",
       "       'United States, Canada, France', 'Brazil, France, Germany',\n",
       "       'United States, France, Mexico', 'United States, South Korea',\n",
       "       'United States, Canada, Germany', 'Mexico, Spain',\n",
       "       'Germany, France, United States, Canada, United Kingdom',\n",
       "       'Australia, United Kingdom',\n",
       "       'United States, Germany, United Kingdom',\n",
       "       'United States, Germany, United Kingdom, Italy',\n",
       "       'New Zealand, United States', 'United States, Germany, Mexico',\n",
       "       'South Africa, United States',\n",
       "       'United States, East Germany, West Germany',\n",
       "       'France, United States, Mexico', 'United Kingdom, Brazil, Germany',\n",
       "       'United States, India, Bangladesh', 'Germany, Belgium',\n",
       "       'Canada, France, Italy, Morocco, United States',\n",
       "       'Denmark, Germany, Belgium, United Kingdom, France',\n",
       "       'Belgium, Ireland, Netherlands, Germany, Afghanistan',\n",
       "       'United States, Venezuela', 'Canada, United Kingdom, Netherlands',\n",
       "       'United States, France, Japan', 'United States, New Zealand',\n",
       "       'United States, New Zealand, Japan',\n",
       "       'United States, Netherlands, Japan, France',\n",
       "       'France, United States, Canada', 'United Kingdom, Canada',\n",
       "       'Georgia', 'New Zealand, United Kingdom', 'Italy, India',\n",
       "       'Belgium, India, Australia',\n",
       "       'United States, Canada, Belgium, United Kingdom',\n",
       "       'United States, Spain, Italy', 'Serbia, South Korea, Slovenia',\n",
       "       'France, Netherlands, South Africa, Finland',\n",
       "       'China, United States',\n",
       "       'Denmark, Indonesia, Finland, Norway, United Kingdom, Israel, France, United States, Germany, Netherlands',\n",
       "       'Netherlands, Denmark, France, Germany',\n",
       "       'Ireland, Canada, Luxembourg, United States',\n",
       "       'Spain, Italy, Argentina',\n",
       "       'United States, Israel, Italy, South Africa',\n",
       "       'United Kingdom, United States, Russia',\n",
       "       'United Kingdom, France, Germany',\n",
       "       'Czech Republic, United Kingdom, France',\n",
       "       'Chile, Spain, Argentina, Germany',\n",
       "       'Australia, United Kingdom, United States, New Zealand, Italy, France',\n",
       "       'United Kingdom, Namibia, South Africa, Zimbabwe, United States',\n",
       "       'France, Germany, Switzerland', 'West Germany',\n",
       "       'United Kingdom, United States, France, Germany', 'Denmark, China',\n",
       "       'France, Germany, Czech Republic, Belgium',\n",
       "       'South Africa, Germany, Netherlands, France',\n",
       "       'China, South Korea, United States', 'Spain, Cuba',\n",
       "       'United States, Hungary', 'France, Germany', 'Israel, Germany',\n",
       "       'South Korea, Canada, United States, China',\n",
       "       'Italy, Canada, France', 'Thailand, United States',\n",
       "       'Japan, United States', 'Uruguay, Argentina, Spain',\n",
       "       'Sweden, Netherlands', 'Argentina, Uruguay, Serbia',\n",
       "       'France, Poland', 'Turkey, Azerbaijan', 'France, Japan',\n",
       "       'Australia, United Kingdom, United Arab Emirates, Canada',\n",
       "       'Ireland, United Kingdom, United States',\n",
       "       'Mauritius, South Africa',\n",
       "       'United Kingdom, Italy, Argentina, United States',\n",
       "       'France, South Korea, Japan', 'Australia, France, Ireland',\n",
       "       'Ireland, United Kingdom, Greece, France, Netherlands',\n",
       "       'Canada, Germany, South Africa', 'Thailand, Canada, United States',\n",
       "       'United Kingdom, United States, Germany, Denmark, Belgium, Japan',\n",
       "       'Canada, Germany, France, United States', 'Ghana',\n",
       "       'United States, Nicaragua', 'South Korea, China, United States',\n",
       "       'Israel, Germany, France', 'Brazil, Canada',\n",
       "       'Canada, France, United States', 'Canada, Japan, Netherlands',\n",
       "       'United Kingdom, India, Sweden',\n",
       "       'India, United Kingdom, Canada, United States',\n",
       "       'Sweden, United Kingdom, Finland', 'Romania, Bulgaria, Hungary',\n",
       "       'Norway, Denmark, Netherlands, Sweden',\n",
       "       'Hong Kong, China, United States', 'Canada, France',\n",
       "       'India, Mexico', 'Georgia, Germany, France', 'India, Switzerland',\n",
       "       'United Arab Emirates, Romania', 'United States, Kazakhstan',\n",
       "       'Malaysia, Singapore, Hong Kong', 'France, China, Canada',\n",
       "       'China, Japan', 'United Kingdom, France, Belgium, United States',\n",
       "       'China, United Kingdom', 'Spain, Germany', 'Canada, Spain',\n",
       "       'France, Belgium, Spain',\n",
       "       'Denmark, Germany, Belgium, United Kingdom, France, Sweden',\n",
       "       'China, Taiwan',\n",
       "       'Israel, Germany, Poland, Luxembourg, Belgium, France, United States',\n",
       "       'Finland, Germany', 'India, Turkey',\n",
       "       'United Kingdom, France, Belgium', 'Spain, Mexico',\n",
       "       'Australia, Armenia, Japan, Jordan, Mexico, Mongolia, New Zealand, Philippines, South Africa, Sweden, United States, Uruguay',\n",
       "       'United States, Argentina', 'United States, Bermuda, Ecuador',\n",
       "       'India, Iran', 'United Kingdom, South Korea',\n",
       "       'United States, Germany, Australia', 'Argentina, France',\n",
       "       'Germany, United States, Hong Kong, Singapore', 'Chile, France',\n",
       "       'South Africa, China, United States', 'Netherlands, Belgium',\n",
       "       'United States, Morocco', 'Spain, Colombia',\n",
       "       'United Kingdom, South Africa, Australia, United States',\n",
       "       'Bulgaria', 'Turkey, India', 'Italy, Turkey',\n",
       "       'Saudi Arabia, Syria, Egypt, Lebanon, Kuwait',\n",
       "       'Hong Kong, China, Singapore',\n",
       "       'Canada, United Kingdom, United States',\n",
       "       'United States, Australia, China', 'Australia, New Zealand',\n",
       "       'United Kingdom, Norway, Denmark, Germany, Sweden',\n",
       "       'South Africa, United States, Germany', 'Denmark, Zimbabwe',\n",
       "       'United States, Australia, South Africa, United Kingdom',\n",
       "       'China, Germany, India, United States',\n",
       "       'United Kingdom, United States, Greece, Italy, Germany',\n",
       "       'Portugal, France, Poland, United States',\n",
       "       'United Kingdom, China, Canada, Indonesia, Singapore, United States',\n",
       "       'United Kingdom, Singapore', 'France, Netherlands, Singapore',\n",
       "       'Ireland, United States, France', 'Pakistan, United Arab Emirates',\n",
       "       'Argentina, Brazil, France, Poland, Germany, Denmark',\n",
       "       'United States, United Kingdom, Spain, South Korea',\n",
       "       'United Kingdom, Italy, France, United States',\n",
       "       'United Kingdom, Russia',\n",
       "       'United States, France, South Korea, Indonesia',\n",
       "       'United States, Colombia, Mexico',\n",
       "       'United States, Ireland, United Kingdom',\n",
       "       'Australia, New Zealand, United States',\n",
       "       'France, United Kingdom, United States',\n",
       "       'United States, France, Canada', 'Canada, United Kingdom',\n",
       "       'United States, Spain, Colombia, Mexico', 'Norway, United States',\n",
       "       'Canada, Australia', 'United States, Mexico, Spain, Malta',\n",
       "       'United States, Japan, Canada', 'Canada, Brazil',\n",
       "       'Canada, United States, France', 'South Korea, France',\n",
       "       'Japan, Canada', 'Finland',\n",
       "       'Ireland, Canada, United States, United Kingdom',\n",
       "       'Italy, United Kingdom, France', 'United States, Colombia',\n",
       "       'Spain, United Kingdom', 'Netherlands, Germany, Italy, Canada',\n",
       "       'Croatia', 'Finland, France',\n",
       "       'Denmark, Singapore, Canada, United States',\n",
       "       'United States, Hungary, Ireland, Canada', 'Norway, Sweden',\n",
       "       'United States, Mexico, Colombia',\n",
       "       'United States, Brazil, South Korea, Mexico, Japan, Germany',\n",
       "       'Italy, Germany', 'Cyprus, Austria, Thailand'], dtype=object)"
      ]
     },
     "execution_count": 31,
     "metadata": {},
     "output_type": "execute_result"
    }
   ],
   "source": [
    "df['country'].unique()"
   ]
  },
  {
   "cell_type": "code",
   "execution_count": 60,
   "metadata": {
    "collapsed": true
   },
   "outputs": [
    {
     "data": {
      "text/plain": [
       "0      Movie\n",
       "1      Movie\n",
       "2    TV Show\n",
       "3    TV Show\n",
       "4      Movie\n",
       "Name: type, dtype: object"
      ]
     },
     "execution_count": 60,
     "metadata": {},
     "output_type": "execute_result"
    }
   ],
   "source": [
    "df['type'].head()"
   ]
  },
  {
   "cell_type": "code",
   "execution_count": 56,
   "metadata": {
    "collapsed": true
   },
   "outputs": [
    {
     "data": {
      "text/html": [
       "<div>\n",
       "<style scoped>\n",
       "    .dataframe tbody tr th:only-of-type {\n",
       "        vertical-align: middle;\n",
       "    }\n",
       "\n",
       "    .dataframe tbody tr th {\n",
       "        vertical-align: top;\n",
       "    }\n",
       "\n",
       "    .dataframe thead th {\n",
       "        text-align: right;\n",
       "    }\n",
       "</style>\n",
       "<table border=\"1\" class=\"dataframe\">\n",
       "  <thead>\n",
       "    <tr style=\"text-align: right;\">\n",
       "      <th></th>\n",
       "      <th>type</th>\n",
       "    </tr>\n",
       "  </thead>\n",
       "  <tbody>\n",
       "    <tr>\n",
       "      <th>0</th>\n",
       "      <td>Movie</td>\n",
       "    </tr>\n",
       "    <tr>\n",
       "      <th>1</th>\n",
       "      <td>Movie</td>\n",
       "    </tr>\n",
       "    <tr>\n",
       "      <th>2</th>\n",
       "      <td>TV Show</td>\n",
       "    </tr>\n",
       "    <tr>\n",
       "      <th>3</th>\n",
       "      <td>TV Show</td>\n",
       "    </tr>\n",
       "    <tr>\n",
       "      <th>4</th>\n",
       "      <td>Movie</td>\n",
       "    </tr>\n",
       "    <tr>\n",
       "      <th>...</th>\n",
       "      <td>...</td>\n",
       "    </tr>\n",
       "    <tr>\n",
       "      <th>6229</th>\n",
       "      <td>TV Show</td>\n",
       "    </tr>\n",
       "    <tr>\n",
       "      <th>6230</th>\n",
       "      <td>TV Show</td>\n",
       "    </tr>\n",
       "    <tr>\n",
       "      <th>6231</th>\n",
       "      <td>Movie</td>\n",
       "    </tr>\n",
       "    <tr>\n",
       "      <th>6232</th>\n",
       "      <td>TV Show</td>\n",
       "    </tr>\n",
       "    <tr>\n",
       "      <th>6233</th>\n",
       "      <td>TV Show</td>\n",
       "    </tr>\n",
       "  </tbody>\n",
       "</table>\n",
       "<p>6234 rows × 1 columns</p>\n",
       "</div>"
      ],
      "text/plain": [
       "         type\n",
       "0       Movie\n",
       "1       Movie\n",
       "2     TV Show\n",
       "3     TV Show\n",
       "4       Movie\n",
       "...       ...\n",
       "6229  TV Show\n",
       "6230  TV Show\n",
       "6231    Movie\n",
       "6232  TV Show\n",
       "6233  TV Show\n",
       "\n",
       "[6234 rows x 1 columns]"
      ]
     },
     "execution_count": 56,
     "metadata": {},
     "output_type": "execute_result"
    }
   ],
   "source": [
    "df[['type']]"
   ]
  },
  {
   "cell_type": "code",
   "execution_count": 39,
   "metadata": {},
   "outputs": [
    {
     "data": {
      "text/plain": [
       "pandas.core.frame.DataFrame"
      ]
     },
     "execution_count": 39,
     "metadata": {},
     "output_type": "execute_result"
    }
   ],
   "source": [
    "type(df)"
   ]
  },
  {
   "cell_type": "code",
   "execution_count": 35,
   "metadata": {
    "scrolled": true
   },
   "outputs": [
    {
     "data": {
      "text/plain": [
       "0      Movie\n",
       "2    TV Show\n",
       "Name: type, dtype: object"
      ]
     },
     "execution_count": 35,
     "metadata": {},
     "output_type": "execute_result"
    }
   ],
   "source": [
    "df['type'].drop_duplicates()"
   ]
  },
  {
   "cell_type": "code",
   "execution_count": 37,
   "metadata": {},
   "outputs": [
    {
     "data": {
      "text/plain": [
       "2020"
      ]
     },
     "execution_count": 37,
     "metadata": {},
     "output_type": "execute_result"
    }
   ],
   "source": [
    "df['release_year'].max()"
   ]
  },
  {
   "cell_type": "code",
   "execution_count": 36,
   "metadata": {},
   "outputs": [
    {
     "data": {
      "text/plain": [
       "2016.0"
      ]
     },
     "execution_count": 36,
     "metadata": {},
     "output_type": "execute_result"
    }
   ],
   "source": [
    "df['release_year'].median()"
   ]
  },
  {
   "cell_type": "markdown",
   "metadata": {},
   "source": [
    "**3.2 Practice** Using the describe method answer the following questions:\n",
    "- What date had the most number of movies added?\n",
    "- What is the oldest release date for movie or tv show?\n",
    "- Are there movies with the same description text?\n",
    "\n",
    "**3.3 Practice** What are the 3 directors with highest number of shows in netflix."
   ]
  },
  {
   "cell_type": "markdown",
   "metadata": {},
   "source": [
    "# 4. Filtering Data <a class=\"anchor\" id=\"filtdata\"></a> \n",
    "To understand this we will need to learn about.\n",
    " - Panda series<br />\n",
    "   Similar to a column in excel, is a one dimentional array with a single data type.   \n",
    " - Using a boolean mask on a Panda Series<br />\n",
    "   We can create boolean list with the same lenght as the series to filter the panda series \n",
    "   using the [] acessor.\n",
    " - Using a Boolean mask on a Pandas DataFrame<br />"
   ]
  },
  {
   "cell_type": "code",
   "execution_count": 61,
   "metadata": {
    "collapsed": true
   },
   "outputs": [
    {
     "name": "stdout",
     "output_type": "stream",
     "text": [
      "<class 'pandas.core.series.Series'>\n",
      "----------------------\n",
      "0    2019\n",
      "1    2016\n",
      "2    2013\n",
      "3    2016\n",
      "4    2017\n",
      "Name: release_year, dtype: int64\n"
     ]
    }
   ],
   "source": [
    "my_series = df['release_year'].head()\n",
    "\n",
    "print(type(df['release_year']))\n",
    "print('----------------------')\n",
    "print(my_series)"
   ]
  },
  {
   "cell_type": "code",
   "execution_count": 62,
   "metadata": {},
   "outputs": [
    {
     "data": {
      "text/plain": [
       "0    2019\n",
       "1    2016\n",
       "2    2013\n",
       "3    2016\n",
       "4    2017\n",
       "Name: release_year, dtype: int64"
      ]
     },
     "execution_count": 62,
     "metadata": {},
     "output_type": "execute_result"
    }
   ],
   "source": [
    "my_series = df['release_year'].head()\n",
    "my_series"
   ]
  },
  {
   "cell_type": "code",
   "execution_count": 65,
   "metadata": {},
   "outputs": [
    {
     "data": {
      "text/plain": [
       "0    2019\n",
       "Name: release_year, dtype: int64"
      ]
     },
     "execution_count": 65,
     "metadata": {},
     "output_type": "execute_result"
    }
   ],
   "source": [
    "# We can create boolean list with the same lenght as the series to filter the panda series.\n",
    "bool_mask = [True, False, False, False, False]\n",
    "\n",
    "# Using \n",
    "my_series[bool_mask]"
   ]
  },
  {
   "cell_type": "code",
   "execution_count": 66,
   "metadata": {},
   "outputs": [
    {
     "data": {
      "text/plain": [
       "0     True\n",
       "1    False\n",
       "2    False\n",
       "3    False\n",
       "4     True\n",
       "Name: release_year, dtype: bool"
      ]
     },
     "execution_count": 66,
     "metadata": {},
     "output_type": "execute_result"
    }
   ],
   "source": [
    "my_series > 2016"
   ]
  },
  {
   "cell_type": "code",
   "execution_count": 67,
   "metadata": {},
   "outputs": [
    {
     "data": {
      "text/plain": [
       "0    2019\n",
       "4    2017\n",
       "Name: release_year, dtype: int64"
      ]
     },
     "execution_count": 67,
     "metadata": {},
     "output_type": "execute_result"
    }
   ],
   "source": [
    "my_series[my_series > 2016] # Yields the same results."
   ]
  },
  {
   "cell_type": "code",
   "execution_count": 68,
   "metadata": {
    "collapsed": true
   },
   "outputs": [
    {
     "name": "stdout",
     "output_type": "stream",
     "text": [
      "0        True\n",
      "1       False\n",
      "2       False\n",
      "3       False\n",
      "4        True\n",
      "        ...  \n",
      "6229    False\n",
      "6230    False\n",
      "6231    False\n",
      "6232    False\n",
      "6233    False\n",
      "Name: release_year, Length: 6234, dtype: bool\n"
     ]
    }
   ],
   "source": [
    "# The same can be done in the dataframe, \n",
    "# First we create a boolean mask based on a column for example\n",
    "my_mask = df['release_year'] > 2016\n",
    "print(my_mask)"
   ]
  },
  {
   "cell_type": "code",
   "execution_count": 73,
   "metadata": {},
   "outputs": [
    {
     "data": {
      "text/plain": [
       "array([2019, 2017, 2018, 2020], dtype=int64)"
      ]
     },
     "execution_count": 73,
     "metadata": {},
     "output_type": "execute_result"
    }
   ],
   "source": [
    "# Second use the [] acessor to filter the data frame\n",
    "df[(df['release_year'] > 2016)]['release_year'].unique()"
   ]
  },
  {
   "cell_type": "code",
   "execution_count": 76,
   "metadata": {
    "collapsed": true
   },
   "outputs": [
    {
     "data": {
      "text/html": [
       "<div>\n",
       "<style scoped>\n",
       "    .dataframe tbody tr th:only-of-type {\n",
       "        vertical-align: middle;\n",
       "    }\n",
       "\n",
       "    .dataframe tbody tr th {\n",
       "        vertical-align: top;\n",
       "    }\n",
       "\n",
       "    .dataframe thead th {\n",
       "        text-align: right;\n",
       "    }\n",
       "</style>\n",
       "<table border=\"1\" class=\"dataframe\">\n",
       "  <thead>\n",
       "    <tr style=\"text-align: right;\">\n",
       "      <th></th>\n",
       "      <th>show_id</th>\n",
       "      <th>type</th>\n",
       "      <th>title</th>\n",
       "      <th>director</th>\n",
       "      <th>cast</th>\n",
       "      <th>country</th>\n",
       "      <th>date_added</th>\n",
       "      <th>release_year</th>\n",
       "      <th>rating</th>\n",
       "      <th>duration</th>\n",
       "      <th>listed_in</th>\n",
       "      <th>description</th>\n",
       "    </tr>\n",
       "  </thead>\n",
       "  <tbody>\n",
       "    <tr>\n",
       "      <th>369</th>\n",
       "      <td>70208520</td>\n",
       "      <td>TV Show</td>\n",
       "      <td>High Risk</td>\n",
       "      <td>NaN</td>\n",
       "      <td>NaN</td>\n",
       "      <td>United States</td>\n",
       "      <td>2017-09-01</td>\n",
       "      <td>1988</td>\n",
       "      <td>TV-G</td>\n",
       "      <td>1 Season</td>\n",
       "      <td>Docuseries, Reality TV</td>\n",
       "      <td>From scientists to snake handlers, this series...</td>\n",
       "    </tr>\n",
       "    <tr>\n",
       "      <th>989</th>\n",
       "      <td>70206821</td>\n",
       "      <td>Movie</td>\n",
       "      <td>A Stoning in Fulham County</td>\n",
       "      <td>Larry Elikann</td>\n",
       "      <td>Ken Olin, Jill Eikenberry, Maureen Mueller, Gr...</td>\n",
       "      <td>United States</td>\n",
       "      <td>2011-10-01</td>\n",
       "      <td>1988</td>\n",
       "      <td>NR</td>\n",
       "      <td>95 min</td>\n",
       "      <td>Dramas</td>\n",
       "      <td>After reckless teens kill an Amish child, a pr...</td>\n",
       "    </tr>\n",
       "    <tr>\n",
       "      <th>993</th>\n",
       "      <td>70206819</td>\n",
       "      <td>Movie</td>\n",
       "      <td>Quiet Victory: The Charlie Wedemeyer Story</td>\n",
       "      <td>Roy Campanella II</td>\n",
       "      <td>Pam Dawber, Michael Nouri, Bess Meyer, Peter B...</td>\n",
       "      <td>United States</td>\n",
       "      <td>2011-10-01</td>\n",
       "      <td>1988</td>\n",
       "      <td>TV-PG</td>\n",
       "      <td>93 min</td>\n",
       "      <td>Dramas, Sports Movies</td>\n",
       "      <td>When high school football coach Charlie Wedeme...</td>\n",
       "    </tr>\n",
       "    <tr>\n",
       "      <th>996</th>\n",
       "      <td>70206823</td>\n",
       "      <td>Movie</td>\n",
       "      <td>Too Young the Hero</td>\n",
       "      <td>Buzz Kulik</td>\n",
       "      <td>Ricky Schroder, Jon DeVries, Debra Mooney, Mar...</td>\n",
       "      <td>United States</td>\n",
       "      <td>2011-10-01</td>\n",
       "      <td>1988</td>\n",
       "      <td>NR</td>\n",
       "      <td>94 min</td>\n",
       "      <td>Dramas</td>\n",
       "      <td>Twelve-year-old Calvin manages to join the nav...</td>\n",
       "    </tr>\n",
       "    <tr>\n",
       "      <th>1428</th>\n",
       "      <td>60003961</td>\n",
       "      <td>Movie</td>\n",
       "      <td>Thelonious Monk: Straight, No Chaser</td>\n",
       "      <td>Charlotte Zwerin</td>\n",
       "      <td>Thelonious Monk, Samuel E. Wright</td>\n",
       "      <td>United States</td>\n",
       "      <td>2019-11-01</td>\n",
       "      <td>1988</td>\n",
       "      <td>PG-13</td>\n",
       "      <td>89 min</td>\n",
       "      <td>Documentaries, Music &amp; Musicals</td>\n",
       "      <td>The spotlight shines on iconic jazz pianist an...</td>\n",
       "    </tr>\n",
       "    <tr>\n",
       "      <th>3071</th>\n",
       "      <td>60029369</td>\n",
       "      <td>Movie</td>\n",
       "      <td>Rain Man</td>\n",
       "      <td>Barry Levinson</td>\n",
       "      <td>Dustin Hoffman, Tom Cruise, Valeria Golino, Ge...</td>\n",
       "      <td>United States</td>\n",
       "      <td>2019-07-01</td>\n",
       "      <td>1988</td>\n",
       "      <td>R</td>\n",
       "      <td>134 min</td>\n",
       "      <td>Classic Movies, Dramas</td>\n",
       "      <td>A fast-talking yuppie is forced to slow down w...</td>\n",
       "    </tr>\n",
       "    <tr>\n",
       "      <th>3584</th>\n",
       "      <td>60001807</td>\n",
       "      <td>Movie</td>\n",
       "      <td>The Naked Gun: From the Files of Police Squad!</td>\n",
       "      <td>David Zucker</td>\n",
       "      <td>Leslie Nielsen, Priscilla Presley, Ricardo Mon...</td>\n",
       "      <td>United States</td>\n",
       "      <td>2020-01-01</td>\n",
       "      <td>1988</td>\n",
       "      <td>PG-13</td>\n",
       "      <td>85 min</td>\n",
       "      <td>Comedies, Cult Movies</td>\n",
       "      <td>In this slapstick comedy classic, hapless cop ...</td>\n",
       "    </tr>\n",
       "    <tr>\n",
       "      <th>4187</th>\n",
       "      <td>372195</td>\n",
       "      <td>Movie</td>\n",
       "      <td>Child's Play</td>\n",
       "      <td>Tom Holland</td>\n",
       "      <td>Catherine Hicks, Alex Vincent, Brad Dourif, Ch...</td>\n",
       "      <td>United States</td>\n",
       "      <td>2019-12-31</td>\n",
       "      <td>1988</td>\n",
       "      <td>R</td>\n",
       "      <td>87 min</td>\n",
       "      <td>Cult Movies, Horror Movies</td>\n",
       "      <td>When a rash of murders unfolds, 6-year-old And...</td>\n",
       "    </tr>\n",
       "    <tr>\n",
       "      <th>4456</th>\n",
       "      <td>80023921</td>\n",
       "      <td>Movie</td>\n",
       "      <td>Pee-wee's Playhouse: Christmas Special</td>\n",
       "      <td>Paul Reubens, Wayne Orr</td>\n",
       "      <td>Paul Reubens, Annette Funicello, Frankie Avalo...</td>\n",
       "      <td>United States</td>\n",
       "      <td>2014-12-18</td>\n",
       "      <td>1988</td>\n",
       "      <td>TV-PG</td>\n",
       "      <td>48 min</td>\n",
       "      <td>Movies</td>\n",
       "      <td>Amid an avalanche of stars, Pee-wee straps on ...</td>\n",
       "    </tr>\n",
       "    <tr>\n",
       "      <th>5774</th>\n",
       "      <td>70157402</td>\n",
       "      <td>TV Show</td>\n",
       "      <td>Highway to Heaven</td>\n",
       "      <td>NaN</td>\n",
       "      <td>Michael Landon, Victor French</td>\n",
       "      <td>United States</td>\n",
       "      <td>2016-11-01</td>\n",
       "      <td>1988</td>\n",
       "      <td>TV-PG</td>\n",
       "      <td>5 Seasons</td>\n",
       "      <td>TV Dramas</td>\n",
       "      <td>Under God's direction, angel Jonathan and ex-c...</td>\n",
       "    </tr>\n",
       "  </tbody>\n",
       "</table>\n",
       "</div>"
      ],
      "text/plain": [
       "       show_id     type                                           title  \\\n",
       "369   70208520  TV Show                                       High Risk   \n",
       "989   70206821    Movie                      A Stoning in Fulham County   \n",
       "993   70206819    Movie      Quiet Victory: The Charlie Wedemeyer Story   \n",
       "996   70206823    Movie                              Too Young the Hero   \n",
       "1428  60003961    Movie            Thelonious Monk: Straight, No Chaser   \n",
       "3071  60029369    Movie                                        Rain Man   \n",
       "3584  60001807    Movie  The Naked Gun: From the Files of Police Squad!   \n",
       "4187    372195    Movie                                    Child's Play   \n",
       "4456  80023921    Movie          Pee-wee's Playhouse: Christmas Special   \n",
       "5774  70157402  TV Show                               Highway to Heaven   \n",
       "\n",
       "                     director  \\\n",
       "369                       NaN   \n",
       "989             Larry Elikann   \n",
       "993         Roy Campanella II   \n",
       "996                Buzz Kulik   \n",
       "1428         Charlotte Zwerin   \n",
       "3071           Barry Levinson   \n",
       "3584             David Zucker   \n",
       "4187              Tom Holland   \n",
       "4456  Paul Reubens, Wayne Orr   \n",
       "5774                      NaN   \n",
       "\n",
       "                                                   cast        country  \\\n",
       "369                                                 NaN  United States   \n",
       "989   Ken Olin, Jill Eikenberry, Maureen Mueller, Gr...  United States   \n",
       "993   Pam Dawber, Michael Nouri, Bess Meyer, Peter B...  United States   \n",
       "996   Ricky Schroder, Jon DeVries, Debra Mooney, Mar...  United States   \n",
       "1428                  Thelonious Monk, Samuel E. Wright  United States   \n",
       "3071  Dustin Hoffman, Tom Cruise, Valeria Golino, Ge...  United States   \n",
       "3584  Leslie Nielsen, Priscilla Presley, Ricardo Mon...  United States   \n",
       "4187  Catherine Hicks, Alex Vincent, Brad Dourif, Ch...  United States   \n",
       "4456  Paul Reubens, Annette Funicello, Frankie Avalo...  United States   \n",
       "5774                      Michael Landon, Victor French  United States   \n",
       "\n",
       "     date_added  release_year rating   duration  \\\n",
       "369  2017-09-01          1988   TV-G   1 Season   \n",
       "989  2011-10-01          1988     NR     95 min   \n",
       "993  2011-10-01          1988  TV-PG     93 min   \n",
       "996  2011-10-01          1988     NR     94 min   \n",
       "1428 2019-11-01          1988  PG-13     89 min   \n",
       "3071 2019-07-01          1988      R    134 min   \n",
       "3584 2020-01-01          1988  PG-13     85 min   \n",
       "4187 2019-12-31          1988      R     87 min   \n",
       "4456 2014-12-18          1988  TV-PG     48 min   \n",
       "5774 2016-11-01          1988  TV-PG  5 Seasons   \n",
       "\n",
       "                            listed_in  \\\n",
       "369            Docuseries, Reality TV   \n",
       "989                            Dramas   \n",
       "993             Dramas, Sports Movies   \n",
       "996                            Dramas   \n",
       "1428  Documentaries, Music & Musicals   \n",
       "3071           Classic Movies, Dramas   \n",
       "3584            Comedies, Cult Movies   \n",
       "4187       Cult Movies, Horror Movies   \n",
       "4456                           Movies   \n",
       "5774                        TV Dramas   \n",
       "\n",
       "                                            description  \n",
       "369   From scientists to snake handlers, this series...  \n",
       "989   After reckless teens kill an Amish child, a pr...  \n",
       "993   When high school football coach Charlie Wedeme...  \n",
       "996   Twelve-year-old Calvin manages to join the nav...  \n",
       "1428  The spotlight shines on iconic jazz pianist an...  \n",
       "3071  A fast-talking yuppie is forced to slow down w...  \n",
       "3584  In this slapstick comedy classic, hapless cop ...  \n",
       "4187  When a rash of murders unfolds, 6-year-old And...  \n",
       "4456  Amid an avalanche of stars, Pee-wee straps on ...  \n",
       "5774  Under God's direction, angel Jonathan and ex-c...  "
      ]
     },
     "execution_count": 76,
     "metadata": {},
     "output_type": "execute_result"
    }
   ],
   "source": [
    "# filtering data frame with multiple conditions\n",
    "df[(df['country']=='United States')\n",
    "    & (df['release_year'] == 1988)]"
   ]
  },
  {
   "cell_type": "code",
   "execution_count": 77,
   "metadata": {
    "collapsed": true
   },
   "outputs": [
    {
     "data": {
      "text/html": [
       "<div>\n",
       "<style scoped>\n",
       "    .dataframe tbody tr th:only-of-type {\n",
       "        vertical-align: middle;\n",
       "    }\n",
       "\n",
       "    .dataframe tbody tr th {\n",
       "        vertical-align: top;\n",
       "    }\n",
       "\n",
       "    .dataframe thead th {\n",
       "        text-align: right;\n",
       "    }\n",
       "</style>\n",
       "<table border=\"1\" class=\"dataframe\">\n",
       "  <thead>\n",
       "    <tr style=\"text-align: right;\">\n",
       "      <th></th>\n",
       "      <th>show_id</th>\n",
       "      <th>type</th>\n",
       "      <th>title</th>\n",
       "      <th>director</th>\n",
       "      <th>cast</th>\n",
       "      <th>country</th>\n",
       "      <th>date_added</th>\n",
       "      <th>release_year</th>\n",
       "      <th>rating</th>\n",
       "      <th>duration</th>\n",
       "      <th>listed_in</th>\n",
       "      <th>description</th>\n",
       "    </tr>\n",
       "  </thead>\n",
       "  <tbody>\n",
       "    <tr>\n",
       "      <th>1989</th>\n",
       "      <td>80224924</td>\n",
       "      <td>Movie</td>\n",
       "      <td>Expedition China</td>\n",
       "      <td>Ben Wallis</td>\n",
       "      <td>Maggie Q</td>\n",
       "      <td>NaN</td>\n",
       "      <td>2018-03-04</td>\n",
       "      <td>2017</td>\n",
       "      <td>G</td>\n",
       "      <td>78 min</td>\n",
       "      <td>Documentaries</td>\n",
       "      <td>Cinematographers visit the remote forests and ...</td>\n",
       "    </tr>\n",
       "    <tr>\n",
       "      <th>5703</th>\n",
       "      <td>80171004</td>\n",
       "      <td>TV Show</td>\n",
       "      <td>Noddy Toyland Detective</td>\n",
       "      <td>NaN</td>\n",
       "      <td>NaN</td>\n",
       "      <td>France, United Kingdom, United States</td>\n",
       "      <td>2017-10-01</td>\n",
       "      <td>2016</td>\n",
       "      <td>TV-Y</td>\n",
       "      <td>2 Seasons</td>\n",
       "      <td>Kids' TV</td>\n",
       "      <td>Toyland’s boy detective, Noddy, solves mysteri...</td>\n",
       "    </tr>\n",
       "  </tbody>\n",
       "</table>\n",
       "</div>"
      ],
      "text/plain": [
       "       show_id     type                    title    director      cast  \\\n",
       "1989  80224924    Movie         Expedition China  Ben Wallis  Maggie Q   \n",
       "5703  80171004  TV Show  Noddy Toyland Detective         NaN       NaN   \n",
       "\n",
       "                                    country date_added  release_year rating  \\\n",
       "1989                                    NaN 2018-03-04          2017      G   \n",
       "5703  France, United Kingdom, United States 2017-10-01          2016   TV-Y   \n",
       "\n",
       "       duration      listed_in  \\\n",
       "1989     78 min  Documentaries   \n",
       "5703  2 Seasons       Kids' TV   \n",
       "\n",
       "                                            description  \n",
       "1989  Cinematographers visit the remote forests and ...  \n",
       "5703  Toyland’s boy detective, Noddy, solves mysteri...  "
      ]
     },
     "execution_count": 77,
     "metadata": {},
     "output_type": "execute_result"
    }
   ],
   "source": [
    "# filtering data frame with multiple conditions\n",
    "df[(df['description'].str.contains('panda'))]"
   ]
  },
  {
   "cell_type": "code",
   "execution_count": 79,
   "metadata": {
    "collapsed": true
   },
   "outputs": [
    {
     "data": {
      "text/html": [
       "<div>\n",
       "<style scoped>\n",
       "    .dataframe tbody tr th:only-of-type {\n",
       "        vertical-align: middle;\n",
       "    }\n",
       "\n",
       "    .dataframe tbody tr th {\n",
       "        vertical-align: top;\n",
       "    }\n",
       "\n",
       "    .dataframe thead th {\n",
       "        text-align: right;\n",
       "    }\n",
       "</style>\n",
       "<table border=\"1\" class=\"dataframe\">\n",
       "  <thead>\n",
       "    <tr style=\"text-align: right;\">\n",
       "      <th></th>\n",
       "      <th>show_id</th>\n",
       "      <th>type</th>\n",
       "      <th>title</th>\n",
       "      <th>director</th>\n",
       "      <th>cast</th>\n",
       "      <th>country</th>\n",
       "      <th>date_added</th>\n",
       "      <th>release_year</th>\n",
       "      <th>rating</th>\n",
       "      <th>duration</th>\n",
       "      <th>listed_in</th>\n",
       "      <th>description</th>\n",
       "    </tr>\n",
       "  </thead>\n",
       "  <tbody>\n",
       "    <tr>\n",
       "      <th>2</th>\n",
       "      <td>70234439</td>\n",
       "      <td>TV Show</td>\n",
       "      <td>Transformers Prime</td>\n",
       "      <td>NaN</td>\n",
       "      <td>Peter Cullen, Sumalee Montano, Frank Welker, J...</td>\n",
       "      <td>United States</td>\n",
       "      <td>2018-09-08</td>\n",
       "      <td>2013</td>\n",
       "      <td>TV-Y7-FV</td>\n",
       "      <td>1 Season</td>\n",
       "      <td>Kids' TV</td>\n",
       "      <td>With the help of three human allies, the Autob...</td>\n",
       "    </tr>\n",
       "    <tr>\n",
       "      <th>5</th>\n",
       "      <td>80163890</td>\n",
       "      <td>TV Show</td>\n",
       "      <td>Apaches</td>\n",
       "      <td>NaN</td>\n",
       "      <td>Alberto Ammann, Eloy Azorín, Verónica Echegui,...</td>\n",
       "      <td>Spain</td>\n",
       "      <td>2017-09-08</td>\n",
       "      <td>2016</td>\n",
       "      <td>TV-MA</td>\n",
       "      <td>1 Season</td>\n",
       "      <td>Crime TV Shows, International TV Shows, Spanis...</td>\n",
       "      <td>A young journalist is forced into a life of cr...</td>\n",
       "    </tr>\n",
       "    <tr>\n",
       "      <th>6</th>\n",
       "      <td>70304989</td>\n",
       "      <td>Movie</td>\n",
       "      <td>Automata</td>\n",
       "      <td>Gabe Ibáñez</td>\n",
       "      <td>Antonio Banderas, Dylan McDermott, Melanie Gri...</td>\n",
       "      <td>Bulgaria, United States, Spain, Canada</td>\n",
       "      <td>2017-09-08</td>\n",
       "      <td>2014</td>\n",
       "      <td>R</td>\n",
       "      <td>110 min</td>\n",
       "      <td>International Movies, Sci-Fi &amp; Fantasy, Thrillers</td>\n",
       "      <td>In a dystopian future, an insurance adjuster f...</td>\n",
       "    </tr>\n",
       "    <tr>\n",
       "      <th>12</th>\n",
       "      <td>80182480</td>\n",
       "      <td>Movie</td>\n",
       "      <td>Krish Trish and Baltiboy</td>\n",
       "      <td>NaN</td>\n",
       "      <td>Damandeep Singh Baggan, Smita Malhotra, Baba S...</td>\n",
       "      <td>NaN</td>\n",
       "      <td>2017-09-08</td>\n",
       "      <td>2009</td>\n",
       "      <td>TV-Y7</td>\n",
       "      <td>58 min</td>\n",
       "      <td>Children &amp; Family Movies</td>\n",
       "      <td>A team of minstrels, including a monkey, cat a...</td>\n",
       "    </tr>\n",
       "    <tr>\n",
       "      <th>13</th>\n",
       "      <td>80182483</td>\n",
       "      <td>Movie</td>\n",
       "      <td>Krish Trish and Baltiboy: Battle of Wits</td>\n",
       "      <td>Munjal Shroff, Tilak Shetty</td>\n",
       "      <td>Damandeep Singh Baggan, Smita Malhotra, Baba S...</td>\n",
       "      <td>NaN</td>\n",
       "      <td>2017-09-08</td>\n",
       "      <td>2013</td>\n",
       "      <td>TV-Y7</td>\n",
       "      <td>62 min</td>\n",
       "      <td>Children &amp; Family Movies</td>\n",
       "      <td>An artisan is cheated of his payment, a lion o...</td>\n",
       "    </tr>\n",
       "    <tr>\n",
       "      <th>...</th>\n",
       "      <td>...</td>\n",
       "      <td>...</td>\n",
       "      <td>...</td>\n",
       "      <td>...</td>\n",
       "      <td>...</td>\n",
       "      <td>...</td>\n",
       "      <td>...</td>\n",
       "      <td>...</td>\n",
       "      <td>...</td>\n",
       "      <td>...</td>\n",
       "      <td>...</td>\n",
       "      <td>...</td>\n",
       "    </tr>\n",
       "    <tr>\n",
       "      <th>6226</th>\n",
       "      <td>70243132</td>\n",
       "      <td>TV Show</td>\n",
       "      <td>La Familia P. Luche</td>\n",
       "      <td>NaN</td>\n",
       "      <td>Eugenio Derbez, Consuelo Duval, Luis Manuel Áv...</td>\n",
       "      <td>United States</td>\n",
       "      <td>NaT</td>\n",
       "      <td>2012</td>\n",
       "      <td>TV-14</td>\n",
       "      <td>3 Seasons</td>\n",
       "      <td>International TV Shows, Spanish-Language TV Sh...</td>\n",
       "      <td>This irreverent sitcom featues Ludovico, Feder...</td>\n",
       "    </tr>\n",
       "    <tr>\n",
       "      <th>6228</th>\n",
       "      <td>80159925</td>\n",
       "      <td>TV Show</td>\n",
       "      <td>Kikoriki</td>\n",
       "      <td>NaN</td>\n",
       "      <td>Igor Dmitriev</td>\n",
       "      <td>NaN</td>\n",
       "      <td>NaT</td>\n",
       "      <td>2010</td>\n",
       "      <td>TV-Y</td>\n",
       "      <td>2 Seasons</td>\n",
       "      <td>Kids' TV</td>\n",
       "      <td>A wacky rabbit and his gang of animal pals hav...</td>\n",
       "    </tr>\n",
       "    <tr>\n",
       "      <th>6230</th>\n",
       "      <td>70286564</td>\n",
       "      <td>TV Show</td>\n",
       "      <td>Maron</td>\n",
       "      <td>NaN</td>\n",
       "      <td>Marc Maron, Judd Hirsch, Josh Brener, Nora Zeh...</td>\n",
       "      <td>United States</td>\n",
       "      <td>NaT</td>\n",
       "      <td>2016</td>\n",
       "      <td>TV-MA</td>\n",
       "      <td>4 Seasons</td>\n",
       "      <td>TV Comedies</td>\n",
       "      <td>Marc Maron stars as Marc Maron, who interviews...</td>\n",
       "    </tr>\n",
       "    <tr>\n",
       "      <th>6232</th>\n",
       "      <td>70281022</td>\n",
       "      <td>TV Show</td>\n",
       "      <td>A Young Doctor's Notebook and Other Stories</td>\n",
       "      <td>NaN</td>\n",
       "      <td>Daniel Radcliffe, Jon Hamm, Adam Godley, Chris...</td>\n",
       "      <td>United Kingdom</td>\n",
       "      <td>NaT</td>\n",
       "      <td>2013</td>\n",
       "      <td>TV-MA</td>\n",
       "      <td>2 Seasons</td>\n",
       "      <td>British TV Shows, TV Comedies, TV Dramas</td>\n",
       "      <td>Set during the Russian Revolution, this comic ...</td>\n",
       "    </tr>\n",
       "    <tr>\n",
       "      <th>6233</th>\n",
       "      <td>70153404</td>\n",
       "      <td>TV Show</td>\n",
       "      <td>Friends</td>\n",
       "      <td>NaN</td>\n",
       "      <td>Jennifer Aniston, Courteney Cox, Lisa Kudrow, ...</td>\n",
       "      <td>United States</td>\n",
       "      <td>NaT</td>\n",
       "      <td>2003</td>\n",
       "      <td>TV-14</td>\n",
       "      <td>10 Seasons</td>\n",
       "      <td>Classic &amp; Cult TV, TV Comedies</td>\n",
       "      <td>This hit sitcom follows the merry misadventure...</td>\n",
       "    </tr>\n",
       "  </tbody>\n",
       "</table>\n",
       "<p>2737 rows × 12 columns</p>\n",
       "</div>"
      ],
      "text/plain": [
       "       show_id     type                                        title  \\\n",
       "2     70234439  TV Show                           Transformers Prime   \n",
       "5     80163890  TV Show                                      Apaches   \n",
       "6     70304989    Movie                                     Automata   \n",
       "12    80182480    Movie                     Krish Trish and Baltiboy   \n",
       "13    80182483    Movie     Krish Trish and Baltiboy: Battle of Wits   \n",
       "...        ...      ...                                          ...   \n",
       "6226  70243132  TV Show                          La Familia P. Luche   \n",
       "6228  80159925  TV Show                                     Kikoriki   \n",
       "6230  70286564  TV Show                                        Maron   \n",
       "6232  70281022  TV Show  A Young Doctor's Notebook and Other Stories   \n",
       "6233  70153404  TV Show                                      Friends   \n",
       "\n",
       "                         director  \\\n",
       "2                             NaN   \n",
       "5                             NaN   \n",
       "6                     Gabe Ibáñez   \n",
       "12                            NaN   \n",
       "13    Munjal Shroff, Tilak Shetty   \n",
       "...                           ...   \n",
       "6226                          NaN   \n",
       "6228                          NaN   \n",
       "6230                          NaN   \n",
       "6232                          NaN   \n",
       "6233                          NaN   \n",
       "\n",
       "                                                   cast  \\\n",
       "2     Peter Cullen, Sumalee Montano, Frank Welker, J...   \n",
       "5     Alberto Ammann, Eloy Azorín, Verónica Echegui,...   \n",
       "6     Antonio Banderas, Dylan McDermott, Melanie Gri...   \n",
       "12    Damandeep Singh Baggan, Smita Malhotra, Baba S...   \n",
       "13    Damandeep Singh Baggan, Smita Malhotra, Baba S...   \n",
       "...                                                 ...   \n",
       "6226  Eugenio Derbez, Consuelo Duval, Luis Manuel Áv...   \n",
       "6228                                      Igor Dmitriev   \n",
       "6230  Marc Maron, Judd Hirsch, Josh Brener, Nora Zeh...   \n",
       "6232  Daniel Radcliffe, Jon Hamm, Adam Godley, Chris...   \n",
       "6233  Jennifer Aniston, Courteney Cox, Lisa Kudrow, ...   \n",
       "\n",
       "                                     country date_added  release_year  \\\n",
       "2                              United States 2018-09-08          2013   \n",
       "5                                      Spain 2017-09-08          2016   \n",
       "6     Bulgaria, United States, Spain, Canada 2017-09-08          2014   \n",
       "12                                       NaN 2017-09-08          2009   \n",
       "13                                       NaN 2017-09-08          2013   \n",
       "...                                      ...        ...           ...   \n",
       "6226                           United States        NaT          2012   \n",
       "6228                                     NaN        NaT          2010   \n",
       "6230                           United States        NaT          2016   \n",
       "6232                          United Kingdom        NaT          2013   \n",
       "6233                           United States        NaT          2003   \n",
       "\n",
       "        rating    duration                                          listed_in  \\\n",
       "2     TV-Y7-FV    1 Season                                           Kids' TV   \n",
       "5        TV-MA    1 Season  Crime TV Shows, International TV Shows, Spanis...   \n",
       "6            R     110 min  International Movies, Sci-Fi & Fantasy, Thrillers   \n",
       "12       TV-Y7      58 min                           Children & Family Movies   \n",
       "13       TV-Y7      62 min                           Children & Family Movies   \n",
       "...        ...         ...                                                ...   \n",
       "6226     TV-14   3 Seasons  International TV Shows, Spanish-Language TV Sh...   \n",
       "6228      TV-Y   2 Seasons                                           Kids' TV   \n",
       "6230     TV-MA   4 Seasons                                        TV Comedies   \n",
       "6232     TV-MA   2 Seasons           British TV Shows, TV Comedies, TV Dramas   \n",
       "6233     TV-14  10 Seasons                     Classic & Cult TV, TV Comedies   \n",
       "\n",
       "                                            description  \n",
       "2     With the help of three human allies, the Autob...  \n",
       "5     A young journalist is forced into a life of cr...  \n",
       "6     In a dystopian future, an insurance adjuster f...  \n",
       "12    A team of minstrels, including a monkey, cat a...  \n",
       "13    An artisan is cheated of his payment, a lion o...  \n",
       "...                                                 ...  \n",
       "6226  This irreverent sitcom featues Ludovico, Feder...  \n",
       "6228  A wacky rabbit and his gang of animal pals hav...  \n",
       "6230  Marc Maron stars as Marc Maron, who interviews...  \n",
       "6232  Set during the Russian Revolution, this comic ...  \n",
       "6233  This hit sitcom follows the merry misadventure...  \n",
       "\n",
       "[2737 rows x 12 columns]"
      ]
     },
     "execution_count": 79,
     "metadata": {},
     "output_type": "execute_result"
    }
   ],
   "source": [
    "# filtering data frame with multiple conditions\n",
    "df[(df['title'].str.len() < 10)\n",
    "   | (df['release_year'] < df['release_year'].mean())]"
   ]
  },
  {
   "cell_type": "code",
   "execution_count": 93,
   "metadata": {
    "collapsed": true
   },
   "outputs": [
    {
     "ename": "AttributeError",
     "evalue": "'AxesSubplot' object has no attribute 'show'",
     "output_type": "error",
     "traceback": [
      "\u001b[1;31m---------------------------------------------------------------------------\u001b[0m",
      "\u001b[1;31mAttributeError\u001b[0m                            Traceback (most recent call last)",
      "\u001b[1;32m<ipython-input-93-f4d4f29c15bb>\u001b[0m in \u001b[0;36m<module>\u001b[1;34m\u001b[0m\n\u001b[0;32m      1\u001b[0m df[(df['listed_in'].str.contains('Dramas'))\n\u001b[1;32m----> 2\u001b[1;33m   ]['release_year'].value_counts().sort_index(ascending=False).hist().show\n\u001b[0m",
      "\u001b[1;31mAttributeError\u001b[0m: 'AxesSubplot' object has no attribute 'show'"
     ]
    },
    {
     "data": {
      "image/png": "[encoded data removed]",
      "text/plain": [
       "<Figure size 432x288 with 1 Axes>"
      ]
     },
     "metadata": {
      "needs_background": "light"
     },
     "output_type": "display_data"
    }
   ],
   "source": [
    "df[(df['listed_in'].str.contains('Dramas'))\n",
    "  ]['release_year'].value_counts().sort_index(ascending=False).show"
   ]
  },
  {
   "cell_type": "code",
   "execution_count": 86,
   "metadata": {},
   "outputs": [
    {
     "data": {
      "text/plain": [
       "Documentaries                                                 0.047963\n",
       "Stand-Up Comedy                                               0.043792\n",
       "Dramas, International Movies                                  0.039782\n",
       "Dramas, Independent Movies, International Movies              0.029836\n",
       "Comedies, Dramas, International Movies                        0.027911\n",
       "                                                                ...   \n",
       "British TV Shows, Romantic TV Shows, TV Dramas                0.000160\n",
       "Anime Features, Romantic Movies                               0.000160\n",
       "Docuseries, Spanish-Language TV Shows                         0.000160\n",
       "Classic Movies, Comedies, Romantic Movies                     0.000160\n",
       "Crime TV Shows, TV Action & Adventure, TV Sci-Fi & Fantasy    0.000160\n",
       "Name: listed_in, Length: 461, dtype: float64"
      ]
     },
     "execution_count": 86,
     "metadata": {},
     "output_type": "execute_result"
    }
   ],
   "source": [
    "df['listed_in'].value_counts(normalize=True)"
   ]
  },
  {
   "cell_type": "code",
   "execution_count": 81,
   "metadata": {},
   "outputs": [
    {
     "data": {
      "text/html": [
       "<div>\n",
       "<style scoped>\n",
       "    .dataframe tbody tr th:only-of-type {\n",
       "        vertical-align: middle;\n",
       "    }\n",
       "\n",
       "    .dataframe tbody tr th {\n",
       "        vertical-align: top;\n",
       "    }\n",
       "\n",
       "    .dataframe thead th {\n",
       "        text-align: right;\n",
       "    }\n",
       "</style>\n",
       "<table border=\"1\" class=\"dataframe\">\n",
       "  <thead>\n",
       "    <tr style=\"text-align: right;\">\n",
       "      <th></th>\n",
       "      <th>show_id</th>\n",
       "      <th>type</th>\n",
       "      <th>title</th>\n",
       "      <th>director</th>\n",
       "      <th>cast</th>\n",
       "      <th>country</th>\n",
       "      <th>date_added</th>\n",
       "      <th>release_year</th>\n",
       "      <th>rating</th>\n",
       "      <th>duration</th>\n",
       "      <th>listed_in</th>\n",
       "      <th>description</th>\n",
       "    </tr>\n",
       "  </thead>\n",
       "  <tbody>\n",
       "    <tr>\n",
       "      <th>0</th>\n",
       "      <td>81145628</td>\n",
       "      <td>Movie</td>\n",
       "      <td>Norm of the North: King Sized Adventure</td>\n",
       "      <td>Richard Finn, Tim Maltby</td>\n",
       "      <td>Alan Marriott, Andrew Toth, Brian Dobson, Cole...</td>\n",
       "      <td>United States, India, South Korea, China</td>\n",
       "      <td>2019-09-09</td>\n",
       "      <td>2019</td>\n",
       "      <td>TV-PG</td>\n",
       "      <td>90 min</td>\n",
       "      <td>Children &amp; Family Movies, Comedies</td>\n",
       "      <td>Before planning an awesome wedding for his gra...</td>\n",
       "    </tr>\n",
       "    <tr>\n",
       "      <th>1</th>\n",
       "      <td>80117401</td>\n",
       "      <td>Movie</td>\n",
       "      <td>Jandino: Whatever it Takes</td>\n",
       "      <td>NaN</td>\n",
       "      <td>Jandino Asporaat</td>\n",
       "      <td>United Kingdom</td>\n",
       "      <td>2016-09-09</td>\n",
       "      <td>2016</td>\n",
       "      <td>TV-MA</td>\n",
       "      <td>94 min</td>\n",
       "      <td>Stand-Up Comedy</td>\n",
       "      <td>Jandino Asporaat riffs on the challenges of ra...</td>\n",
       "    </tr>\n",
       "    <tr>\n",
       "      <th>2</th>\n",
       "      <td>70234439</td>\n",
       "      <td>TV Show</td>\n",
       "      <td>Transformers Prime</td>\n",
       "      <td>NaN</td>\n",
       "      <td>Peter Cullen, Sumalee Montano, Frank Welker, J...</td>\n",
       "      <td>United States</td>\n",
       "      <td>2018-09-08</td>\n",
       "      <td>2013</td>\n",
       "      <td>TV-Y7-FV</td>\n",
       "      <td>1 Season</td>\n",
       "      <td>Kids' TV</td>\n",
       "      <td>With the help of three human allies, the Autob...</td>\n",
       "    </tr>\n",
       "    <tr>\n",
       "      <th>3</th>\n",
       "      <td>80058654</td>\n",
       "      <td>TV Show</td>\n",
       "      <td>Transformers: Robots in Disguise</td>\n",
       "      <td>NaN</td>\n",
       "      <td>Will Friedle, Darren Criss, Constance Zimmer, ...</td>\n",
       "      <td>United States</td>\n",
       "      <td>2018-09-08</td>\n",
       "      <td>2016</td>\n",
       "      <td>TV-Y7</td>\n",
       "      <td>1 Season</td>\n",
       "      <td>Kids' TV</td>\n",
       "      <td>When a prison ship crash unleashes hundreds of...</td>\n",
       "    </tr>\n",
       "    <tr>\n",
       "      <th>4</th>\n",
       "      <td>80125979</td>\n",
       "      <td>Movie</td>\n",
       "      <td>#realityhigh</td>\n",
       "      <td>Fernando Lebrija</td>\n",
       "      <td>Nesta Cooper, Kate Walsh, John Michael Higgins...</td>\n",
       "      <td>United States</td>\n",
       "      <td>2017-09-08</td>\n",
       "      <td>2017</td>\n",
       "      <td>TV-14</td>\n",
       "      <td>99 min</td>\n",
       "      <td>Comedies</td>\n",
       "      <td>When nerdy high schooler Dani finally attracts...</td>\n",
       "    </tr>\n",
       "  </tbody>\n",
       "</table>\n",
       "</div>"
      ],
      "text/plain": [
       "    show_id     type                                    title  \\\n",
       "0  81145628    Movie  Norm of the North: King Sized Adventure   \n",
       "1  80117401    Movie               Jandino: Whatever it Takes   \n",
       "2  70234439  TV Show                       Transformers Prime   \n",
       "3  80058654  TV Show         Transformers: Robots in Disguise   \n",
       "4  80125979    Movie                             #realityhigh   \n",
       "\n",
       "                   director  \\\n",
       "0  Richard Finn, Tim Maltby   \n",
       "1                       NaN   \n",
       "2                       NaN   \n",
       "3                       NaN   \n",
       "4          Fernando Lebrija   \n",
       "\n",
       "                                                cast  \\\n",
       "0  Alan Marriott, Andrew Toth, Brian Dobson, Cole...   \n",
       "1                                   Jandino Asporaat   \n",
       "2  Peter Cullen, Sumalee Montano, Frank Welker, J...   \n",
       "3  Will Friedle, Darren Criss, Constance Zimmer, ...   \n",
       "4  Nesta Cooper, Kate Walsh, John Michael Higgins...   \n",
       "\n",
       "                                    country date_added  release_year  \\\n",
       "0  United States, India, South Korea, China 2019-09-09          2019   \n",
       "1                            United Kingdom 2016-09-09          2016   \n",
       "2                             United States 2018-09-08          2013   \n",
       "3                             United States 2018-09-08          2016   \n",
       "4                             United States 2017-09-08          2017   \n",
       "\n",
       "     rating  duration                           listed_in  \\\n",
       "0     TV-PG    90 min  Children & Family Movies, Comedies   \n",
       "1     TV-MA    94 min                     Stand-Up Comedy   \n",
       "2  TV-Y7-FV  1 Season                            Kids' TV   \n",
       "3     TV-Y7  1 Season                            Kids' TV   \n",
       "4     TV-14    99 min                            Comedies   \n",
       "\n",
       "                                         description  \n",
       "0  Before planning an awesome wedding for his gra...  \n",
       "1  Jandino Asporaat riffs on the challenges of ra...  \n",
       "2  With the help of three human allies, the Autob...  \n",
       "3  When a prison ship crash unleashes hundreds of...  \n",
       "4  When nerdy high schooler Dani finally attracts...  "
      ]
     },
     "execution_count": 81,
     "metadata": {},
     "output_type": "execute_result"
    }
   ],
   "source": [
    "df.head()"
   ]
  },
  {
   "cell_type": "markdown",
   "metadata": {},
   "source": [
    "**4.1 Practice** \n",
    "- Filter and order the 5 most recent TV Shows released in spain.\n",
    "- Using values counts and filtering the data frame. Display the the top 10 realease_years that had the most Movies or TV shows that contain the word love in their description."
   ]
  },
  {
   "cell_type": "markdown",
   "metadata": {},
   "source": [
    "# 5. Adding new column or Row <a class=\"anchor\" id=\"newcol\"></a> "
   ]
  },
  {
   "cell_type": "markdown",
   "metadata": {},
   "source": [
    "We can create a new column based on an existing one or based on a list with the same size as the lenght of the data frame.\n"
   ]
  },
  {
   "cell_type": "code",
   "execution_count": null,
   "metadata": {},
   "outputs": [],
   "source": [
    "df['release_year_plus1'] = df['release_year'] + 1"
   ]
  },
  {
   "cell_type": "markdown",
   "metadata": {},
   "source": [
    "### Deep dive into .loc and basic .iloc"
   ]
  },
  {
   "cell_type": "code",
   "execution_count": null,
   "metadata": {},
   "outputs": [],
   "source": [
    "# other way to select multiple columns\n",
    "# df.loc[:, 'show_id':'director']\n",
    "\n",
    "# Returns values for all columns regarding row index 2\n",
    "# df.loc[2]"
   ]
  },
  {
   "cell_type": "markdown",
   "metadata": {},
   "source": [
    "# 6. Groupby and agg  <a class=\"anchor\" id=\"groupby\"></a> \n",
    "# 7. Merge DataFrames <a class=\"anchor\" id=\"merge\"></a> "
   ]
  },
  {
   "cell_type": "code",
   "execution_count": null,
   "metadata": {},
   "outputs": [],
   "source": []
  },
  {
   "cell_type": "markdown",
   "metadata": {},
   "source": [
    "**Practice 1.01**: Run the three cells below individually, than merge the cells and run it again."
   ]
  },
  {
   "cell_type": "code",
   "execution_count": null,
   "metadata": {},
   "outputs": [],
   "source": [
    "sales = 1 + 2"
   ]
  },
  {
   "cell_type": "code",
   "execution_count": null,
   "metadata": {},
   "outputs": [],
   "source": [
    "sales"
   ]
  },
  {
   "cell_type": "markdown",
   "metadata": {},
   "source": [
    "**Practice 6.01:** Write a function that returns True if a number is even and False if its odd."
   ]
  },
  {
   "cell_type": "markdown",
   "metadata": {},
   "source": [
    "## Final Practice"
   ]
  },
  {
   "cell_type": "markdown",
   "metadata": {},
   "source": [
    "**1. Fizzbuzz**\n",
    "\n"
   ]
  },
  {
   "cell_type": "markdown",
   "metadata": {},
   "source": [
    "### 7. Appendix\n"
   ]
  }
 ],
 "metadata": {
  "kernelspec": {
   "display_name": "Python 3",
   "language": "python",
   "name": "python3"
  },
  "language_info": {
   "codemirror_mode": {
    "name": "ipython",
    "version": 3
   },
   "file_extension": ".py",
   "mimetype": "text/x-python",
   "name": "python",
   "nbconvert_exporter": "python",
   "pygments_lexer": "ipython3",
   "version": "3.7.1"
  }
 },
 "nbformat": 4,
 "nbformat_minor": 2
}
