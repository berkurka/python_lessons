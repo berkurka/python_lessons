{
 "cells": [
  {
   "cell_type": "markdown",
   "metadata": {},
   "source": [
    "# Lesson 2 | Basic Pandas\n",
    "\n",
    "\n",
    "### LEARNING OBJECTIVES\n",
    "*After this lesson, you will be able to:*\n",
    "- Importing data with pandas\n",
    "- Run basic data exploration analysis.\n",
    "- Change data types and find outliers.\n",
    "- Filter pandas dataframes.\n",
    "- Create simple reports to summerize data. "
   ]
  },
  {
   "cell_type": "markdown",
   "metadata": {},
   "source": [
    "# Table of Contents\n",
    "1. [What is Pandas](#whatis)\n",
    "2. [Import data using Pandas](#import)\n",
    "3. [Pandas Data Frame & Basic EDA](#basiceda)\n",
    "4. [Filtering Data Frame](#filtdata)\n",
    "5. [Adding new column or Row](#newcol)\n",
    "6. [Groupby and agg](#groupby)\n",
    "7. [Merge](#merge)"
   ]
  },
  {
   "cell_type": "markdown",
   "metadata": {},
   "source": [
    "# 1. What is Pandas?<a class=\"anchor\" id=\"whatis\"></a>\n",
    "\n",
    "## These are pandas:\n",
    "![SegmentLocal](Images/pandas.gif \"segment\")\n",
    "\n",
    "## But not the one we will learn today!"
   ]
  },
  {
   "cell_type": "markdown",
   "metadata": {},
   "source": [
    "## Pandas ~ Excel\n",
    "I would say that pandas is the closest from a excel table that you can get using python.\n",
    "\n",
    "It is an open source library written in Python for data manipulation and analysis, it's initial release was in 2008, it was initially developed out of the need of high performance to run quantative analysis on finantial data. Pandas was build on using a Python library called Numpy. Numpy is a library used to support large multi-dimentional arrays and matrices, it is very popular in the sientific community.\n",
    "![title](./Images/pandas_description.png)\n",
    "\n",
    "source: https://pandas.pydata.org/, https://en.wikipedia.org/wiki/Pandas_(software)"
   ]
  },
  {
   "cell_type": "markdown",
   "metadata": {},
   "source": [
    "# 2. Import data using Pandas <a class=\"anchor\" id=\"import\"></a>\n",
    "- In order to use the pandas pakage we will need to import it. `Import pandas`\n",
    "- We add the `as pd` after the import in order to use the variable `pd` to refer to the pandas pakage. This way we are able to acess all the methods and functions of this class by only typing `pd` instead of `pandas`."
   ]
  },
  {
   "cell_type": "code",
   "execution_count": 1,
   "metadata": {},
   "outputs": [],
   "source": [
    "import pandas as pd"
   ]
  },
  {
   "cell_type": "markdown",
   "metadata": {},
   "source": [
    "## Works with multiple file types:\n",
    "#### Excel, CSV, Json, Pickle, txt, XML, HTML, parquet \n",
    "\n",
    "-  Here are some examples:\n",
    "- `pd.read_csv(file_path + 'file_name.csv', sep=',')`\n",
    "\n",
    "- `pd.read_excel(file_path + 'file_name.xls', sheet='sheet_name')`\n",
    "\n",
    "- `pd.read_sql('select * from my_table', connection)`\n",
    "\n",
    "If the file is saved in the same folder as the code you are running you don't need to add the file path."
   ]
  },
  {
   "cell_type": "markdown",
   "metadata": {},
   "source": [
    "##### Relative path vs absolute path\n",
    " - I recommended to use absolute path, the absolute path "
   ]
  },
  {
   "cell_type": "code",
   "execution_count": 2,
   "metadata": {},
   "outputs": [],
   "source": [
    "# Absolute path WILL NOT WORK!!!\n",
    "abs_path = 'C:/Users/berku/Desktop/DSI/Personal Git Hub/python_lessons/Class 2/data/'\n",
    "\n",
    "# The file can be imported with the absolute or relative path\n",
    "df = pd.read_csv(abs_path + 'netflix_titles.csv')"
   ]
  },
  {
   "cell_type": "code",
   "execution_count": 3,
   "metadata": {},
   "outputs": [],
   "source": [
    "# Relative path WILL WORK!!\n",
    "# The file can be imported with the absolute or relative path\n",
    "rel_path = './data/'\n",
    "df = pd.read_csv(rel_path + 'netflix_titles.csv')"
   ]
  },
  {
   "cell_type": "markdown",
   "metadata": {},
   "source": [
    "#### Common arguments:\n",
    "- **usecols** => If you don't need all the columns in the dataframe.\n",
    "- **dtype** => Change data types.\n",
    "- **parse_dates** => Read column as date time."
   ]
  },
  {
   "cell_type": "code",
   "execution_count": 4,
   "metadata": {},
   "outputs": [
    {
     "data": {
      "text/html": [
       "<div>\n",
       "<style scoped>\n",
       "    .dataframe tbody tr th:only-of-type {\n",
       "        vertical-align: middle;\n",
       "    }\n",
       "\n",
       "    .dataframe tbody tr th {\n",
       "        vertical-align: top;\n",
       "    }\n",
       "\n",
       "    .dataframe thead th {\n",
       "        text-align: right;\n",
       "    }\n",
       "</style>\n",
       "<table border=\"1\" class=\"dataframe\">\n",
       "  <thead>\n",
       "    <tr style=\"text-align: right;\">\n",
       "      <th></th>\n",
       "      <th>show_id</th>\n",
       "      <th>type</th>\n",
       "      <th>date_added</th>\n",
       "      <th>release_year</th>\n",
       "    </tr>\n",
       "  </thead>\n",
       "  <tbody>\n",
       "    <tr>\n",
       "      <th>0</th>\n",
       "      <td>81145628</td>\n",
       "      <td>Movie</td>\n",
       "      <td>September 9, 2019</td>\n",
       "      <td>2019</td>\n",
       "    </tr>\n",
       "  </tbody>\n",
       "</table>\n",
       "</div>"
      ],
      "text/plain": [
       "    show_id   type         date_added  release_year\n",
       "0  81145628  Movie  September 9, 2019          2019"
      ]
     },
     "execution_count": 4,
     "metadata": {},
     "output_type": "execute_result"
    }
   ],
   "source": [
    "# Usecols:\n",
    "df = pd.read_csv(rel_path + 'netflix_titles.csv', \n",
    "                 usecols=['show_id','type','date_added', 'release_year']\n",
    "                )\n",
    "df.head(1)"
   ]
  },
  {
   "cell_type": "code",
   "execution_count": 5,
   "metadata": {
    "scrolled": false
   },
   "outputs": [
    {
     "data": {
      "text/html": [
       "<div>\n",
       "<style scoped>\n",
       "    .dataframe tbody tr th:only-of-type {\n",
       "        vertical-align: middle;\n",
       "    }\n",
       "\n",
       "    .dataframe tbody tr th {\n",
       "        vertical-align: top;\n",
       "    }\n",
       "\n",
       "    .dataframe thead th {\n",
       "        text-align: right;\n",
       "    }\n",
       "</style>\n",
       "<table border=\"1\" class=\"dataframe\">\n",
       "  <thead>\n",
       "    <tr style=\"text-align: right;\">\n",
       "      <th></th>\n",
       "      <th>show_id</th>\n",
       "      <th>type</th>\n",
       "      <th>date_added</th>\n",
       "      <th>release_year</th>\n",
       "    </tr>\n",
       "  </thead>\n",
       "  <tbody>\n",
       "    <tr>\n",
       "      <th>0</th>\n",
       "      <td>81145628</td>\n",
       "      <td>Movie</td>\n",
       "      <td>2019-09-09</td>\n",
       "      <td>2019.0</td>\n",
       "    </tr>\n",
       "  </tbody>\n",
       "</table>\n",
       "</div>"
      ],
      "text/plain": [
       "    show_id   type date_added  release_year\n",
       "0  81145628  Movie 2019-09-09        2019.0"
      ]
     },
     "execution_count": 5,
     "metadata": {},
     "output_type": "execute_result"
    }
   ],
   "source": [
    "# dtype and parse_dates and Usecols\n",
    "df = pd.read_csv(rel_path + 'netflix_titles.csv', \n",
    "                 usecols=['show_id','type','date_added', 'release_year'], \n",
    "                 dtype={'show_id': int, 'type': str, 'release_year': float}, \n",
    "                 parse_dates=['date_added'])\n",
    "df.head(1)"
   ]
  },
  {
   "cell_type": "markdown",
   "metadata": {},
   "source": [
    "#### Import we will use for this project"
   ]
  },
  {
   "cell_type": "code",
   "execution_count": 6,
   "metadata": {},
   "outputs": [],
   "source": [
    "rel_path = './data/'\n",
    "df = pd.read_csv(rel_path + 'netflix_titles.csv', \n",
    "                 parse_dates=['date_added'])"
   ]
  },
  {
   "cell_type": "markdown",
   "metadata": {},
   "source": [
    "# 3.Pandas Data Frame & Basic EDA <a class=\"anchor\" id=\"basiceda\"></a>"
   ]
  },
  {
   "cell_type": "markdown",
   "metadata": {},
   "source": [
    "### Who Loves movies ??\n",
    "#### We will explore a Data Base with Movies and TV Shows that were listed on Netflix.\n",
    "\n",
    "<img src=\"./Images/netflix2.jpg\" alt=\"Drawing\" style=\"width: 200px;\"/>"
   ]
  },
  {
   "cell_type": "markdown",
   "metadata": {},
   "source": [
    "### Pandas Data Frame\n",
    "A pandas DataFrame is a 2-dimensional labeled data structure with columns of potentially different types."
   ]
  },
  {
   "cell_type": "markdown",
   "metadata": {},
   "source": [
    "**Structure:**\n",
    "![title](./Images/pandas_dataframe.png)\n"
   ]
  },
  {
   "cell_type": "markdown",
   "metadata": {},
   "source": [
    "## Use .head(), .sample() or .tail() to look at part of the data"
   ]
  },
  {
   "cell_type": "code",
   "execution_count": 7,
   "metadata": {},
   "outputs": [
    {
     "data": {
      "text/html": [
       "<div>\n",
       "<style scoped>\n",
       "    .dataframe tbody tr th:only-of-type {\n",
       "        vertical-align: middle;\n",
       "    }\n",
       "\n",
       "    .dataframe tbody tr th {\n",
       "        vertical-align: top;\n",
       "    }\n",
       "\n",
       "    .dataframe thead th {\n",
       "        text-align: right;\n",
       "    }\n",
       "</style>\n",
       "<table border=\"1\" class=\"dataframe\">\n",
       "  <thead>\n",
       "    <tr style=\"text-align: right;\">\n",
       "      <th></th>\n",
       "      <th>show_id</th>\n",
       "      <th>type</th>\n",
       "      <th>title</th>\n",
       "      <th>director</th>\n",
       "      <th>cast</th>\n",
       "      <th>country</th>\n",
       "      <th>date_added</th>\n",
       "      <th>release_year</th>\n",
       "      <th>rating</th>\n",
       "      <th>duration</th>\n",
       "      <th>listed_in</th>\n",
       "      <th>description</th>\n",
       "    </tr>\n",
       "  </thead>\n",
       "  <tbody>\n",
       "    <tr>\n",
       "      <th>1822</th>\n",
       "      <td>80208082</td>\n",
       "      <td>Movie</td>\n",
       "      <td>Kill Hitler! The Luck of the Devil</td>\n",
       "      <td>Frédéric Tonolli</td>\n",
       "      <td>Jean-Baptiste Marcenac</td>\n",
       "      <td>France</td>\n",
       "      <td>2019-05-01</td>\n",
       "      <td>2015</td>\n",
       "      <td>TV-14</td>\n",
       "      <td>53 min</td>\n",
       "      <td>Documentaries, International Movies</td>\n",
       "      <td>From politicians to officers, many attempted t...</td>\n",
       "    </tr>\n",
       "  </tbody>\n",
       "</table>\n",
       "</div>"
      ],
      "text/plain": [
       "       show_id   type                               title          director  \\\n",
       "1822  80208082  Movie  Kill Hitler! The Luck of the Devil  Frédéric Tonolli   \n",
       "\n",
       "                        cast country date_added  release_year rating duration  \\\n",
       "1822  Jean-Baptiste Marcenac  France 2019-05-01          2015  TV-14   53 min   \n",
       "\n",
       "                                listed_in  \\\n",
       "1822  Documentaries, International Movies   \n",
       "\n",
       "                                            description  \n",
       "1822  From politicians to officers, many attempted t...  "
      ]
     },
     "execution_count": 7,
     "metadata": {},
     "output_type": "execute_result"
    }
   ],
   "source": [
    "# Check out the difference between\n",
    "df.head()\n",
    "df.tail()\n",
    "df.sample()"
   ]
  },
  {
   "cell_type": "markdown",
   "metadata": {},
   "source": [
    "### Selecting Data From specfic rows / columns\n",
    "- df[list of column names separated by commas]\n",
    "- df.loc[row index, column names]"
   ]
  },
  {
   "cell_type": "code",
   "execution_count": 8,
   "metadata": {},
   "outputs": [
    {
     "data": {
      "text/plain": [
       "0       2019\n",
       "1       2016\n",
       "2       2013\n",
       "3       2016\n",
       "4       2017\n",
       "        ... \n",
       "6229    2015\n",
       "6230    2016\n",
       "6231    2016\n",
       "6232    2013\n",
       "6233    2003\n",
       "Name: release_year, Length: 6234, dtype: int64"
      ]
     },
     "execution_count": 8,
     "metadata": {},
     "output_type": "execute_result"
    }
   ],
   "source": [
    "# Select a single column\n",
    "df['release_year']"
   ]
  },
  {
   "cell_type": "code",
   "execution_count": 9,
   "metadata": {},
   "outputs": [
    {
     "data": {
      "text/html": [
       "<div>\n",
       "<style scoped>\n",
       "    .dataframe tbody tr th:only-of-type {\n",
       "        vertical-align: middle;\n",
       "    }\n",
       "\n",
       "    .dataframe tbody tr th {\n",
       "        vertical-align: top;\n",
       "    }\n",
       "\n",
       "    .dataframe thead th {\n",
       "        text-align: right;\n",
       "    }\n",
       "</style>\n",
       "<table border=\"1\" class=\"dataframe\">\n",
       "  <thead>\n",
       "    <tr style=\"text-align: right;\">\n",
       "      <th></th>\n",
       "      <th>show_id</th>\n",
       "      <th>type</th>\n",
       "      <th>title</th>\n",
       "      <th>director</th>\n",
       "    </tr>\n",
       "  </thead>\n",
       "  <tbody>\n",
       "    <tr>\n",
       "      <th>0</th>\n",
       "      <td>81145628</td>\n",
       "      <td>Movie</td>\n",
       "      <td>Norm of the North: King Sized Adventure</td>\n",
       "      <td>Richard Finn, Tim Maltby</td>\n",
       "    </tr>\n",
       "  </tbody>\n",
       "</table>\n",
       "</div>"
      ],
      "text/plain": [
       "    show_id   type                                    title  \\\n",
       "0  81145628  Movie  Norm of the North: King Sized Adventure   \n",
       "\n",
       "                   director  \n",
       "0  Richard Finn, Tim Maltby  "
      ]
     },
     "execution_count": 9,
     "metadata": {},
     "output_type": "execute_result"
    }
   ],
   "source": [
    "# select multiple columns\n",
    "df[['show_id', 'type', 'title', 'director']].head(1)"
   ]
  },
  {
   "cell_type": "markdown",
   "metadata": {},
   "source": [
    "### EDA = exploratory data analysis\n",
    "\n",
    "EDA is about getting to know more about your data finding its main characteristics.\n",
    "When working with a new data set I would recomment running at least the methods below:\n",
    "\n",
    "- **shape**<br />\n",
    "Returns a tuple with number of rows and columns of the data frame.\n",
    "- **dtypes**<br />\n",
    "Are the data types what we expect them to be?<br />\n",
    "- **describe**<br />\n",
    "Will Describe create basis statistics. Default is to calculate it only for numeric columns.\n",
    "- **value_counts**<br />\n",
    "For a given column counts the occurrence of values.\n",
    "- **info** gives you non null counts for each column and memory usage<br />\n",
    "- **sort_values** to sort column values ascending or descending.<br />\n",
    "- **.isnull().sum()** sum of null rows for each column\n",
    "- **nunique() and unique()** Count or visualize unique values for a column.\n",
    "- **drop_duplicates()** Drops duplicates of a subset of columns\n",
    "- **sum, mean, min, max, mode, std, median**\n",
    "### Run the examples below:"
   ]
  },
  {
   "cell_type": "code",
   "execution_count": null,
   "metadata": {},
   "outputs": [],
   "source": [
    "df.shape"
   ]
  },
  {
   "cell_type": "code",
   "execution_count": null,
   "metadata": {},
   "outputs": [],
   "source": [
    "df.head(2)"
   ]
  },
  {
   "cell_type": "code",
   "execution_count": null,
   "metadata": {},
   "outputs": [],
   "source": [
    "df.dtypes"
   ]
  },
  {
   "cell_type": "markdown",
   "metadata": {},
   "source": [
    "**3.1 Practice** Are the column data types what we expect them to be?\n",
    "- Yes\n",
    "- No"
   ]
  },
  {
   "cell_type": "code",
   "execution_count": null,
   "metadata": {},
   "outputs": [],
   "source": [
    "# Will run it on only numeric columns\n",
    "df.describe() "
   ]
  },
  {
   "cell_type": "code",
   "execution_count": null,
   "metadata": {},
   "outputs": [],
   "source": [
    "# Will run it on only object columns\n",
    "df.describe(include='O') "
   ]
  },
  {
   "cell_type": "code",
   "execution_count": null,
   "metadata": {},
   "outputs": [],
   "source": [
    "# Will run it on only date columns\n",
    "df.describe(include='datetime64[ns]') "
   ]
  },
  {
   "cell_type": "code",
   "execution_count": null,
   "metadata": {},
   "outputs": [],
   "source": [
    "df['release_year'].sort_values(ascending=True)"
   ]
  },
  {
   "cell_type": "code",
   "execution_count": null,
   "metadata": {},
   "outputs": [],
   "source": [
    "df.info()"
   ]
  },
  {
   "cell_type": "code",
   "execution_count": null,
   "metadata": {},
   "outputs": [],
   "source": [
    "df.isnull().sum()"
   ]
  },
  {
   "cell_type": "code",
   "execution_count": null,
   "metadata": {},
   "outputs": [],
   "source": [
    "df.columns"
   ]
  },
  {
   "cell_type": "code",
   "execution_count": null,
   "metadata": {},
   "outputs": [],
   "source": [
    "print('Number of unique country combination is:', df['country'].nunique())\n",
    "df['country'].unique()"
   ]
  },
  {
   "cell_type": "code",
   "execution_count": 19,
   "metadata": {},
   "outputs": [
    {
     "data": {
      "text/plain": [
       "0      Movie\n",
       "2    TV Show\n",
       "Name: type, dtype: object"
      ]
     },
     "execution_count": 19,
     "metadata": {},
     "output_type": "execute_result"
    }
   ],
   "source": [
    "df['type'].drop_duplicates()"
   ]
  },
  {
   "cell_type": "code",
   "execution_count": 20,
   "metadata": {},
   "outputs": [
    {
     "data": {
      "text/plain": [
       "2016.0"
      ]
     },
     "execution_count": 20,
     "metadata": {},
     "output_type": "execute_result"
    }
   ],
   "source": [
    "df['release_year'].max()\n",
    "df['release_year'].median()"
   ]
  },
  {
   "cell_type": "markdown",
   "metadata": {},
   "source": [
    "**3.2 Practice** Using the describe method answer the following questions:\n",
    "- What date had the most number of movies added?\n",
    "- What is the oldest release date for movie or tv show?\n",
    "- Are there movies with the same description text?\n",
    "\n",
    "**3.3 Practice** What are the 3 directors with highest number of shows in netflix."
   ]
  },
  {
   "cell_type": "markdown",
   "metadata": {},
   "source": [
    "# 4. Filtering Data <a class=\"anchor\" id=\"filtdata\"></a> \n",
    "To understand this we will need to learn about.\n",
    " - Panda series<br />\n",
    "   Similar to a column in excel, is a one dimentional array with a single data type.   \n",
    " - Using a boolean mask on a Panda Series<br />\n",
    "   We can create boolean list with the same lenght as the series to filter the panda series \n",
    "   using the [] acessor.\n",
    " - Using a Boolean mask on a Pandas DataFrame<br />"
   ]
  },
  {
   "cell_type": "code",
   "execution_count": null,
   "metadata": {},
   "outputs": [],
   "source": [
    "my_series = df['release_year'].head()\n",
    "\n",
    "print(type(df['release_year']))\n",
    "print('----------------------')\n",
    "print(my_series)"
   ]
  },
  {
   "cell_type": "code",
   "execution_count": null,
   "metadata": {},
   "outputs": [],
   "source": [
    "# We can create boolean list with the same lenght as the series to filter the panda series.\n",
    "bool_mask = [True, False, False, False, True]\n",
    "\n",
    "# Using \n",
    "my_series[bool_mask]"
   ]
  },
  {
   "cell_type": "code",
   "execution_count": null,
   "metadata": {},
   "outputs": [],
   "source": [
    "my_series>2016"
   ]
  },
  {
   "cell_type": "code",
   "execution_count": null,
   "metadata": {},
   "outputs": [],
   "source": [
    "my_series[my_series>2016] # Yields the same results."
   ]
  },
  {
   "cell_type": "code",
   "execution_count": null,
   "metadata": {},
   "outputs": [],
   "source": [
    "# The same can be done in the dataframe, \n",
    "# First we create a boolean mask based on a column for example\n",
    "my_mask = df['release_year'] > 2016\n",
    "print(my_mask)"
   ]
  },
  {
   "cell_type": "code",
   "execution_count": null,
   "metadata": {},
   "outputs": [],
   "source": [
    "# Second use the [] acessor to filter the data frame\n",
    "df[my_mask].head(2)"
   ]
  },
  {
   "cell_type": "code",
   "execution_count": null,
   "metadata": {
    "scrolled": true
   },
   "outputs": [],
   "source": [
    "# filtering data frame with multiple conditions\n",
    "df[(df['country']=='United States')\n",
    "    & (df['release_year'] == 1988)]"
   ]
  },
  {
   "cell_type": "code",
   "execution_count": null,
   "metadata": {},
   "outputs": [],
   "source": [
    "# filtering data frame with multiple conditions\n",
    "df[(df['description'].str.contains('panda'))]"
   ]
  },
  {
   "cell_type": "code",
   "execution_count": null,
   "metadata": {},
   "outputs": [],
   "source": [
    "# filtering data frame with multiple conditions\n",
    "df[(df['title'].str.len() < 10)\n",
    "| (df['release_year'] < df['release_year'].mean())]"
   ]
  },
  {
   "cell_type": "markdown",
   "metadata": {},
   "source": [
    "**4.1 Practice** \n",
    "- Filter and order the 5 most recent TV Shows released in spain.\n",
    "- Using values counts and filtering the data frame. Display the the top 10 realease_years that had the most Movies or TV shows that contain the word love in their description."
   ]
  },
  {
   "cell_type": "markdown",
   "metadata": {},
   "source": [
    "# 5. Adding new column or Row <a class=\"anchor\" id=\"newcol\"></a> "
   ]
  },
  {
   "cell_type": "markdown",
   "metadata": {},
   "source": [
    "We can create a new column based on an existing one or based on a list with the same size as the lenght of the data frame.\n"
   ]
  },
  {
   "cell_type": "code",
   "execution_count": null,
   "metadata": {},
   "outputs": [],
   "source": [
    "df['release_year_plus1'] = df['release_year'] + 1"
   ]
  },
  {
   "cell_type": "markdown",
   "metadata": {},
   "source": [
    "### Deep dive into .loc and basic .iloc"
   ]
  },
  {
   "cell_type": "code",
   "execution_count": null,
   "metadata": {},
   "outputs": [],
   "source": [
    "# other way to select multiple columns\n",
    "# df.loc[:, 'show_id':'director']\n",
    "\n",
    "# Returns values for all columns regarding row index 2\n",
    "# df.loc[2]"
   ]
  },
  {
   "cell_type": "markdown",
   "metadata": {},
   "source": [
    "# 6. Groupby and agg  <a class=\"anchor\" id=\"groupby\"></a> \n",
    "# 7. Merge DataFrames <a class=\"anchor\" id=\"merge\"></a> "
   ]
  },
  {
   "cell_type": "code",
   "execution_count": null,
   "metadata": {},
   "outputs": [],
   "source": []
  },
  {
   "cell_type": "markdown",
   "metadata": {},
   "source": [
    "**Practice 1.01**: Run the three cells below individually, than merge the cells and run it again."
   ]
  },
  {
   "cell_type": "code",
   "execution_count": null,
   "metadata": {},
   "outputs": [],
   "source": [
    "sales = 1 + 2"
   ]
  },
  {
   "cell_type": "code",
   "execution_count": null,
   "metadata": {},
   "outputs": [],
   "source": [
    "sales"
   ]
  },
  {
   "cell_type": "markdown",
   "metadata": {},
   "source": [
    "**Practice 6.01:** Write a function that returns True if a number is even and False if its odd."
   ]
  },
  {
   "cell_type": "markdown",
   "metadata": {},
   "source": [
    "## Final Practice"
   ]
  },
  {
   "cell_type": "markdown",
   "metadata": {},
   "source": [
    "**1. Fizzbuzz**\n",
    "\n"
   ]
  },
  {
   "cell_type": "markdown",
   "metadata": {},
   "source": [
    "### 7. Appendix\n"
   ]
  }
 ],
 "metadata": {
  "kernelspec": {
   "display_name": "Python 3",
   "language": "python",
   "name": "python3"
  },
  "language_info": {
   "codemirror_mode": {
    "name": "ipython",
    "version": 3
   },
   "file_extension": ".py",
   "mimetype": "text/x-python",
   "name": "python",
   "nbconvert_exporter": "python",
   "pygments_lexer": "ipython3",
   "version": "3.7.1"
  }
 },
 "nbformat": 4,
 "nbformat_minor": 2
}
