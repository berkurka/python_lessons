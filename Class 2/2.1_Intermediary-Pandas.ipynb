{
 "cells": [
  {
   "cell_type": "code",
   "execution_count": 48,
   "metadata": {},
   "outputs": [],
   "source": [
    "import pandas as pd\n",
    "import numpy as np\n",
    "\n",
    "pd.options.display.max_colwidth = 100  # Print long strings in pandas data frame"
   ]
  },
  {
   "cell_type": "code",
   "execution_count": 51,
   "metadata": {},
   "outputs": [],
   "source": [
    "df = pd.DataFrame(np.random.randint(0,100,size=(5, 4)), columns=list('ABCD'))"
   ]
  },
  {
   "cell_type": "markdown",
   "metadata": {},
   "source": [
    "### Handy functions: \n",
    "- Lambda functions is a simple way to create e very straight forward function.\n",
    "\n",
    "- Pandas map and apply is a way to create or modify existing data in the data frame.\n",
    "- Map is used when only one column is envolved in the changes.\n",
    "- Apply is used when values of other columns might be needed in the current logic.\n",
    "- Use np.where when possible."
   ]
  },
  {
   "cell_type": "code",
   "execution_count": 53,
   "metadata": {},
   "outputs": [
    {
     "name": "stdout",
     "output_type": "stream",
     "text": [
      "100\n"
     ]
    }
   ],
   "source": [
    "# Lambda function\n",
    "square = lambda x: x**2\n",
    "print(square(10))"
   ]
  },
  {
   "cell_type": "code",
   "execution_count": 60,
   "metadata": {},
   "outputs": [
    {
     "data": {
      "text/html": [
       "<div>\n",
       "<style scoped>\n",
       "    .dataframe tbody tr th:only-of-type {\n",
       "        vertical-align: middle;\n",
       "    }\n",
       "\n",
       "    .dataframe tbody tr th {\n",
       "        vertical-align: top;\n",
       "    }\n",
       "\n",
       "    .dataframe thead th {\n",
       "        text-align: right;\n",
       "    }\n",
       "</style>\n",
       "<table border=\"1\" class=\"dataframe\">\n",
       "  <thead>\n",
       "    <tr style=\"text-align: right;\">\n",
       "      <th></th>\n",
       "      <th>A</th>\n",
       "      <th>B</th>\n",
       "      <th>C</th>\n",
       "      <th>D</th>\n",
       "      <th>A_add_odd</th>\n",
       "    </tr>\n",
       "  </thead>\n",
       "  <tbody>\n",
       "    <tr>\n",
       "      <th>0</th>\n",
       "      <td>93</td>\n",
       "      <td>85</td>\n",
       "      <td>50</td>\n",
       "      <td>84</td>\n",
       "      <td>94</td>\n",
       "    </tr>\n",
       "    <tr>\n",
       "      <th>1</th>\n",
       "      <td>81</td>\n",
       "      <td>64</td>\n",
       "      <td>52</td>\n",
       "      <td>87</td>\n",
       "      <td>82</td>\n",
       "    </tr>\n",
       "  </tbody>\n",
       "</table>\n",
       "</div>"
      ],
      "text/plain": [
       "    A   B   C   D  A_add_odd\n",
       "0  93  85  50  84         94\n",
       "1  81  64  52  87         82"
      ]
     },
     "metadata": {},
     "output_type": "display_data"
    },
    {
     "data": {
      "text/html": [
       "<div>\n",
       "<style scoped>\n",
       "    .dataframe tbody tr th:only-of-type {\n",
       "        vertical-align: middle;\n",
       "    }\n",
       "\n",
       "    .dataframe tbody tr th {\n",
       "        vertical-align: top;\n",
       "    }\n",
       "\n",
       "    .dataframe thead th {\n",
       "        text-align: right;\n",
       "    }\n",
       "</style>\n",
       "<table border=\"1\" class=\"dataframe\">\n",
       "  <thead>\n",
       "    <tr style=\"text-align: right;\">\n",
       "      <th></th>\n",
       "      <th>A</th>\n",
       "      <th>B</th>\n",
       "      <th>C</th>\n",
       "      <th>D</th>\n",
       "      <th>A_add_odd</th>\n",
       "    </tr>\n",
       "  </thead>\n",
       "  <tbody>\n",
       "    <tr>\n",
       "      <th>0</th>\n",
       "      <td>93</td>\n",
       "      <td>85</td>\n",
       "      <td>50</td>\n",
       "      <td>84</td>\n",
       "      <td>94</td>\n",
       "    </tr>\n",
       "    <tr>\n",
       "      <th>1</th>\n",
       "      <td>81</td>\n",
       "      <td>64</td>\n",
       "      <td>52</td>\n",
       "      <td>87</td>\n",
       "      <td>82</td>\n",
       "    </tr>\n",
       "    <tr>\n",
       "      <th>2</th>\n",
       "      <td>21</td>\n",
       "      <td>95</td>\n",
       "      <td>3</td>\n",
       "      <td>38</td>\n",
       "      <td>22</td>\n",
       "    </tr>\n",
       "    <tr>\n",
       "      <th>3</th>\n",
       "      <td>96</td>\n",
       "      <td>97</td>\n",
       "      <td>77</td>\n",
       "      <td>52</td>\n",
       "      <td>96</td>\n",
       "    </tr>\n",
       "  </tbody>\n",
       "</table>\n",
       "</div>"
      ],
      "text/plain": [
       "    A   B   C   D  A_add_odd\n",
       "0  93  85  50  84         94\n",
       "1  81  64  52  87         82\n",
       "2  21  95   3  38         22\n",
       "3  96  97  77  52         96"
      ]
     },
     "execution_count": 60,
     "metadata": {},
     "output_type": "execute_result"
    }
   ],
   "source": [
    "# Pandas map\n",
    "display(df.head(2))\n",
    "def add_if_odd(x):\n",
    "    if x % 2 == 0:\n",
    "        return x\n",
    "    return x + 1\n",
    "df['A_add_odd'] = df['A'].map(add_if_odd)\n",
    "df.head(4)"
   ]
  },
  {
   "cell_type": "code",
   "execution_count": 83,
   "metadata": {},
   "outputs": [
    {
     "data": {
      "text/html": [
       "<div>\n",
       "<style scoped>\n",
       "    .dataframe tbody tr th:only-of-type {\n",
       "        vertical-align: middle;\n",
       "    }\n",
       "\n",
       "    .dataframe tbody tr th {\n",
       "        vertical-align: top;\n",
       "    }\n",
       "\n",
       "    .dataframe thead th {\n",
       "        text-align: right;\n",
       "    }\n",
       "</style>\n",
       "<table border=\"1\" class=\"dataframe\">\n",
       "  <thead>\n",
       "    <tr style=\"text-align: right;\">\n",
       "      <th></th>\n",
       "      <th>A</th>\n",
       "      <th>B</th>\n",
       "      <th>C</th>\n",
       "      <th>D</th>\n",
       "      <th>A_add_odd</th>\n",
       "      <th>Add_odd_A&amp;B</th>\n",
       "      <th>Add_odd_C&amp;D</th>\n",
       "    </tr>\n",
       "  </thead>\n",
       "  <tbody>\n",
       "    <tr>\n",
       "      <th>0</th>\n",
       "      <td>93</td>\n",
       "      <td>85</td>\n",
       "      <td>50</td>\n",
       "      <td>84</td>\n",
       "      <td>94</td>\n",
       "      <td>0</td>\n",
       "      <td>0</td>\n",
       "    </tr>\n",
       "    <tr>\n",
       "      <th>1</th>\n",
       "      <td>81</td>\n",
       "      <td>64</td>\n",
       "      <td>52</td>\n",
       "      <td>87</td>\n",
       "      <td>82</td>\n",
       "      <td>0</td>\n",
       "      <td>0</td>\n",
       "    </tr>\n",
       "    <tr>\n",
       "      <th>2</th>\n",
       "      <td>21</td>\n",
       "      <td>95</td>\n",
       "      <td>3</td>\n",
       "      <td>38</td>\n",
       "      <td>22</td>\n",
       "      <td>0</td>\n",
       "      <td>0</td>\n",
       "    </tr>\n",
       "    <tr>\n",
       "      <th>3</th>\n",
       "      <td>96</td>\n",
       "      <td>97</td>\n",
       "      <td>77</td>\n",
       "      <td>52</td>\n",
       "      <td>96</td>\n",
       "      <td>0</td>\n",
       "      <td>0</td>\n",
       "    </tr>\n",
       "    <tr>\n",
       "      <th>4</th>\n",
       "      <td>52</td>\n",
       "      <td>0</td>\n",
       "      <td>26</td>\n",
       "      <td>40</td>\n",
       "      <td>52</td>\n",
       "      <td>52</td>\n",
       "      <td>0</td>\n",
       "    </tr>\n",
       "  </tbody>\n",
       "</table>\n",
       "</div>"
      ],
      "text/plain": [
       "    A   B   C   D  A_add_odd  Add_odd_A&B  Add_odd_C&D\n",
       "0  93  85  50  84         94            0            0\n",
       "1  81  64  52  87         82            0            0\n",
       "2  21  95   3  38         22            0            0\n",
       "3  96  97  77  52         96            0            0\n",
       "4  52   0  26  40         52           52            0"
      ]
     },
     "execution_count": 83,
     "metadata": {},
     "output_type": "execute_result"
    }
   ],
   "source": [
    "# Apply with lambda\n",
    "# add only column A and B only if two values are odd or else return 0\n",
    "def add_if_both_even(x, y):\n",
    "    if x % 2 == 0 and y % 2 ==0:\n",
    "        return x + y\n",
    "    return 0\n",
    "df['Add_odd_A&B'] = df.apply(lambda row: add_if_both_even(row['A'], row['B']), axis=1)\n",
    "df"
   ]
  },
  {
   "cell_type": "markdown",
   "metadata": {},
   "source": [
    "### 1) Create a column that is a subset of a existing string type column. \n",
    "\n",
    "Extract the CNPJ id from Fund name column. The id format is xx.xxx.xxx/xxxx-xx where x is a number.\n",
    "\n",
    "CNPJ is an identification number issued to Brazilian companies by the Department of Federal Revenue of Brazil."
   ]
  },
  {
   "cell_type": "code",
   "execution_count": 36,
   "metadata": {},
   "outputs": [],
   "source": [
    "df = pd.read_excel('./data/Investment Funds.xlsx')"
   ]
  },
  {
   "cell_type": "code",
   "execution_count": 37,
   "metadata": {},
   "outputs": [
    {
     "data": {
      "text/html": [
       "<div>\n",
       "<style scoped>\n",
       "    .dataframe tbody tr th:only-of-type {\n",
       "        vertical-align: middle;\n",
       "    }\n",
       "\n",
       "    .dataframe tbody tr th {\n",
       "        vertical-align: top;\n",
       "    }\n",
       "\n",
       "    .dataframe thead th {\n",
       "        text-align: right;\n",
       "    }\n",
       "</style>\n",
       "<table border=\"1\" class=\"dataframe\">\n",
       "  <thead>\n",
       "    <tr style=\"text-align: right;\">\n",
       "      <th></th>\n",
       "      <th>Fund Name</th>\n",
       "    </tr>\n",
       "  </thead>\n",
       "  <tbody>\n",
       "    <tr>\n",
       "      <th>7</th>\n",
       "      <td>GRÉCIA FI MULTIMERCADO CRÉDITO PRIVADO 08.160.769/0001-89</td>\n",
       "    </tr>\n",
       "    <tr>\n",
       "      <th>3</th>\n",
       "      <td>SAFRA CAPITAL MARKET MAX FIC RENDA FIXA REFERENCIADO DI CRÉDITO PRIVADO 10.243.362/0001-67</td>\n",
       "    </tr>\n",
       "    <tr>\n",
       "      <th>0</th>\n",
       "      <td>ZOIT FI MULTIMERCADO CRÉDITO PRIVADO08.904.061/0001-95</td>\n",
       "    </tr>\n",
       "    <tr>\n",
       "      <th>2</th>\n",
       "      <td>SAFRA CAPITAL MARKET INSTITUCIONAL FIC RENDA FIXA REFERENCIADO DI CRÉDITO PRIVADO 03.593.195/000...</td>\n",
       "    </tr>\n",
       "    <tr>\n",
       "      <th>10</th>\n",
       "      <td>00.832.435/0001-00 ITAÚ INSTITUCIONAL FI RENDA FIXA REFERENCIADO DI</td>\n",
       "    </tr>\n",
       "  </tbody>\n",
       "</table>\n",
       "</div>"
      ],
      "text/plain": [
       "                                                                                              Fund Name\n",
       "7                                             GRÉCIA FI MULTIMERCADO CRÉDITO PRIVADO 08.160.769/0001-89\n",
       "3            SAFRA CAPITAL MARKET MAX FIC RENDA FIXA REFERENCIADO DI CRÉDITO PRIVADO 10.243.362/0001-67\n",
       "0                                                ZOIT FI MULTIMERCADO CRÉDITO PRIVADO08.904.061/0001-95\n",
       "2   SAFRA CAPITAL MARKET INSTITUCIONAL FIC RENDA FIXA REFERENCIADO DI CRÉDITO PRIVADO 03.593.195/000...\n",
       "10                                  00.832.435/0001-00 ITAÚ INSTITUCIONAL FI RENDA FIXA REFERENCIADO DI"
      ]
     },
     "execution_count": 37,
     "metadata": {},
     "output_type": "execute_result"
    }
   ],
   "source": [
    "FUND = 'Fund Name'\n",
    "df[[FUND]].sample(5)"
   ]
  },
  {
   "cell_type": "code",
   "execution_count": 38,
   "metadata": {},
   "outputs": [
    {
     "name": "stdout",
     "output_type": "stream",
     "text": [
      "81\n",
      "20.394.349/0001-62\n"
     ]
    }
   ],
   "source": [
    "# Option 1: Using map, and apply to locate the the position of the '/' get 10 characters before and 8 after.\n",
    "# Example for one fund:\n",
    "text = 'SAFRA CAPITAL MARKET 30 FIC RENDA FIXA REFERENCIADO DI CRÉDITO PRIVADO 20.394.349/0001-62'\n",
    "pos = text.find('/')\n",
    "print(pos)\n",
    "print(a[pos - 10: pos + 8])\n",
    "\n",
    "# Apply solution to Data Frame using lambda functions:\n",
    "df['CNPJ'] = df[FUND].map(lambda row: row[row.find('/') - 10: row.find('/') + 8])\n",
    "\n",
    "# If you wish to remove CNPJ id from Fund name column\n",
    "df[FUND] = df.apply(lambda row: row[FUND].replace(row['CNPJ'],''), axis=1)\n",
    "df.sample(10)"
   ]
  },
  {
   "cell_type": "code",
   "execution_count": 44,
   "metadata": {
    "scrolled": true
   },
   "outputs": [
    {
     "data": {
      "text/plain": [
       "0                                                   ZOIT FI MULTIMERCADO CRÉDITO PRIVADO\n",
       "1                                   SAFRA FI RENDA FIXA REFERENCIADO DI CRÉDITO PRIVADO \n",
       "2     SAFRA CAPITAL MARKET INSTITUCIONAL FIC RENDA FIXA REFERENCIADO DI CRÉDITO PRIVADO \n",
       "3               SAFRA CAPITAL MARKET MAX FIC RENDA FIXA REFERENCIADO DI CRÉDITO PRIVADO \n",
       "4           SAFRA CAPITAL MARKET PREMIUM FIC RENDA FIXA REFERENCIADO DI CRÉDITO PRIVADO \n",
       "5               SAFRA CAPITAL MARKET VIP FIC RENDA FIXA REFERENCIADO DI CRÉDITO PRIVADO \n",
       "6                SAFRA CAPITAL MARKET 30 FIC RENDA FIXA REFERENCIADO DI CRÉDITO PRIVADO \n",
       "7                                                GRÉCIA FI MULTIMERCADO CRÉDITO PRIVADO \n",
       "8                                            VILA REAL FIC MULTIMERCADO CRÉDITO PRIVADO \n",
       "9                                      ITAÚ INSTITUCIONAL FIC RENDA FIXA REFERENCIADO DI\n",
       "10                                      ITAÚ INSTITUCIONAL FI RENDA FIXA REFERENCIADO DI\n",
       "11                                          ITAÚ LIQUIDEZ FIC RENDA FIXA REFERENCIADO DI\n",
       "12                                 ITAÚ UNICLASS LIQUIDEZ FIC RENDA FIXA REFERENCIADO DI\n",
       "13                                         ITAÚ CORPORATE FIC RENDA FIXA REFERENCIADO DI\n",
       "14                                   ITAÚ LARGE CORPORATE FIC RENDA FIXA REFERENCIADO DI\n",
       "Name: Fund Name, dtype: object"
      ]
     },
     "execution_count": 44,
     "metadata": {},
     "output_type": "execute_result"
    }
   ],
   "source": [
    "# 2 Using regex\n",
    "df = pd.read_excel('./data/Investment Funds.xlsx')\n",
    "\n",
    "# Create CNPJ column\n",
    "df['CNPJ'] = df[FUND].str.extract(pat = '(.{10}[/].{7})') \n",
    "\n",
    "# Remove CNPJ from fund name column.\n",
    "df[FUND] = df[FUND].replace('.{10}[/].{7}', '', regex=True)"
   ]
  },
  {
   "cell_type": "code",
   "execution_count": null,
   "metadata": {},
   "outputs": [],
   "source": []
  }
 ],
 "metadata": {
  "kernelspec": {
   "display_name": "Python 3",
   "language": "python",
   "name": "python3"
  },
  "language_info": {
   "codemirror_mode": {
    "name": "ipython",
    "version": 3
   },
   "file_extension": ".py",
   "mimetype": "text/x-python",
   "name": "python",
   "nbconvert_exporter": "python",
   "pygments_lexer": "ipython3",
   "version": "3.7.1"
  }
 },
 "nbformat": 4,
 "nbformat_minor": 2
}
