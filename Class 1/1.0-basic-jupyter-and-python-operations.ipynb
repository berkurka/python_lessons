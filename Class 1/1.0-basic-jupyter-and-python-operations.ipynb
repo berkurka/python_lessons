{
 "cells": [
  {
   "cell_type": "markdown",
   "metadata": {},
   "source": [
    "# Lesson 1 | Basic Jupyter usage and Python basic operations\n",
    "\n",
    "\n",
    "### LEARNING OBJECTIVES\n",
    "*After this lesson, you will be able to:*\n",
    "- Feel confortable using a Jupyter notebook\n",
    "- Know Python basic data types (String, Integer, Float, List, Dictionary, Boolean)\n",
    "- Know how to write Python basic operations (Arithmetic operators + - / *)\n",
    "- Implement Loops and Control Flow using `if`, `elif`, `else`, `for`, `while`\n",
    "- Write a basic function"
   ]
  },
  {
   "cell_type": "markdown",
   "metadata": {},
   "source": [
    "### 1. Basic Jupyter\n",
    "Jupyter notebook is an open source web application commony used to program Julia, R and Python.\n",
    "The notebook is not included when you install Python.\n",
    "Jupyter is a great tool to explore data and learn Python.\n",
    "\n",
    "##### <font color=green>Edit mode</font>:\n",
    "`Edit mode is indicated by a green cell border and a prompt showing in the editor area:`\n",
    "![title](./Images/editor_mode.png)\n",
    "\n",
    "\n",
    "##### <font color=blue>Command mode</font>:\n",
    "`Command mode is indicated by a grey cell border with a blue left margin:`\n",
    "![title](./Images/command_mode.png)\n",
    "\n",
    "\n",
    "##### The most common Jupyter Notebook operations: \n",
    "\n",
    "- <font color=green>Run a cell (shift + enter)</font>\n",
    "- <font color=green>Cut row (ctrl + x)</font>\n",
    "- <font color=green>Copy row (ctrl + x)</font>\n",
    "- <font color=green>Activate command mode (esc)</font>\n",
    "- <font color=green>Comment row or selected code (ctr + /)</font>\n",
    "\n",
    "\n",
    "- <font color=blue>Convert a Cell into Markdown (m)</font>\n",
    "- <font color=blue>Insert a cell above (a) or below (b)</font>\n",
    "- <font color=blue>Merge cells Markdown (shift + m)</font>\n",
    "- <font color=blue>Cut cell (x)</font>\n",
    "- <font color=blue>Copy cell (c)</font>\n",
    "\n"
   ]
  },
  {
   "cell_type": "markdown",
   "metadata": {},
   "source": [
    "**Practice 1.01**: Run the cell below, and then convert the cell below into markdown and run it again."
   ]
  },
  {
   "cell_type": "code",
   "execution_count": null,
   "metadata": {},
   "outputs": [],
   "source": [
    "### Convert this into Mark down.\n",
    "1 + 1"
   ]
  },
  {
   "cell_type": "markdown",
   "metadata": {},
   "source": [
    "**Practice 1.02**: Run the three cells below individually, than merge the cells and run it again."
   ]
  },
  {
   "cell_type": "code",
   "execution_count": null,
   "metadata": {},
   "outputs": [],
   "source": [
    "sales = 1 + 2"
   ]
  },
  {
   "cell_type": "code",
   "execution_count": null,
   "metadata": {},
   "outputs": [],
   "source": [
    "sales"
   ]
  },
  {
   "cell_type": "code",
   "execution_count": 13,
   "metadata": {
    "scrolled": true
   },
   "outputs": [
    {
     "name": "stdout",
     "output_type": "stream",
     "text": [
      "Total sales was: 3\n"
     ]
    }
   ],
   "source": [
    "print('Total sales was: ' + str(sales))"
   ]
  },
  {
   "cell_type": "markdown",
   "metadata": {},
   "source": [
    "### 2. Python basic data types"
   ]
  },
  {
   "cell_type": "markdown",
   "metadata": {},
   "source": [
    "- **String:**\n",
    " - *\"FizzBuzz\"*\n",
    " - *'1008'*\n",
    "- **Integer:** \n",
    " - *2*\n",
    " - *1000*\n",
    "- **Float:** \n",
    " - *2.0*\n",
    " - *3.1415*\n",
    "- **Boolean:** \n",
    "  - *True* (1)\n",
    "  - *False* (0)\n",
    "  \n",
    "#### You can check a variable data type using `type()` function.   "
   ]
  },
  {
   "cell_type": "code",
   "execution_count": 44,
   "metadata": {
    "scrolled": true
   },
   "outputs": [
    {
     "data": {
      "text/plain": [
       "int"
      ]
     },
     "execution_count": 44,
     "metadata": {},
     "output_type": "execute_result"
    }
   ],
   "source": [
    "type(1)"
   ]
  },
  {
   "cell_type": "code",
   "execution_count": 45,
   "metadata": {
    "scrolled": false
   },
   "outputs": [
    {
     "data": {
      "text/plain": [
       "float"
      ]
     },
     "execution_count": 45,
     "metadata": {},
     "output_type": "execute_result"
    }
   ],
   "source": [
    "type(1.0)"
   ]
  },
  {
   "cell_type": "code",
   "execution_count": 46,
   "metadata": {},
   "outputs": [
    {
     "data": {
      "text/plain": [
       "str"
      ]
     },
     "execution_count": 46,
     "metadata": {},
     "output_type": "execute_result"
    }
   ],
   "source": [
    "type('1')"
   ]
  },
  {
   "cell_type": "code",
   "execution_count": 47,
   "metadata": {},
   "outputs": [
    {
     "data": {
      "text/plain": [
       "bool"
      ]
     },
     "execution_count": 47,
     "metadata": {},
     "output_type": "execute_result"
    }
   ],
   "source": [
    "type(True)"
   ]
  },
  {
   "cell_type": "markdown",
   "metadata": {},
   "source": [
    "### 3. Python basic operations"
   ]
  },
  {
   "cell_type": "markdown",
   "metadata": {},
   "source": [
    "#### 3.1 Arithmetic Operators"
   ]
  },
  {
   "cell_type": "markdown",
   "metadata": {},
   "source": [
    "**Addition and subtraction:**"
   ]
  },
  {
   "cell_type": "code",
   "execution_count": 3,
   "metadata": {},
   "outputs": [
    {
     "data": {
      "text/plain": [
       "3"
      ]
     },
     "execution_count": 3,
     "metadata": {},
     "output_type": "execute_result"
    }
   ],
   "source": [
    "1 + 2  # Add integers"
   ]
  },
  {
   "cell_type": "code",
   "execution_count": 4,
   "metadata": {},
   "outputs": [
    {
     "data": {
      "text/plain": [
       "4.4"
      ]
     },
     "execution_count": 4,
     "metadata": {},
     "output_type": "execute_result"
    }
   ],
   "source": [
    "2.5 + 1.9  # Add floats"
   ]
  },
  {
   "cell_type": "code",
   "execution_count": 5,
   "metadata": {},
   "outputs": [
    {
     "data": {
      "text/plain": [
       "'fizzbuzz'"
      ]
     },
     "execution_count": 5,
     "metadata": {},
     "output_type": "execute_result"
    }
   ],
   "source": [
    "'fizz' + 'buzz' # Concatenate strings (ONLY WORKS WITH ADDITION)"
   ]
  },
  {
   "cell_type": "code",
   "execution_count": 6,
   "metadata": {},
   "outputs": [
    {
     "data": {
      "text/plain": [
       "[1, 2, 3, 3, 4, 5]"
      ]
     },
     "execution_count": 6,
     "metadata": {},
     "output_type": "execute_result"
    }
   ],
   "source": [
    "[1, 2, 3] + [3, 4, 5] # Concatenate Lists (ONLY WORKS WITH ADDITION)"
   ]
  },
  {
   "cell_type": "code",
   "execution_count": 7,
   "metadata": {},
   "outputs": [
    {
     "data": {
      "text/plain": [
       "-1"
      ]
     },
     "execution_count": 7,
     "metadata": {},
     "output_type": "execute_result"
    }
   ],
   "source": [
    "1 - 2  # Subtract integers"
   ]
  },
  {
   "cell_type": "code",
   "execution_count": 8,
   "metadata": {},
   "outputs": [
    {
     "data": {
      "text/plain": [
       "7.4"
      ]
     },
     "execution_count": 8,
     "metadata": {},
     "output_type": "execute_result"
    }
   ],
   "source": [
    "5.5 + 1.9  # Subtract floats"
   ]
  },
  {
   "cell_type": "markdown",
   "metadata": {},
   "source": [
    "**Multiplication, Division, Power and Mode:**"
   ]
  },
  {
   "cell_type": "code",
   "execution_count": 9,
   "metadata": {},
   "outputs": [
    {
     "name": "stdout",
     "output_type": "stream",
     "text": [
      "25\n",
      "1.0\n",
      "3125\n",
      "0\n"
     ]
    }
   ],
   "source": [
    "print(5 * 5) # Multiplication\n",
    "print(5 / 5) # Division\n",
    "print(5 ** 5) # Power\n",
    "print(1048 % 2) # Power"
   ]
  },
  {
   "cell_type": "markdown",
   "metadata": {},
   "source": [
    "#### <font color=green>Do</font> and <font color=darkyellow>Dont's</font>:\n",
    "1. <font color=green>Do:</font> \n",
    "    - Add Same data types (including string + string) -> **\"fiz\" + \"buzz\"** *or* **[1, 2] + [3, 4]**\n",
    "    - Add Float with Integer -> **\"1\" + 1.0**\n",
    "    - Add Float or Integer with Boolean -> **\"1\" + 1.0**\n",
    "2. <font color=Red>Don't:</font> \n",
    "    - Add string and float -> **\"1\" + 1.0**\n",
    "    - Add string and integer -> **\"A\" + 1**\n",
    "    - Add string and boolean -> **\"A\" + TRUE**"
   ]
  },
  {
   "cell_type": "markdown",
   "metadata": {},
   "source": [
    "**Practice 3.11**: Which of the operations below will **work without errors**.\n",
    "\n",
    "1. `print('Fizz' - 'buzz')`\n",
    "\n",
    "2. `print([1, 2] - [3, 4])`\n",
    "\n",
    "3. `print('1' + 4)`\n",
    "\n",
    "4. `print(1 + 4)`\n",
    "\n",
    "5. `print('1' + str(4)])`"
   ]
  },
  {
   "cell_type": "markdown",
   "metadata": {},
   "source": [
    "#### 3.2 Assignment Operators\n",
    "\n",
    "| Operator  | Python  |  Excel \\ VBA |\n",
    "|---|---|---|\n",
    "| **Assignment** | =  | =  |\n",
    "| **Is Equal** | ==  |  = |   \n",
    "| **Not Equal** | !=  |  <> |   \n",
    "| Greater |  > | >  |   \n",
    "| Lower | <  | < | \n",
    "| Greater or equal |  >= | >=  |   \n",
    "| Lower or equal | <=  | <= |\n",
    "| **Add And** | x += 1  | x = x + 1 |\n",
    "| **Subtract And** | x -= 1  | x = x - 1 | \n",
    "| **Multiply And** | x *= 1  | x = x * 1 | \n",
    "| **Devide And** | x /= 1  | x = x / 1 | "
   ]
  },
  {
   "cell_type": "markdown",
   "metadata": {},
   "source": [
    "**Practice 3.21**: Which of the operations below will **work without errors**."
   ]
  },
  {
   "cell_type": "code",
   "execution_count": null,
   "metadata": {},
   "outputs": [],
   "source": [
    "year = 2020"
   ]
  },
  {
   "cell_type": "markdown",
   "metadata": {},
   "source": [
    "1. year == 2020\n",
    "2. year > 2020\n",
    "3. year < 2020\n",
    "4. year != 2020\n",
    "5. year += 1"
   ]
  },
  {
   "cell_type": "markdown",
   "metadata": {},
   "source": [
    "### 4. Control Flow"
   ]
  },
  {
   "cell_type": "code",
   "execution_count": 1,
   "metadata": {},
   "outputs": [],
   "source": [
    "if 1 + 2 == 2:\n",
    "    print(\"YES\")"
   ]
  },
  {
   "cell_type": "code",
   "execution_count": null,
   "metadata": {},
   "outputs": [],
   "source": []
  },
  {
   "cell_type": "code",
   "execution_count": null,
   "metadata": {},
   "outputs": [],
   "source": []
  },
  {
   "cell_type": "markdown",
   "metadata": {},
   "source": [
    "### 5. Loops"
   ]
  },
  {
   "cell_type": "markdown",
   "metadata": {},
   "source": [
    "### Functions\n",
    "\n",
    "With functions, we can use what we've learned before to scale up immensely.\n",
    "\n",
    "---\n",
    "\n",
    "From the prework (and perhaps what you've done before DSI), remember that functions:\n",
    "- start with `def`, followed by the name of the function.\n",
    "- take inputs (or arguments).\n",
    "- return outputs.\n",
    "- use `return` instead of `print`.\n",
    "- are used frequently to make coding more efficient.\n",
    "\n",
    "One of my favorite novels - Ray Bradbury's *Fahrenheit 451* - has a quote that is appropriate here: \"We begin by beginning, I guess.\""
   ]
  },
  {
   "cell_type": "markdown",
   "metadata": {},
   "source": [
    "**Activity 1.01:** Let's write a function together. In the cell below, I want to write a function called `addition()` that takes in two numbers, $a$ and $b$, adds them together, and returns their sum."
   ]
  },
  {
   "cell_type": "code",
   "execution_count": 50,
   "metadata": {},
   "outputs": [
    {
     "ename": "SyntaxError",
     "evalue": "invalid syntax (<ipython-input-50-d6248f788087>, line 1)",
     "output_type": "error",
     "traceback": [
      "\u001b[1;36m  File \u001b[1;32m\"<ipython-input-50-d6248f788087>\"\u001b[1;36m, line \u001b[1;32m1\u001b[0m\n\u001b[1;33m    <details><summary> **Question 1**</summary>\u001b[0m\n\u001b[1;37m    ^\u001b[0m\n\u001b[1;31mSyntaxError\u001b[0m\u001b[1;31m:\u001b[0m invalid syntax\n"
     ]
    }
   ],
   "source": [
    "<details><summary> **Question 1**</summary>"
   ]
  },
  {
   "cell_type": "markdown",
   "metadata": {},
   "source": [
    "<details><summary> **Question 1**\n",
    "</summary>\n",
    "```\n",
    "Suppose we wanted to test whether our function could properly add 3 and 5. What code would we need to run to do that?\n",
    "```\n",
    "<details><summary> **Answer 1**\n",
    "</summary>\n",
    "```\n",
    "addition(3,5)\n",
    "addition(5,3)\n",
    "```\n",
    "</details>\n",
    "</details>"
   ]
  },
  {
   "cell_type": "markdown",
   "metadata": {},
   "source": [
    "When working with functions, we really only care about the **structure** of the function. For example, we can write a function that does the exact same thing, but with different arguments and a different name.\n",
    "\n",
    "Take a minute and practice that now on your own by creating a function that still adds two numbers and returns their sum, but that has a different name and different arguments."
   ]
  },
  {
   "cell_type": "code",
   "execution_count": null,
   "metadata": {},
   "outputs": [],
   "source": []
  },
  {
   "cell_type": "markdown",
   "metadata": {},
   "source": [
    "<details><summary> **Question 2**\n",
    "</summary>\n",
    "```\n",
    "If the names of functions or arguments don't affect functionality, are there best practices with how we name functions and arguments?\n",
    "```\n",
    "<details><summary> **Answer 2**\n",
    "</summary>\n",
    "```\n",
    "- There's no official standard across all of programming. However, you should use what makes sense!\n",
    "- As you build projects, you may have hundreds of functions running. Keeping the functions and their arguments straight is important... so pick names that are memorable.\n",
    "- If there is a standard practice at your office or in your field, use that. When collaborating on projects, it's important to be consistent.\n",
    "- Use \"\"\"docstrings\"\"\" and #comments to your advantage (and the advantage of your teammates)!\n",
    "```\n",
    "</details>\n",
    "</details>"
   ]
  },
  {
   "cell_type": "code",
   "execution_count": null,
   "metadata": {},
   "outputs": [],
   "source": []
  },
  {
   "cell_type": "markdown",
   "metadata": {
    "collapsed": true
   },
   "source": [
    "In the function we wrote above, we saved `result` as a variable, meaning this is stored in our computer and occupies some memory. As we work with larger data sets and more complicated functions, we might run into issues with memory. While it's not a major issue now, we'll often want to find ways to use less memory.\n",
    "\n",
    "**Activity 1.02:** Can we write the `addition()` function without saving a `result` variable?"
   ]
  },
  {
   "cell_type": "code",
   "execution_count": null,
   "metadata": {},
   "outputs": [],
   "source": []
  },
  {
   "cell_type": "markdown",
   "metadata": {},
   "source": [
    "**Activity 1.03:** Given how we've written `addition()` so far, let's try to break it. \n",
    "- By \"break the function,\" I mean that you might get an error or something unexpected.\n",
    "\n",
    "Take two minutes and, by only changing the inputs, try to break the function."
   ]
  },
  {
   "cell_type": "code",
   "execution_count": null,
   "metadata": {},
   "outputs": [],
   "source": []
  },
  {
   "cell_type": "markdown",
   "metadata": {},
   "source": [
    "**Activity 1.04:** Now that we've broken our `addition()` function, let's try to avoid some of those issues."
   ]
  },
  {
   "cell_type": "code",
   "execution_count": null,
   "metadata": {},
   "outputs": [],
   "source": []
  },
  {
   "cell_type": "markdown",
   "metadata": {},
   "source": [
    "<details><summary> **Question 3**\n",
    "</summary>\n",
    "```\n",
    "When you get an error, what should you do?\n",
    "```\n",
    "<details><summary> **Answer 3**\n",
    "</summary>\n",
    "```\n",
    "- Search Google or StackOverflow for the error.\n",
    "- Check with your peers.\n",
    "- \"If you don't know how to say it, say something else!\"\n",
    "- Reach out to your instructor.\n",
    "```\n",
    "</details>\n",
    "</details>"
   ]
  },
  {
   "cell_type": "markdown",
   "metadata": {},
   "source": [
    "**Activity 1.05:** Let's create a new function called `addition_list()` where the input is a list and the output is the sum of the numbers in that list.\n",
    "\n",
    "Take five minutes and write this function. Be sure to test the output, try to break it, and work to fix what you broke. You're welcome to work by yourself or with a partner if you'd like!\n",
    "\n",
    "We'll share a response from each market in five minutes."
   ]
  },
  {
   "cell_type": "code",
   "execution_count": null,
   "metadata": {},
   "outputs": [],
   "source": []
  },
  {
   "cell_type": "markdown",
   "metadata": {},
   "source": [
    "**Activity 1.06:** Let's create a new function called `stdev()` where the input is a list and the output is $s$, the standard deviation of that list. (While we could use libraries or base Python to do some of the heavy lifting here, let's only use what we've learned thus far. We'll have an opportunity to use packages later!)\n",
    "\n",
    "$$s = \\sqrt{\\frac{1}{n-1}\\sum_{i=1}^n(x_i - \\bar{x})^2}$$\n",
    "\n",
    "When converting this from a formula to a function, it'll be helpful for us to write out what we should do, step by step."
   ]
  },
  {
   "cell_type": "markdown",
   "metadata": {},
   "source": [
    "<details><summary> **Question 4**\n",
    "</summary>\n",
    "```\n",
    "Step by step, how do we calculate the standard deviation of a list of numbers?\n",
    "```\n",
    "<details><summary> **Answer 4**\n",
    "</summary>\n",
    "```\n",
    "1. Find the mean of the list.\n",
    "2. Iterate over the list, subtracting the mean from each observation.\n",
    "3. Square each result from 2.\n",
    "4. Sum each result from 3.\n",
    "5. Calculate n-1, where n is the total number of observations in the original list.\n",
    "6. Divide the result from 4 by the result from 5.\n",
    "7. Take the square root of the result from 6.\n",
    "```\n",
    "</details>\n",
    "</details>"
   ]
  },
  {
   "cell_type": "markdown",
   "metadata": {},
   "source": [
    "Take seven minutes and, in a small group, write the `stdev()` function. Once you've written the function, spend any remaining time testing and debugging it."
   ]
  },
  {
   "cell_type": "code",
   "execution_count": null,
   "metadata": {
    "collapsed": true
   },
   "outputs": [],
   "source": []
  },
  {
   "cell_type": "markdown",
   "metadata": {},
   "source": [
    "**Activity 1.07:** Let's create a new function called `summary_stats()` where the input is a list and the output is the mean, median, range, and standard deviation of that list.\n",
    "\n",
    "We'll use a Python package called `NumPy` for some of our calculations here. **NumPy** stands for **Num**erical **Py**thon and will be crucial throughout the course. We'll have a deep-dive on that this coming Monday, but we can use a few commands now.\n",
    "- Mean: `np.mean(list)`\n",
    "- Median: `np.median(list)`\n",
    "- Maximum: `np.max(list)`\n",
    "- Minimum: `np.min(list)`"
   ]
  },
  {
   "cell_type": "code",
   "execution_count": null,
   "metadata": {},
   "outputs": [],
   "source": []
  },
  {
   "cell_type": "markdown",
   "metadata": {},
   "source": [
    "We're not limited to using functions independent of one another! Part of the beauty of using functions is that they can work together. This will allow us to scale up very, very quickly."
   ]
  },
  {
   "cell_type": "markdown",
   "metadata": {},
   "source": [
    "**Activity 1.08:** We're going to estimate the value of $\\pi$ by generating random numbers!\n",
    "\n",
    "---\n",
    "\n",
    "We'll write a function called `pi_estimation()` that takes one input, the number of simulations $n$, and outputs our estimate of the numerical constant $\\pi$. [This visual](https://en.wikipedia.org/wiki/Monte_Carlo_method#/media/File:Pi_30K.gif) may be helpful, although our approach will be *slightly* different.\n",
    "\n",
    "Before coding this, let's look at [some documentation for generating random numbers](https://docs.scipy.org/doc/numpy-1.13.0/reference/generated/numpy.random.uniform.html)."
   ]
  },
  {
   "cell_type": "code",
   "execution_count": null,
   "metadata": {},
   "outputs": [],
   "source": []
  },
  {
   "cell_type": "markdown",
   "metadata": {},
   "source": [
    "### Wrap-Up\n",
    "\n",
    "Let's think back to how we started thinking about functions.\n",
    "\n",
    "---\n",
    "\n",
    "Some best practices with functions (and programming in general):\n",
    "- Write comments.\n",
    "- Start small. Rather than attempting to write the entire function at one time, think logically about what you need to do and write each step out. Check your code after each step to make sure what you believe is happening is actually happening!\n",
    "- Start by getting the answer, then try to get that answer more quickly.\n",
    "- Before production, try to break it. Put in positive numbers, negative numbers, 0, strings, dictionaries, lists, blanks - see what breaks and how you can fix it.\n",
    "- As you work with more complicated functions, you might find that it often makes sense to write the body (inside) of the function first, *then* define the function and its arguments. Trying to foresee every argument and input you need before typing can be difficult.\n",
    "- **Avoid deleting your code if you can - always. Comment it out, save it in a different file, move it to a different cell if you have to, but try to never delete a fragment of code unless it's 100% worthless and you've checked with your friends and it's been a decade since you touched that fragment.**\n",
    "![](https://s3-us-west-2.amazonaws.com/superdeluxe.com/dankland/generators/160612583-1500350189682.jpeg)\n",
    "\n",
    "---\n",
    "\n",
    "#### Resources\n",
    "- [A Primer on Using Monte Carlo Simulations to Estimate Pi](http://mathfaculty.fullerton.edu/mathews/n2003/montecarlopimod.html)"
   ]
  }
 ],
 "metadata": {
  "kernelspec": {
   "display_name": "Python 3",
   "language": "python",
   "name": "python3"
  },
  "language_info": {
   "codemirror_mode": {
    "name": "ipython",
    "version": 3
   },
   "file_extension": ".py",
   "mimetype": "text/x-python",
   "name": "python",
   "nbconvert_exporter": "python",
   "pygments_lexer": "ipython3",
   "version": "3.7.1"
  }
 },
 "nbformat": 4,
 "nbformat_minor": 2
}
