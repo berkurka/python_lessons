{
 "cells": [
  {
   "cell_type": "markdown",
   "metadata": {},
   "source": [
    "# Lesson 1 | Basic Jupyter usage and Python basic operations\n",
    "\n",
    "\n",
    "### LEARNING OBJECTIVES\n",
    "*After this lesson, you will be able to:*\n",
    "- Feel confortable using a Jupyter notebook\n",
    "- Know Python basic data types (String, Integer, Float, List, Dictionary, Boolean)\n",
    "- Know how to write Python basic operations (Arithmetic operators + - / *)\n",
    "- Implement Loops and Control Flow using `if`, `elif`, `else`, `for`, `while`\n",
    "- Write a basic function\n",
    "- Solve FizzBuzz problem (question used in interviews)."
   ]
  },
  {
   "cell_type": "markdown",
   "metadata": {},
   "source": [
    "### 1. Basic Jupyter\n",
    "Jupyter notebook is an open source web application commony used to program Julia, R and Python.\n",
    "The notebook is not included when you install Python.\n",
    "Jupyter is a great tool to explore data and learn Python.\n",
    "\n",
    "##### <font color=green>Edit mode</font>:\n",
    "`Edit mode is indicated by a green cell border and a prompt showing in the editor area:`\n",
    "![title](./Images/editor_mode.png)\n",
    "\n",
    "\n",
    "##### <font color=blue>Command mode</font>:\n",
    "`Command mode is indicated by a grey cell border with a blue left margin:`\n",
    "![title](./Images/command_mode.png)\n",
    "\n",
    "\n",
    "##### The most common Jupyter Notebook operations: \n",
    "\n",
    "- <font color=green>Run a cell (shift + enter)</font>\n",
    "- <font color=green>Cut row (ctrl + x)</font>\n",
    "- <font color=green>Copy row (ctrl + x)</font>\n",
    "- <font color=green>Activate command mode (esc)</font>\n",
    "- <font color=green>Comment row or selected code (ctr + /)</font>\n",
    "\n",
    "\n",
    "- <font color=blue>Convert a Cell into Markdown (m)</font>\n",
    "- <font color=blue>Insert a cell above (a) or below (b)</font>\n",
    "- <font color=blue>Merge cells Markdown (shift + m)</font>\n",
    "- <font color=blue>Cut cell (x)</font>\n",
    "- <font color=blue>Copy cell (c)</font>\n",
    "\n"
   ]
  },
  {
   "cell_type": "markdown",
   "metadata": {},
   "source": [
    "**Practice 1.01**: Run the cell below, and then convert the cell below into markdown and run it again."
   ]
  },
  {
   "cell_type": "code",
   "execution_count": null,
   "metadata": {},
   "outputs": [],
   "source": [
    "### Convert this into Mark down.\n",
    "1 + 1"
   ]
  },
  {
   "cell_type": "markdown",
   "metadata": {},
   "source": [
    "**Practice 1.02**: Run the three cells below individually, than merge the cells and run it again."
   ]
  },
  {
   "cell_type": "code",
   "execution_count": null,
   "metadata": {},
   "outputs": [],
   "source": [
    "sales = 1 + 2"
   ]
  },
  {
   "cell_type": "code",
   "execution_count": null,
   "metadata": {},
   "outputs": [],
   "source": [
    "sales"
   ]
  },
  {
   "cell_type": "code",
   "execution_count": null,
   "metadata": {
    "scrolled": true
   },
   "outputs": [],
   "source": [
    "print('Total sales was: ' + str(sales))\n",
    "print(\"Total sales was: \" + str(sales))\n",
    "# Add print examples below\n",
    "print(f'Total sales was: {sales}'.format('.%'))\n"
   ]
  },
  {
   "cell_type": "markdown",
   "metadata": {},
   "source": [
    "### 2. Python basic data types"
   ]
  },
  {
   "cell_type": "markdown",
   "metadata": {},
   "source": [
    "- **String:**\n",
    " - *\"FizzBuzz\"*\n",
    " - *'1008'*\n",
    "- **Integer:** \n",
    " - *2*\n",
    " - *1000*\n",
    "- **Float:** \n",
    " - *2.0*\n",
    " - *3.1415*\n",
    "- **Boolean:** \n",
    "  - *True* (1)\n",
    "  - *False* (0)\n",
    "- **List:**  \n",
    "  - [1, 2, 3, 4]\n",
    "  - [\"a\", \"b\", \"c\", \"d\"]\n",
    "  - [1, \"b\", 1.0] -> Can receive different data types\n",
    "- **range:**\n",
    "  - range(start inclusive, end exclusive, increment)\n",
    "  - range(4) -> Default Start from default 0 and default increment 1\n",
    "  - range(1,10) -> Start from 0 and default increment 1\n",
    "  - range(1,10,2) -> Start from 1 and increment 2\n",
    "- **dictionary:**\n",
    "  - Are created using **key: value** pairs separated by a comma **,**\n",
    "  - Keys are unique, and should be strings, numbers or tuples.\n",
    "  - Values could be of any data type including dictionary.\n",
    "  - {key1: value1, key2, value2}\n",
    "  - {\"Bernard\": 10, \"Andrew\": 20}\n",
    "  - {\"Bernard\": {'age': 10}, \"Andrew\": {'age':20}} -> Nested dictionary\n",
    "  \n",
    "- **set:**\n",
    "    - Are unordered collection of unique elemetns.\n",
    "    - a = {1, 'a', 2, 3}\n",
    "    - b = {3, 4, 5}\n",
    "#### You can check a variable data type using `type()` function.   "
   ]
  },
  {
   "cell_type": "markdown",
   "metadata": {},
   "source": [
    "#### List Example"
   ]
  },
  {
   "cell_type": "code",
   "execution_count": null,
   "metadata": {},
   "outputs": [],
   "source": [
    "bk_groceries = ['apple', 'banana', 'limes', 'brocoli']\n",
    "# Printing the legnth of the list\n",
    "print(len(bk_groceries))\n",
    "\n",
    "# Printing the first element of the list\n",
    "print(bk_groceries[0])\n",
    "\n",
    "# Printing the last element of the list\n",
    "print(bk_groceries[3])"
   ]
  },
  {
   "cell_type": "markdown",
   "metadata": {},
   "source": [
    "#### Range Example\n",
    "   - Remember: **range(start, end, increment)**\n",
    "   - Start is inclusive and end exclusive"
   ]
  },
  {
   "cell_type": "code",
   "execution_count": null,
   "metadata": {},
   "outputs": [],
   "source": [
    "my_range = range(0,10)\n",
    "# In order to print all numbers inside a range at once you can\n",
    "# convert it into a list and print it.\n",
    "print(list(my_range))\n",
    "\n",
    "# If we want to have it from 0 to 10, we need to change end to 11\n",
    "print(list(range(0,11)))\n",
    "\n",
    "# We can change the increment to 2.\n",
    "print(list(range(0,11,2)))"
   ]
  },
  {
   "cell_type": "markdown",
   "metadata": {},
   "source": [
    "#### Dictonary example:"
   ]
  },
  {
   "cell_type": "code",
   "execution_count": null,
   "metadata": {},
   "outputs": [],
   "source": [
    "people = {\"Bernardo\": {'age': 10, 'Hobby': 'yoga'}\n",
    "           , \"Andrew\": {'age': 20, 'Hobby': 'soccer'}}\n",
    "a = {2, 2}"
   ]
  },
  {
   "cell_type": "markdown",
   "metadata": {},
   "source": [
    "#### Set example"
   ]
  },
  {
   "cell_type": "code",
   "execution_count": null,
   "metadata": {},
   "outputs": [],
   "source": [
    "set_a = {1, 2, 3}\n",
    "print(set_a)\n",
    "\n",
    "# Can also be created from lists\n",
    "# duplicates are removed when list is converted to set.\n",
    "list_b = [3, 4, 5, 5, 5, 5, 5, 3]\n",
    "set_b = set(list_b)\n",
    "print(set_b)\n"
   ]
  },
  {
   "cell_type": "markdown",
   "metadata": {},
   "source": [
    "#### Use `type()` to check data type of a variable"
   ]
  },
  {
   "cell_type": "code",
   "execution_count": null,
   "metadata": {
    "scrolled": false
   },
   "outputs": [],
   "source": [
    "type(1.0)"
   ]
  },
  {
   "cell_type": "code",
   "execution_count": null,
   "metadata": {},
   "outputs": [],
   "source": [
    "type('1')"
   ]
  },
  {
   "cell_type": "code",
   "execution_count": null,
   "metadata": {},
   "outputs": [],
   "source": [
    "type(True)"
   ]
  },
  {
   "cell_type": "markdown",
   "metadata": {},
   "source": [
    "### 3. Python basic operations"
   ]
  },
  {
   "cell_type": "markdown",
   "metadata": {},
   "source": [
    "#### 3.1 Arithmetic Operators"
   ]
  },
  {
   "cell_type": "markdown",
   "metadata": {},
   "source": [
    "**Addition and subtraction:**"
   ]
  },
  {
   "cell_type": "code",
   "execution_count": null,
   "metadata": {},
   "outputs": [],
   "source": [
    "1 + 2  # Add integers"
   ]
  },
  {
   "cell_type": "code",
   "execution_count": null,
   "metadata": {},
   "outputs": [],
   "source": [
    "2.5 + 1.9  # Add floats"
   ]
  },
  {
   "cell_type": "code",
   "execution_count": null,
   "metadata": {},
   "outputs": [],
   "source": [
    "'fizz' + 'buzz' # Concatenate strings (ONLY WORKS WITH ADDITION)"
   ]
  },
  {
   "cell_type": "code",
   "execution_count": null,
   "metadata": {},
   "outputs": [],
   "source": [
    "[1, 2, 3] + [3, 4, 5] # Concatenate Lists (ONLY WORKS WITH ADDITION)"
   ]
  },
  {
   "cell_type": "code",
   "execution_count": null,
   "metadata": {},
   "outputs": [],
   "source": [
    "1 - 2  # Subtract integers"
   ]
  },
  {
   "cell_type": "code",
   "execution_count": null,
   "metadata": {},
   "outputs": [],
   "source": [
    "5.5 + 1.9  # Subtract floats"
   ]
  },
  {
   "cell_type": "markdown",
   "metadata": {},
   "source": [
    "**Multiplication, Division, Power and Mode:**"
   ]
  },
  {
   "cell_type": "code",
   "execution_count": null,
   "metadata": {},
   "outputs": [],
   "source": [
    "print(5 * 5) # Multiplication\n",
    "print(5 / 5) # Division\n",
    "print(5 ** 5) # Power\n",
    "print(1048 % 2) # Power"
   ]
  },
  {
   "cell_type": "markdown",
   "metadata": {},
   "source": [
    "#### <font color=green>Do</font> and <font color=darkyellow>Dont's</font>:\n",
    "1. <font color=green>Do:</font> \n",
    "    - Add Same data types (including string + string) -> **\"fiz\" + \"buzz\"** *or* **[1, 2] + [3, 4]**\n",
    "    - Add Float with Integer -> **\"1\" + 1.0**\n",
    "    - Add Float or Integer with Boolean -> **\"1\" + 1.0**\n",
    "2. <font color=Red>Don't:</font> \n",
    "    - Add string and float -> **\"1\" + 1.0**\n",
    "    - Add string and integer -> **\"A\" + 1**\n",
    "    - Add string and boolean -> **\"A\" + TRUE**"
   ]
  },
  {
   "cell_type": "markdown",
   "metadata": {},
   "source": [
    "**Practice 3.11**: Which of the operations below will **work without errors**.\n",
    "\n",
    "1. `print('Fizz' - 'buzz')`\n",
    "\n",
    "2. `print([1, 2] - [3, 4])`\n",
    "\n",
    "3. `print('1' + 4)`\n",
    "\n",
    "4. `print(1 + 4)`\n",
    "\n",
    "5. `print('1' + str(4)])`"
   ]
  },
  {
   "cell_type": "markdown",
   "metadata": {},
   "source": [
    "#### 3.2 Assignment Operators\n",
    "\n",
    "| Operator  | Python  |  Excel \\ VBA |\n",
    "|---|---|---|\n",
    "| **Assignment** | =  | =  |\n",
    "| **Is Equal** | ==  |  = |   \n",
    "| **Not Equal** | !=  |  <> |   \n",
    "| Greater |  > | >  |   \n",
    "| Lower | <  | < | \n",
    "| Greater or equal |  >= | >=  |   \n",
    "| Lower or equal | <=  | <= |\n",
    "| **Add And** | x += 1  | x = x + 1 |\n",
    "| **Subtract And** | x -= 1  | x = x - 1 | \n",
    "| **Multiply And** | x *= 1  | x = x * 1 | \n",
    "| **Devide And** | x /= 1  | x = x / 1 | "
   ]
  },
  {
   "cell_type": "markdown",
   "metadata": {},
   "source": [
    "**Practice 3.21**: Which of the operations below will **work without errors**."
   ]
  },
  {
   "cell_type": "code",
   "execution_count": null,
   "metadata": {},
   "outputs": [],
   "source": [
    "year = 2020"
   ]
  },
  {
   "cell_type": "markdown",
   "metadata": {},
   "source": [
    "1. year == 2020\n",
    "2. year > 2020\n",
    "3. year < 2020\n",
    "4. year != 2020\n",
    "5. year += 1"
   ]
  },
  {
   "cell_type": "markdown",
   "metadata": {},
   "source": [
    "### 4. Control Flow"
   ]
  },
  {
   "cell_type": "code",
   "execution_count": null,
   "metadata": {},
   "outputs": [],
   "source": [
    "#Python\n",
    "age = 21\n",
    "if age >= 21:\n",
    "    print(\"Yes\")\n",
    "else:\n",
    "    print(\"No\")\n",
    "print(\"This is outside the if\")"
   ]
  },
  {
   "cell_type": "code",
   "execution_count": null,
   "metadata": {},
   "outputs": [],
   "source": [
    "# Same in VBA:\n",
    "If age >= 21 Then\n",
    "    MsgBox (\"Yes\")\n",
    "Else\n",
    "    MsgBox (\"No\")\n",
    "End If"
   ]
  },
  {
   "cell_type": "code",
   "execution_count": null,
   "metadata": {},
   "outputs": [],
   "source": [
    "#Python else if\n",
    "age = 21\n",
    "if age >= 21:\n",
    "    print(\"Yes\")\n",
    "elif age > 18:\n",
    "    print(\"Between 18 and 21\")\n",
    "else:\n",
    "    print(\"No\")"
   ]
  },
  {
   "cell_type": "markdown",
   "metadata": {},
   "source": [
    "#### Important:\n",
    "- VBA **Then** = Python **:**\n",
    "- In Python the lines inside the if or else need to have 4 spaces of intentation."
   ]
  },
  {
   "cell_type": "code",
   "execution_count": null,
   "metadata": {},
   "outputs": [],
   "source": [
    "#Python Boolean in if flow control.\n",
    "test = True\n",
    "if test:\n",
    "    print(\"approved\")"
   ]
  },
  {
   "cell_type": "markdown",
   "metadata": {},
   "source": [
    "### 5. Loops"
   ]
  },
  {
   "cell_type": "code",
   "execution_count": null,
   "metadata": {},
   "outputs": [],
   "source": [
    "# WHILE\n",
    "i = 1\n",
    "while i < 4:\n",
    "    print(f'The value of i is: {i}')\n",
    "    i += 1  # Same as i = i + 1"
   ]
  },
  {
   "cell_type": "code",
   "execution_count": null,
   "metadata": {},
   "outputs": [],
   "source": [
    "# For & list of string\n",
    "for element in ['a', 'b', 'd', 'e']:\n",
    "    print(f'The value of element is: {element}')"
   ]
  },
  {
   "cell_type": "code",
   "execution_count": null,
   "metadata": {},
   "outputs": [],
   "source": [
    "# For & range\n",
    "print(f'range(5) looks like this: {list(range(5))}')\n",
    "for i in range(5):\n",
    "    print(f'The value of i is: {i}')"
   ]
  },
  {
   "cell_type": "markdown",
   "metadata": {},
   "source": [
    "#### Loop Break"
   ]
  },
  {
   "cell_type": "code",
   "execution_count": null,
   "metadata": {},
   "outputs": [],
   "source": [
    "# For & range\n",
    "print(f'range(5) looks like this: {list(range(5))}')\n",
    "for i in range(5):\n",
    "    if i == 3:\n",
    "        break\n",
    "    print(f'The value of i is: {i}')\n",
    "print(\"loop is over\")"
   ]
  },
  {
   "cell_type": "markdown",
   "metadata": {},
   "source": [
    "#### Important:\n",
    "- When we use While don't forget to add he step to the loop variable, in the example above I added i = i + 1\n",
    "- When we use for, ther is no need to in add the step to the loop variable."
   ]
  },
  {
   "cell_type": "markdown",
   "metadata": {},
   "source": [
    "### 6. Functions\n",
    "- Functions start with def followed by function name\n",
    "- Arguments in parenthesis separated by commas.\n",
    "- Use return followed by the funtion output"
   ]
  },
  {
   "cell_type": "code",
   "execution_count": null,
   "metadata": {},
   "outputs": [],
   "source": [
    "# Creating a function to add one\n",
    "def add_one(x):\n",
    "    \"Document what function does.\"\n",
    "    x += 1\n",
    "    return x"
   ]
  },
  {
   "cell_type": "code",
   "execution_count": null,
   "metadata": {},
   "outputs": [],
   "source": [
    "# Calling the function\n",
    "add_one(10)"
   ]
  },
  {
   "cell_type": "code",
   "execution_count": null,
   "metadata": {},
   "outputs": [],
   "source": [
    "# Function with multiple arguments\n",
    "def add_square_root(a, b):\n",
    "    \"Adds square root of a and b\"\n",
    "    return a**0.5 + b**0.5"
   ]
  },
  {
   "cell_type": "code",
   "execution_count": null,
   "metadata": {},
   "outputs": [],
   "source": [
    "# Calling function\n",
    "add_square_root(4,4)"
   ]
  },
  {
   "cell_type": "markdown",
   "metadata": {},
   "source": [
    "**Practice 6.01:** Write a function that returns True if a number is even and False if its odd."
   ]
  },
  {
   "cell_type": "markdown",
   "metadata": {},
   "source": []
  },
  {
   "cell_type": "markdown",
   "metadata": {},
   "source": [
    "### 7. Appendix\n",
    "    - List Comprehension\n",
    "    - Dictionary Comprehension\n",
    "    - Loop through list / Dictionarys / sets\n",
    "    - Change values in dictionary / list / set.\n",
    "    - Difference between set and list.\n",
    "    - Loop Continue, pass"
   ]
  },
  {
   "cell_type": "code",
   "execution_count": null,
   "metadata": {},
   "outputs": [],
   "source": []
  }
 ],
 "metadata": {
  "kernelspec": {
   "display_name": "Python 3",
   "language": "python",
   "name": "python3"
  },
  "language_info": {
   "codemirror_mode": {
    "name": "ipython",
    "version": 3
   },
   "file_extension": ".py",
   "mimetype": "text/x-python",
   "name": "python",
   "nbconvert_exporter": "python",
   "pygments_lexer": "ipython3",
   "version": "3.7.1"
  }
 },
 "nbformat": 4,
 "nbformat_minor": 2
}
