{
 "cells": [
  {
   "cell_type": "markdown",
   "metadata": {},
   "source": [
    "# Practice"
   ]
  },
  {
   "cell_type": "markdown",
   "metadata": {},
   "source": [
    "**1. Fizzbuzz problem**\n",
    "\n",
    "- Write a short program that prints each number from 1 to 100 on a new line. \n",
    "- For each multiple of 3, print \"Fizz\" instead of the number. \n",
    "- For each multiple of 5, print \"Buzz\" instead of the number. \n",
    "- For numbers which are multiples of both 3 and 5, print \"FizzBuzz\" instead of the number.\n",
    "\n",
    "source: https://www.hackerrank.com/challenges/fizzbuzz/problem\n",
    "\n",
    "Output example:\n",
    "- 3 Fizz\n",
    "- 5 Buzz ...."
   ]
  },
  {
   "cell_type": "markdown",
   "metadata": {},
   "source": [
    "#### Answer:"
   ]
  },
  {
   "cell_type": "code",
   "execution_count": null,
   "metadata": {},
   "outputs": [],
   "source": []
  },
  {
   "cell_type": "markdown",
   "metadata": {},
   "source": [
    "**2. Modified Fizzbuzz problem**\n",
    "\n",
    "- Using the code created above.\n",
    "- Remove the print statements.\n",
    "- Store the results that are printed in a dictionary form.\n",
    "- Print the final dictionary\n",
    "\n",
    "Output example:\n",
    "- {3: 'Fizz', 5: 'Buzz', 15: 'FizzBuzz'...)"
   ]
  },
  {
   "cell_type": "markdown",
   "metadata": {},
   "source": [
    "#### Answer:"
   ]
  },
  {
   "cell_type": "code",
   "execution_count": null,
   "metadata": {},
   "outputs": [],
   "source": []
  }
 ],
 "metadata": {
  "kernelspec": {
   "display_name": "Python 3",
   "language": "python",
   "name": "python3"
  },
  "language_info": {
   "codemirror_mode": {
    "name": "ipython",
    "version": 3
   },
   "file_extension": ".py",
   "mimetype": "text/x-python",
   "name": "python",
   "nbconvert_exporter": "python",
   "pygments_lexer": "ipython3",
   "version": "3.7.1"
  }
 },
 "nbformat": 4,
 "nbformat_minor": 2
}
