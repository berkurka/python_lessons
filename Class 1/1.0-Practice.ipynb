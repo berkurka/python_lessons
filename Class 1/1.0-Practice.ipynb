{
 "cells": [
  {
   "cell_type": "markdown",
   "metadata": {},
   "source": [
    "# Practice"
   ]
  },
  {
   "cell_type": "markdown",
   "metadata": {},
   "source": [
    "**1. Data type selection**\n",
    "\n",
    "##### For each of the scenarios below select the best data type and calulate what is asked.\n",
    "\n",
    "    1.1 Bernard copied all the negative charges in his mothly credit card satement. He wants to count how many transactions there was and the total amount charged.\n",
    "    Here are the trasactions:\n",
    "    40.30\n",
    "    50,34\n",
    "    15.20\n",
    "    23.40\n",
    "    55.70\n",
    "    110.00\n",
    "    22.00\n",
    "    22.00\n",
    "    3.63\n",
    "    4.3\n",
    "\n",
    "    1.2 Bernard and Clarissa created 2 separated grocerie lists. Since they will be shopping together if there are items that are in both lists they will only consider it once. They want to know if they will have more or less than 15 unique items, once we combine both lists. The lists are defined below. Calculate the number of unique groceries and write a print statement to print \"Fast Chackout = True\" if unique groceries is lower or equal than 15.\n",
    "    \n",
    "    bernards_groceries -> \"Apple\", \"Banana\", \"Mango\", \"Cilantro\"\n",
    "    clarissa_groceries -> \"Blueberry\", \"Banana\", \"Blackberry\", \"Beans\", \"Rice\", \"Apple\", \"Avocado\""
   ]
  },
  {
   "cell_type": "markdown",
   "metadata": {},
   "source": [
    "#### Answer:"
   ]
  },
  {
   "cell_type": "code",
   "execution_count": null,
   "metadata": {},
   "outputs": [],
   "source": [
    "# 1.1\n",
    "\n",
    "# Python variable contaning all charges:\n",
    "\n",
    "# Number charges:\n",
    "\n",
    "# Total ammount charged:\n"
   ]
  },
  {
   "cell_type": "code",
   "execution_count": 2,
   "metadata": {},
   "outputs": [],
   "source": [
    "# 1.2 \n",
    "\n",
    "# Python variable contaning all groceries:\n",
    "\n",
    "# Number of unique groceries:\n",
    "\n",
    "# Write a print statement to print \"Fast Chackout = True\" if unique groceries is lower or equal than 15."
   ]
  },
  {
   "cell_type": "markdown",
   "metadata": {},
   "source": [
    "**2. Fizzbuzz problem**\n",
    "\n",
    "- Write a short program that prints each number from 1 to 100 on a new line. \n",
    "- For each multiple of 3, print \"Fizz\" instead of the number. \n",
    "- For each multiple of 5, print \"Buzz\" instead of the number. \n",
    "- For numbers which are multiples of both 3 and 5, print \"FizzBuzz\" instead of the number.\n",
    "\n",
    "source: https://www.hackerrank.com/challenges/fizzbuzz/problem\n",
    "\n",
    "Output example:\n",
    "- 3 Fizz\n",
    "- 5 Buzz ...."
   ]
  },
  {
   "cell_type": "markdown",
   "metadata": {},
   "source": [
    "#### Answer:"
   ]
  },
  {
   "cell_type": "code",
   "execution_count": null,
   "metadata": {},
   "outputs": [],
   "source": []
  },
  {
   "cell_type": "markdown",
   "metadata": {},
   "source": [
    "**3. Modified Fizzbuzz problem**\n",
    "\n",
    "- Using the code created above.\n",
    "- Remove the print statements.\n",
    "- Store the results that are printed in a dictionary form.\n",
    "- Print the final dictionary\n",
    "\n",
    "Output example:\n",
    "- {3: 'Fizz', 5: 'Buzz', 15: 'FizzBuzz'...)"
   ]
  },
  {
   "cell_type": "markdown",
   "metadata": {},
   "source": [
    "#### Answer:"
   ]
  },
  {
   "cell_type": "code",
   "execution_count": null,
   "metadata": {},
   "outputs": [],
   "source": []
  }
 ],
 "metadata": {
  "kernelspec": {
   "display_name": "Python 3",
   "language": "python",
   "name": "python3"
  },
  "language_info": {
   "codemirror_mode": {
    "name": "ipython",
    "version": 3
   },
   "file_extension": ".py",
   "mimetype": "text/x-python",
   "name": "python",
   "nbconvert_exporter": "python",
   "pygments_lexer": "ipython3",
   "version": "3.7.1"
  }
 },
 "nbformat": 4,
 "nbformat_minor": 2
}
