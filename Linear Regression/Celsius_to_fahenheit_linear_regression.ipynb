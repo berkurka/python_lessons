{
 "cells": [
  {
   "cell_type": "code",
   "execution_count": 8,
   "metadata": {},
   "outputs": [],
   "source": [
    "import pandas as pd\n",
    "from sklearn.linear_model import LinearRegression\n",
    "import matplotlib.pyplot as plt\n",
    "from sklearn.metrics import r2_score"
   ]
  },
  {
   "cell_type": "code",
   "execution_count": 9,
   "metadata": {},
   "outputs": [],
   "source": [
    "fahrenheit = {'t1':-30, 't2':-20, 't3':-10, 't4':0}\n",
    "transform = lambda x: (float(5)/9)*(x-32)"
   ]
  },
  {
   "cell_type": "markdown",
   "metadata": {},
   "source": [
    "The equation to convert celsius to fahenheit is:\n",
    "\n",
    "$fahren =  \\frac{\\text{5}}{\\text{9}} *  (celsius-{32})$"
   ]
  },
  {
   "cell_type": "code",
   "execution_count": 33,
   "metadata": {},
   "outputs": [],
   "source": [
    "celsius = []\n",
    "fahrenheit = []\n",
    "for i in range(-100, 100, 100):\n",
    "    celsius.append(i)\n",
    "    fahrenheit.append(transform(i))"
   ]
  },
  {
   "cell_type": "code",
   "execution_count": 34,
   "metadata": {},
   "outputs": [],
   "source": [
    "df = pd.DataFrame(list(zip(celsius, fahrenheit)), columns=['celsius', 'fahrenheit'])\n",
    "x = df['celsius'].values.reshape(-1,1)\n",
    "y = df['fahrenheit']"
   ]
  },
  {
   "cell_type": "code",
   "execution_count": 35,
   "metadata": {},
   "outputs": [
    {
     "name": "stdout",
     "output_type": "stream",
     "text": [
      "-17.77777777777778\n",
      "[0.55555556]\n",
      "1.0\n"
     ]
    },
    {
     "data": {
      "image/png": "[encoded data removed]",
      "text/plain": [
       "<Figure size 432x288 with 1 Axes>"
      ]
     },
     "metadata": {
      "needs_background": "light"
     },
     "output_type": "display_data"
    }
   ],
   "source": [
    "model = LinearRegression(fit_intercept=True)\n",
    "model.fit(x, y)\n",
    "\n",
    "# Create predict using our model and the values in X:\n",
    "y_hat = model.predict(x)\n",
    "\n",
    "# Plot those predicted values, which is the same as plotting the model:\n",
    "plt.plot(x, y,  'bo')\n",
    "plt.plot(x, y_hat, 'r');\n",
    "\n",
    "print(model.intercept_) \n",
    "print(model.coef_)\n",
    "\n",
    "# R2 score\n",
    "print(r2_score(y, y_hat))"
   ]
  },
  {
   "cell_type": "markdown",
   "metadata": {},
   "source": [
    "${Y}_{i} =  -17.77 *  0.55{X}_{i}$\n",
    "\n",
    "Can be written as:\n",
    "${Y}_{i} =  -\\frac{\\text{(5 * 32)}}{\\text{9}} + \\frac{\\text{(5)}}{\\text{9}}{X}_{i}$\n",
    "\n"
   ]
  },
  {
   "cell_type": "code",
   "execution_count": null,
   "metadata": {},
   "outputs": [],
   "source": []
  },
  {
   "cell_type": "code",
   "execution_count": null,
   "metadata": {},
   "outputs": [],
   "source": []
  }
 ],
 "metadata": {
  "kernelspec": {
   "display_name": "Python (line_profiler)",
   "language": "python",
   "name": "line_profiler"
  },
  "language_info": {
   "codemirror_mode": {
    "name": "ipython",
    "version": 3
   },
   "file_extension": ".py",
   "mimetype": "text/x-python",
   "name": "python",
   "nbconvert_exporter": "python",
   "pygments_lexer": "ipython3",
   "version": "3.7.1"
  }
 },
 "nbformat": 4,
 "nbformat_minor": 2
}
