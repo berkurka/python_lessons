{
 "cells": [
  {
   "cell_type": "code",
   "execution_count": null,
   "metadata": {},
   "outputs": [],
   "source": [
    "temp = [-6,-6,0,0,20]\n",
    "wind = [7,50,7,50,40]\n",
    "feels_like = [-7,-27,-1,-18, 14]\n",
    "temp_df = pd.DataFrame({'feel': feels_like,\n",
    "                        'temp': temp,\n",
    "                        'wind': wind})\n",
    "temp_df\n",
    "\n",
    "y = temp_df['feel']\n",
    "X = temp_df[['temp', 'wind']]\n",
    "\n",
    "model = LinearRegression(fit_intercept=True)\n",
    "model.fit(X, y)\n",
    "\n",
    "# Create predict using our model and the values in X:\n",
    "y_hat = model.predict(X)\n",
    "from mpl_toolkits.mplot3d import Axes3D\n",
    "# Plot those predicted values, which is the same as plotting the model:\n",
    "# Axes3D.plot(temp_df[['temp', 'wind']], y,  'bo', label='line 1')\n",
    "# Axes3D.plot(temp_df['feel'], y_hat, 'r');\n",
    "# plt.title(\"Scatterplot Price vs Age\")\n",
    "# plt.xlabel(\"Age\")\n",
    "# plt.ylabel(\"Price in $\")\n",
    "plt.show()\n",
    "\n",
    "print('Intercept:', model.intercept_) \n",
    "print('Coefs', list(zip(X.columns, model.coef_)))\n",
    "\n",
    "# R2 score\n",
    "print('R2 score:', r2_score(y, y_hat))"
   ]
  },
  {
   "cell_type": "code",
   "execution_count": null,
   "metadata": {},
   "outputs": [],
   "source": [
    "list(np.linspace(0, 80, 11))"
   ]
  },
  {
   "cell_type": "code",
   "execution_count": null,
   "metadata": {},
   "outputs": [],
   "source": [
    "import plotly.express as px\n",
    "fig = px.scatter_3d(temp_df, x='temp', y='wind', z='feel')\n",
    "fig.show()"
   ]
  },
  {
   "cell_type": "code",
   "execution_count": null,
   "metadata": {},
   "outputs": [],
   "source": [
    "def feel_func(w, t):\n",
    "    return 33 + (10 * (w ** 0.5) + 10.45 - w) * ((t - 33) / 22)"
   ]
  },
  {
   "cell_type": "code",
   "execution_count": null,
   "metadata": {},
   "outputs": [],
   "source": [
    "n = 30\n",
    "# wind\n",
    "w = np.random.randint(100, size=(1, n))[0]\n",
    "# Tempreture\n",
    "t = np.random.randint(100, size=(1, n))[0]\n",
    "random_negatives = np.where(np.random.randint(2, size=n)==0,1,-1)\n",
    "t = t * random_negatives\n",
    "\n",
    "f = [round(feel_func(w[i], t[i])) for i in range(len(t))]\n",
    "\n",
    "temp_df = pd.DataFrame({'feel': f,\n",
    "                        'temp': t,\n",
    "                        'wind': w})\n",
    "\n",
    "# import plotly.graph_objects as go\n",
    "# import pandas as pd\n",
    "# import numpy as np\n",
    "# # Read data from a csv\n",
    "# z_data = pd.read_csv('https://raw.githubusercontent.com/plotly/datasets/master/api_docs/mt_bruno_elevation.csv')\n",
    "\n",
    "# z = z_data.values\n",
    "# sh_0, sh_1 = z.shape\n",
    "# x, y = np.linspace(0, 1, sh_0), np.linspace(0, 1, sh_1)\n",
    "# fig = go.Figure(data=[go.Surface(z=z, x=x, y=y)])\n",
    "# fig.update_layout(title='Mt Bruno Elevation', autosize=False,\n",
    "#                   width=500, height=500,\n",
    "#                   margin=dict(l=65, r=50, b=65, t=90))\n",
    "# fig.show()\n",
    "\n",
    "ax = plt.axes(projection='3d')\n",
    "\n",
    "# Data for a three-dimensional line\n",
    "# zline = np.linspace(0, 80, 26) # wind\n",
    "# xline = np.linspace(-30, 50, 26)\n",
    "# yline = np.linspace(-30, 50, 26)\n",
    "# ax.plot3D(xline, yline, zline, 'gray')\n",
    "\n",
    "# Data for three-dimensional scattered points\n",
    "zdata = temp_df['feel']\n",
    "xdata = temp_df['temp']\n",
    "ydata = temp_df['wind']\n",
    "\n",
    "ax.scatter3D(xdata, ydata, zdata, c=zdata, cmap='Greens');"
   ]
  }
 ],
 "metadata": {
  "kernelspec": {
   "display_name": "Python 3",
   "language": "python",
   "name": "python3"
  },
  "language_info": {
   "codemirror_mode": {
    "name": "ipython",
    "version": 3
   },
   "file_extension": ".py",
   "mimetype": "text/x-python",
   "name": "python",
   "nbconvert_exporter": "python",
   "pygments_lexer": "ipython3",
   "version": "3.7.1"
  }
 },
 "nbformat": 4,
 "nbformat_minor": 2
}
