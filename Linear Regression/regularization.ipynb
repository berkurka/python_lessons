{
 "cells": [
  {
   "cell_type": "code",
   "execution_count": 12,
   "metadata": {},
   "outputs": [],
   "source": [
    "import pandas as pd\n",
    "import numpy as np\n",
    "\n",
    "import matplotlib.pyplot as plt\n",
    "\n",
    "from sklearn.linear_model import LinearRegression, Lasso\n",
    "from sklearn.metrics import mean_squared_error\n",
    "from sklearn.model_selection import train_test_split, cross_val_score, KFold\n",
    "from sklearn.preprocessing import StandardScaler"
   ]
  },
  {
   "cell_type": "code",
   "execution_count": 13,
   "metadata": {},
   "outputs": [],
   "source": [
    "HP = 'Engine HP'\n",
    "PRICE = 'MSRP'\n",
    "\n",
    "# Import data\n",
    "df = pd.read_csv('./data/data.csv')\n",
    "# Source: https://www.kaggle.com/CooperUnion/cardataset\n",
    "# Remove null engine hp \n",
    "df = df[~df['Engine HP'].isnull()]\n",
    "df = df[~df['Engine Cylinders'].isnull()]"
   ]
  },
  {
   "cell_type": "code",
   "execution_count": 19,
   "metadata": {},
   "outputs": [
    {
     "name": "stdout",
     "output_type": "stream",
     "text": [
      "Lin Reg Train score 0.01645622089560594\n",
      "Lin Reg Test score -0.0759701871362517\n"
     ]
    },
    {
     "name": "stderr",
     "output_type": "stream",
     "text": [
      "C:\\Users\\berku\\Anaconda3\\envs\\line_profiler\\lib\\site-packages\\sklearn\\preprocessing\\data.py:625: DataConversionWarning: Data with input dtype int64, float64 were all converted to float64 by StandardScaler.\n",
      "  return self.partial_fit(X, y)\n",
      "C:\\Users\\berku\\Anaconda3\\envs\\line_profiler\\lib\\site-packages\\sklearn\\base.py:462: DataConversionWarning: Data with input dtype int64, float64 were all converted to float64 by StandardScaler.\n",
      "  return self.fit(X, **fit_params).transform(X)\n",
      "C:\\Users\\berku\\Anaconda3\\envs\\line_profiler\\lib\\site-packages\\ipykernel_launcher.py:11: DataConversionWarning: Data with input dtype int64, float64 were all converted to float64 by StandardScaler.\n",
      "  # This is added back by InteractiveShellApp.init_path()\n"
     ]
    }
   ],
   "source": [
    "features = ['highway MPG', 'Year', 'Engine HP', 'Popularity']\n",
    "X = df[features]\n",
    "y = df['MSRP']\n",
    "\n",
    "# Train test split\n",
    "X_train, X_test, y_train, y_test = train_test_split(X, y, test_size=0.25, random_state=42)\n",
    "\n",
    "# Scaling\n",
    "ss = StandardScaler()\n",
    "X_train_scaled = ss.fit_transform(X_train)\n",
    "X_test_scaled = ss.transform(X_test)\n",
    "\n",
    "\n",
    "# Lin reg\n",
    "lr = LinearRegression(fit_intercept=False)\n",
    "lr.fit(X_train_scaled, y_train)\n",
    "\n",
    "train_score = lr.score(X_train_scaled, y_train)\n",
    "tst_score = lr.score(X_test_scaled, y_test)\n",
    "print(f'Lin Reg Train score {train_score}')\n",
    "print(f'Lin Reg Test score {tst_score}')\n",
    "# print('Lin Reg cros val score', cross_val_score(lr, X_train_scaled, y, cv=3).mean())\n",
    "\n",
    "\n",
    "# # Lasso\n",
    "# lasso = Lasso()\n",
    "# lasso.fit(X_train, y_train)\n",
    "\n",
    "# train_score = lasso.score(X_train, y_train)\n",
    "# tst_score = lasso.score(X_test, y_test)\n",
    "# print(f'Lasso Reg Train score {train_score}')\n",
    "# print(f'Lasso Reg Test score {tst_score}')\n",
    "# print('Lasso Reg cros val score', cross_val_score(lr, X, y, cv=3).mean())\n",
    "# coef_used = np.sum(lasso.coef_!=0)"
   ]
  },
  {
   "cell_type": "code",
   "execution_count": 7,
   "metadata": {},
   "outputs": [
    {
     "data": {
      "text/plain": [
       "4"
      ]
     },
     "execution_count": 7,
     "metadata": {},
     "output_type": "execute_result"
    }
   ],
   "source": [
    "coef_used"
   ]
  },
  {
   "cell_type": "code",
   "execution_count": null,
   "metadata": {},
   "outputs": [],
   "source": []
  }
 ],
 "metadata": {
  "kernelspec": {
   "display_name": "Python (line_profiler)",
   "language": "python",
   "name": "line_profiler"
  },
  "language_info": {
   "codemirror_mode": {
    "name": "ipython",
    "version": 3
   },
   "file_extension": ".py",
   "mimetype": "text/x-python",
   "name": "python",
   "nbconvert_exporter": "python",
   "pygments_lexer": "ipython3",
   "version": "3.7.1"
  }
 },
 "nbformat": 4,
 "nbformat_minor": 2
}
