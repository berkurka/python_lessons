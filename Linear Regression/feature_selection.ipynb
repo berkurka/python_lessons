{
 "cells": [
  {
   "cell_type": "code",
   "execution_count": 83,
   "metadata": {},
   "outputs": [],
   "source": [
    "import pandas as pd\n",
    "import numpy as np\n",
    "\n",
    "import matplotlib.pyplot as plt\n",
    "\n",
    "from sklearn.linear_model import LinearRegression\n",
    "from sklearn.metrics import r2_score, mean_squared_error\n",
    "import statsmodels.api as sm\n",
    "\n",
    "pd.set_option('display.max_colwidth', 100)"
   ]
  },
  {
   "cell_type": "code",
   "execution_count": 2,
   "metadata": {},
   "outputs": [],
   "source": [
    "HP = 'Engine HP'\n",
    "PRICE = 'MSRP'"
   ]
  },
  {
   "cell_type": "code",
   "execution_count": 3,
   "metadata": {},
   "outputs": [],
   "source": [
    "# Import data\n",
    "df = pd.read_csv('./data/data.csv')\n",
    "# Source: https://www.kaggle.com/CooperUnion/cardataset\n",
    "# Remove null engine hp \n",
    "df = df[~df['Engine HP'].isnull()]\n",
    "df = df[~df['Engine Cylinders'].isnull()]"
   ]
  },
  {
   "cell_type": "markdown",
   "metadata": {},
   "source": [
    "# Feature Selection Linear Regression\n",
    "\n",
    "1) If you are planning to use more than about 10 features I would recommend not using stepwise, or foward or baward selection, The number of possible combinations might take a long time to run, I suggest using a Lasso or RandomForest Regressor. Select features that\n",
    "\n",
    "https://towardsdatascience.com/feature-selection-techniques-in-regression-model-26878fe0e24e\n",
    "https://www.kaggle.com/talhahascelik/automated-stepwise-backward-and-forward-selection\n",
    "https://towardsdatascience.com/stopping-stepwise-why-stepwise-selection-is-bad-and-what-you-should-use-instead-90818b3f52df"
   ]
  },
  {
   "cell_type": "code",
   "execution_count": 4,
   "metadata": {},
   "outputs": [
    {
     "data": {
      "text/html": [
       "<div>\n",
       "<style scoped>\n",
       "    .dataframe tbody tr th:only-of-type {\n",
       "        vertical-align: middle;\n",
       "    }\n",
       "\n",
       "    .dataframe tbody tr th {\n",
       "        vertical-align: top;\n",
       "    }\n",
       "\n",
       "    .dataframe thead th {\n",
       "        text-align: right;\n",
       "    }\n",
       "</style>\n",
       "<table border=\"1\" class=\"dataframe\">\n",
       "  <thead>\n",
       "    <tr style=\"text-align: right;\">\n",
       "      <th></th>\n",
       "      <th>Make</th>\n",
       "      <th>Model</th>\n",
       "      <th>Year</th>\n",
       "      <th>Engine Fuel Type</th>\n",
       "      <th>Engine HP</th>\n",
       "      <th>Engine Cylinders</th>\n",
       "      <th>Transmission Type</th>\n",
       "      <th>Driven_Wheels</th>\n",
       "      <th>Number of Doors</th>\n",
       "      <th>Market Category</th>\n",
       "      <th>Vehicle Size</th>\n",
       "      <th>Vehicle Style</th>\n",
       "      <th>highway MPG</th>\n",
       "      <th>city mpg</th>\n",
       "      <th>Popularity</th>\n",
       "      <th>MSRP</th>\n",
       "    </tr>\n",
       "  </thead>\n",
       "  <tbody>\n",
       "    <tr>\n",
       "      <th>0</th>\n",
       "      <td>BMW</td>\n",
       "      <td>1 Series M</td>\n",
       "      <td>2011</td>\n",
       "      <td>premium unleaded (required)</td>\n",
       "      <td>335.0</td>\n",
       "      <td>6.0</td>\n",
       "      <td>MANUAL</td>\n",
       "      <td>rear wheel drive</td>\n",
       "      <td>2.0</td>\n",
       "      <td>Factory Tuner,Luxury,High-Performance</td>\n",
       "      <td>Compact</td>\n",
       "      <td>Coupe</td>\n",
       "      <td>26</td>\n",
       "      <td>19</td>\n",
       "      <td>3916</td>\n",
       "      <td>46135</td>\n",
       "    </tr>\n",
       "  </tbody>\n",
       "</table>\n",
       "</div>"
      ],
      "text/plain": [
       "  Make       Model  Year             Engine Fuel Type  Engine HP  \\\n",
       "0  BMW  1 Series M  2011  premium unleaded (required)      335.0   \n",
       "\n",
       "   Engine Cylinders Transmission Type     Driven_Wheels  Number of Doors  \\\n",
       "0               6.0            MANUAL  rear wheel drive              2.0   \n",
       "\n",
       "                         Market Category Vehicle Size Vehicle Style  \\\n",
       "0  Factory Tuner,Luxury,High-Performance      Compact         Coupe   \n",
       "\n",
       "   highway MPG  city mpg  Popularity   MSRP  \n",
       "0           26        19        3916  46135  "
      ]
     },
     "execution_count": 4,
     "metadata": {},
     "output_type": "execute_result"
    }
   ],
   "source": [
    "df.head(1)"
   ]
  },
  {
   "cell_type": "code",
   "execution_count": 5,
   "metadata": {},
   "outputs": [],
   "source": [
    "# Lets suppose we only have 3 features to predict price:\n",
    "features = ['highway MPG', 'Year', 'Engine HP']"
   ]
  },
  {
   "cell_type": "code",
   "execution_count": 6,
   "metadata": {},
   "outputs": [],
   "source": [
    "# POSSIBLE FEATURE COMBINATIONS:\n",
    "# SINGLE FEATURE (3 OPTIONS)  ['highway MPG'] / ['Year'] / ['Engine HP']\n",
    "# TWO FEATURES (3 OPTIONS)    ['highway MPG', 'Year'] / ['highway MPG', 'Engine HP'] / ['highway MPG', 'Engine HP']\n",
    "# THREE FEATURES (1 OPTIONS)  ['highway MPG', 'Year', 'Engine HP']\n",
    "# Total = 7 options"
   ]
  },
  {
   "cell_type": "code",
   "execution_count": 7,
   "metadata": {},
   "outputs": [
    {
     "data": {
      "text/plain": [
       "-11"
      ]
     },
     "execution_count": 7,
     "metadata": {},
     "output_type": "execute_result"
    }
   ],
   "source": [
    "1 - 1\n",
    "2 - 2\n",
    "3 - 7\n",
    "4 - 15"
   ]
  },
  {
   "cell_type": "markdown",
   "metadata": {},
   "source": [
    "n!/ k! (n - k)!\n",
    "\n",
    "3C1 = 3\n",
    "3C2 = 3\n",
    "3C3 = 1\n",
    "Total = 7\n",
    "\n",
    "4C1 = 4! / (1!* (4 - 1)!) = 4! / 3! = 4\n",
    "4C2 = 4! / (2!* (4 - 2)!) = 4! / (2! * 2!) = 6\n",
    "4C3 = 4! / (3!* (4 - 3)!) = 4! / 3! = 4\n",
    "4C4 = 4! / (4!* (4 - 4)!) = 4! / 4! = 1\n",
    "Total = 15\n",
    "\n"
   ]
  },
  {
   "cell_type": "code",
   "execution_count": 8,
   "metadata": {},
   "outputs": [
    {
     "data": {
      "text/plain": [
       "1048575.0"
      ]
     },
     "execution_count": 8,
     "metadata": {},
     "output_type": "execute_result"
    }
   ],
   "source": [
    "def factorial(i):\n",
    "    result = 1\n",
    "    if i > 0:\n",
    "        while i > 0:\n",
    "            result *= i\n",
    "            i -= 1\n",
    "    return result\n",
    "\n",
    "def combination(n, k):\n",
    "    return factorial(n) / (factorial(k) * factorial(n-k))\n",
    "\n",
    "def number_feature_comb(n):\n",
    "    combinations = 0\n",
    "    k = n\n",
    "    while k > 0:\n",
    "        combinations += combination(n,k)\n",
    "        k -= 1\n",
    "    return combinations\n",
    "\n",
    "# Possible combinations of 20 features\n",
    "number_feature_comb(20)"
   ]
  },
  {
   "cell_type": "code",
   "execution_count": 9,
   "metadata": {},
   "outputs": [],
   "source": [
    "features = ['highway MPG', 'Year', 'Engine HP', 'Popularity']\n",
    "# SINGLE FEATURE (4 OPTIONS)  ['highway MPG'] / ['Year'] / ['Engine HP'] / ['Popularity']\n",
    "# TWO FEATURES (7 OPTIONS)    ['highway MPG', 'Year'] / ['highway MPG', 'Engine HP'] / ['highway MPG', 'Popularity']\n",
    "#                             ['Year', 'Engine HP'] / ['Year', 'Popularity'] / ['Engine HP', 'Popularity']\n",
    "#                             \n",
    "                              \n",
    "# THREE FEATURES (3 OPTIONS)  ['highway MPG', 'Year', 'Engine HP'] / ['highway MPG', 'Year', 'Popularity']\n",
    "#                             ['Year','Engine HP', 'Popularity']\n",
    "\n",
    "# FOUR FEATURES (1 OPTIOON) ['highway MPG', 'Year', 'Engine HP', 'Popularity']\n",
    "# Total = 14 options"
   ]
  },
  {
   "cell_type": "code",
   "execution_count": 10,
   "metadata": {},
   "outputs": [
    {
     "data": {
      "text/plain": [
       "<matplotlib.collections.PathCollection at 0x1b2ba7e0da0>"
      ]
     },
     "execution_count": 10,
     "metadata": {},
     "output_type": "execute_result"
    },
    {
     "data": {
      "image/png": "[encoded data removed]",
      "text/plain": [
       "<Figure size 720x432 with 1 Axes>"
      ]
     },
     "metadata": {
      "needs_background": "light"
     },
     "output_type": "display_data"
    }
   ],
   "source": [
    "fig, ax = plt.subplots(figsize=(10, 6))\n",
    "ax.scatter(x = df['Engine HP'], y = df['MSRP'])"
   ]
  },
  {
   "cell_type": "markdown",
   "metadata": {},
   "source": [
    "# Step Wise Feature Selection"
   ]
  },
  {
   "cell_type": "code",
   "execution_count": 126,
   "metadata": {},
   "outputs": [],
   "source": [
    "# Function to add results to df\n",
    "def add_featues_to_df(results, df):\n",
    "    result_dic = {'aic': results.aic,\n",
    "                  'rsquare':results.rsquared,\n",
    "                  'rsquareadj':results.rsquared_adj,\n",
    "                  'Coeficients': results.params.round(2).to_dict(),\n",
    "                  'pvalues': results.pvalues.round(3).to_dict()\n",
    "                 }\n",
    "    feature_comp = pd.DataFrame.from_dict(result_dic, orient='index').T\n",
    "    feature_comp['nfeatures'] = len(result_dic['Coeficients']) - 1\n",
    "    df = pd.concat([df, feature_comp])\n",
    "    return df"
   ]
  },
  {
   "cell_type": "code",
   "execution_count": 127,
   "metadata": {},
   "outputs": [],
   "source": [
    "f_comp = pd.DataFrame()"
   ]
  },
  {
   "cell_type": "code",
   "execution_count": 128,
   "metadata": {},
   "outputs": [],
   "source": [
    "# 1) Run Model with each individual of feature\n",
    "y = df['MSRP']\n",
    "X = df['highway MPG']\n",
    "X_2 = sm.add_constant(X)\n",
    "model = sm.OLS(y, X_2)\n",
    "results = model.fit()\n",
    "f_comp = add_featues_to_df(results, f_comp)\n",
    "# print(results.summary())\n",
    "# print('R2: ', results.rsquared)"
   ]
  },
  {
   "cell_type": "code",
   "execution_count": 129,
   "metadata": {},
   "outputs": [],
   "source": [
    "y = df['MSRP']\n",
    "X = df['Year']\n",
    "X_2 = sm.add_constant(X)\n",
    "model = sm.OLS(y, X_2)\n",
    "results = model.fit()\n",
    "f_comp = add_featues_to_df(results, f_comp)\n",
    "# print(results.summary())\n",
    "# print('R2: ', results.rsquared)"
   ]
  },
  {
   "cell_type": "code",
   "execution_count": 130,
   "metadata": {},
   "outputs": [],
   "source": [
    "y = df['MSRP']\n",
    "X = df[['Engine HP','Year']]\n",
    "X_2 = sm.add_constant(X)\n",
    "model = sm.OLS(y, X_2)\n",
    "results = model.fit()\n",
    "f_comp = add_featues_to_df(results, f_comp)\n",
    "# print(results.summary())\n",
    "# print('R2: ', results.rsquared)"
   ]
  },
  {
   "cell_type": "code",
   "execution_count": 131,
   "metadata": {},
   "outputs": [],
   "source": [
    "y = df['MSRP']\n",
    "X = df[['Engine HP','highway MPG']]\n",
    "X_2 = sm.add_constant(X)\n",
    "model = sm.OLS(y, X_2)\n",
    "results = model.fit()\n",
    "f_comp = add_featues_to_df(results, f_comp)\n",
    "# print(results.summary())\n",
    "# print('R2: ', results.rsquared)"
   ]
  },
  {
   "cell_type": "code",
   "execution_count": 132,
   "metadata": {},
   "outputs": [],
   "source": [
    "y = df['MSRP']\n",
    "X = df[['Engine HP','highway MPG', 'Year']]\n",
    "X_2 = sm.add_constant(X)\n",
    "model = sm.OLS(y, X_2)\n",
    "results = model.fit()\n",
    "f_comp = add_featues_to_df(results, f_comp)\n",
    "# print(results.summary())\n",
    "# print('R2: ', results.rsquared)"
   ]
  },
  {
   "cell_type": "code",
   "execution_count": 133,
   "metadata": {},
   "outputs": [],
   "source": [
    "# First feature selected is Engine HP, since it has p-value < 0.05 and lowest AIC.\n",
    "y = df['MSRP']\n",
    "X = df[['Engine HP']]\n",
    "X_2 = sm.add_constant(X)\n",
    "model = sm.OLS(y, X_2)\n",
    "results = model.fit()\n",
    "f_comp = add_featues_to_df(results, f_comp)\n",
    "# print(results.summary())\n",
    "# print('R2: ', results.rsquared)"
   ]
  },
  {
   "cell_type": "code",
   "execution_count": 134,
   "metadata": {},
   "outputs": [
    {
     "data": {
      "text/html": [
       "<div>\n",
       "<style scoped>\n",
       "    .dataframe tbody tr th:only-of-type {\n",
       "        vertical-align: middle;\n",
       "    }\n",
       "\n",
       "    .dataframe tbody tr th {\n",
       "        vertical-align: top;\n",
       "    }\n",
       "\n",
       "    .dataframe thead th {\n",
       "        text-align: right;\n",
       "    }\n",
       "</style>\n",
       "<table border=\"1\" class=\"dataframe\">\n",
       "  <thead>\n",
       "    <tr style=\"text-align: right;\">\n",
       "      <th></th>\n",
       "      <th>aic</th>\n",
       "      <th>rsquare</th>\n",
       "      <th>rsquareadj</th>\n",
       "      <th>Coeficients</th>\n",
       "      <th>pvalues</th>\n",
       "      <th>nfeatures</th>\n",
       "      <th>const_coef</th>\n",
       "      <th>const_pvalue</th>\n",
       "    </tr>\n",
       "  </thead>\n",
       "  <tbody>\n",
       "    <tr>\n",
       "      <th>0</th>\n",
       "      <td>293184</td>\n",
       "      <td>0.0397088</td>\n",
       "      <td>0.0396275</td>\n",
       "      <td>[(highway MPG, -1614.96)]</td>\n",
       "      <td>[(highway MPG, 0.0)]</td>\n",
       "      <td>1</td>\n",
       "      <td>83081.19</td>\n",
       "      <td>0.000</td>\n",
       "    </tr>\n",
       "    <tr>\n",
       "      <th>0</th>\n",
       "      <td>293036</td>\n",
       "      <td>0.05168</td>\n",
       "      <td>0.0515997</td>\n",
       "      <td>[(Year, 1805.72)]</td>\n",
       "      <td>[(Year, 0.0)]</td>\n",
       "      <td>1</td>\n",
       "      <td>-3589570.37</td>\n",
       "      <td>0.000</td>\n",
       "    </tr>\n",
       "    <tr>\n",
       "      <th>0</th>\n",
       "      <td>286841</td>\n",
       "      <td>0.4386</td>\n",
       "      <td>0.438552</td>\n",
       "      <td>[(Engine HP, 365.62)]</td>\n",
       "      <td>[(Engine HP, 0.0)]</td>\n",
       "      <td>1</td>\n",
       "      <td>-50651.98</td>\n",
       "      <td>0.000</td>\n",
       "    </tr>\n",
       "    <tr>\n",
       "      <th>0</th>\n",
       "      <td>286842</td>\n",
       "      <td>0.438646</td>\n",
       "      <td>0.438551</td>\n",
       "      <td>[(Engine HP, 367.04), (Year, -57.82)]</td>\n",
       "      <td>[(Engine HP, 0.0), (Year, 0.323)]</td>\n",
       "      <td>2</td>\n",
       "      <td>65224.37</td>\n",
       "      <td>0.578</td>\n",
       "    </tr>\n",
       "    <tr>\n",
       "      <th>0</th>\n",
       "      <td>286699</td>\n",
       "      <td>0.445415</td>\n",
       "      <td>0.445321</td>\n",
       "      <td>[(Engine HP, 386.37), (highway MPG, 735.14)]</td>\n",
       "      <td>[(Engine HP, 0.0), (highway MPG, 0.0)]</td>\n",
       "      <td>2</td>\n",
       "      <td>-75178.00</td>\n",
       "      <td>0.000</td>\n",
       "    </tr>\n",
       "    <tr>\n",
       "      <th>0</th>\n",
       "      <td>286635</td>\n",
       "      <td>0.448508</td>\n",
       "      <td>0.448368</td>\n",
       "      <td>[(Engine HP, 407.83), (highway MPG, 1021.59), (Year, -545.44)]</td>\n",
       "      <td>[(Engine HP, 0.0), (highway MPG, 0.0), (Year, 0.0)]</td>\n",
       "      <td>3</td>\n",
       "      <td>1008453.38</td>\n",
       "      <td>0.000</td>\n",
       "    </tr>\n",
       "  </tbody>\n",
       "</table>\n",
       "</div>"
      ],
      "text/plain": [
       "      aic    rsquare rsquareadj  \\\n",
       "0  293184  0.0397088  0.0396275   \n",
       "0  293036    0.05168  0.0515997   \n",
       "0  286841     0.4386   0.438552   \n",
       "0  286842   0.438646   0.438551   \n",
       "0  286699   0.445415   0.445321   \n",
       "0  286635   0.448508   0.448368   \n",
       "\n",
       "                                                      Coeficients  \\\n",
       "0                                       [(highway MPG, -1614.96)]   \n",
       "0                                               [(Year, 1805.72)]   \n",
       "0                                           [(Engine HP, 365.62)]   \n",
       "0                           [(Engine HP, 367.04), (Year, -57.82)]   \n",
       "0                    [(Engine HP, 386.37), (highway MPG, 735.14)]   \n",
       "0  [(Engine HP, 407.83), (highway MPG, 1021.59), (Year, -545.44)]   \n",
       "\n",
       "                                               pvalues  nfeatures  const_coef  \\\n",
       "0                                 [(highway MPG, 0.0)]          1    83081.19   \n",
       "0                                        [(Year, 0.0)]          1 -3589570.37   \n",
       "0                                   [(Engine HP, 0.0)]          1   -50651.98   \n",
       "0                    [(Engine HP, 0.0), (Year, 0.323)]          2    65224.37   \n",
       "0               [(Engine HP, 0.0), (highway MPG, 0.0)]          2   -75178.00   \n",
       "0  [(Engine HP, 0.0), (highway MPG, 0.0), (Year, 0.0)]          3  1008453.38   \n",
       "\n",
       "   const_pvalue  \n",
       "0         0.000  \n",
       "0         0.000  \n",
       "0         0.000  \n",
       "0         0.578  \n",
       "0         0.000  \n",
       "0         0.000  "
      ]
     },
     "execution_count": 134,
     "metadata": {},
     "output_type": "execute_result"
    }
   ],
   "source": [
    "f_comp['const_coef'] = f_comp['Coeficients'].map(lambda x: x['const'])\n",
    "f_comp['Coeficients'] = f_comp['Coeficients'].map(lambda x: list(zip(list(x.keys())[1:], list(x.values())[1:])))\n",
    "\n",
    "f_comp['const_pvalue'] = f_comp['pvalues'].map(lambda x: x['const'])\n",
    "f_comp['pvalues'] = f_comp['pvalues'].map(lambda x: list(zip(list(x.keys())[1:], list(x.values())[1:])))\n",
    "\n",
    "f_comp = f_comp.sort_values('nfeatures')\n",
    "f_comp"
   ]
  },
  {
   "cell_type": "code",
   "execution_count": null,
   "metadata": {},
   "outputs": [],
   "source": [
    "columns_to_dummy = ['Vehicle Style']\n",
    "dummies_df = pd.get_dummies(df[columns_to_dummy], drop_first=True,)\n",
    "df2 = pd.concat([df, dummies_df], axis=1)"
   ]
  },
  {
   "cell_type": "code",
   "execution_count": null,
   "metadata": {},
   "outputs": [],
   "source": [
    "y = df2[PRICE]\n",
    "x = df2[[HP] + list(dummies_df.columns)]"
   ]
  },
  {
   "cell_type": "code",
   "execution_count": null,
   "metadata": {},
   "outputs": [],
   "source": [
    "import seaborn as sns\n",
    "import matplotlib.pyplot as plt\n",
    "from sklearn.preprocessing import LabelEncoder, OneHotEncoder\n",
    "import warnings\n",
    "warnings.filterwarnings(\"ignore\")\n",
    "from sklearn.model_selection import train_test_split\n",
    "from sklearn.svm import SVC\n",
    "from sklearn.metrics import confusion_matrix"
   ]
  },
  {
   "cell_type": "code",
   "execution_count": null,
   "metadata": {},
   "outputs": [],
   "source": [
    "corr = df2.corr()"
   ]
  },
  {
   "cell_type": "code",
   "execution_count": null,
   "metadata": {},
   "outputs": [],
   "source": [
    "sns.heatmap(corr)"
   ]
  },
  {
   "cell_type": "code",
   "execution_count": null,
   "metadata": {},
   "outputs": [],
   "source": [
    "df.columns"
   ]
  },
  {
   "cell_type": "code",
   "execution_count": null,
   "metadata": {},
   "outputs": [],
   "source": [
    "columns = np.full((corr.shape[0],), True, dtype=bool)\n",
    "for i in range(corr.shape[0]):\n",
    "    for j in range(i+1, corr.shape[0]):\n",
    "        if corr.iloc[i,j] >= 0.7:\n",
    "            if columns[j]:\n",
    "                columns[j] = False\n",
    "selected_columns = df2.columns[columns]\n",
    "data = df2[selected_columns]"
   ]
  }
 ],
 "metadata": {
  "kernelspec": {
   "display_name": "Python (line_profiler)",
   "language": "python",
   "name": "line_profiler"
  },
  "language_info": {
   "codemirror_mode": {
    "name": "ipython",
    "version": 3
   },
   "file_extension": ".py",
   "mimetype": "text/x-python",
   "name": "python",
   "nbconvert_exporter": "python",
   "pygments_lexer": "ipython3",
   "version": "3.7.1"
  }
 },
 "nbformat": 4,
 "nbformat_minor": 2
}
