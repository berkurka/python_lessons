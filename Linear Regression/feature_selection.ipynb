{
 "cells": [
  {
   "cell_type": "code",
   "execution_count": 11,
   "metadata": {},
   "outputs": [],
   "source": [
    "import pandas as pd\n",
    "import numpy as np\n",
    "\n",
    "import matplotlib.pyplot as plt\n",
    "\n",
    "from sklearn.linear_model import LinearRegression\n",
    "from sklearn.metrics import r2_score, mean_squared_error\n",
    "import statsmodels.api as sm"
   ]
  },
  {
   "cell_type": "code",
   "execution_count": 2,
   "metadata": {},
   "outputs": [],
   "source": [
    "HP = 'Engine HP'\n",
    "PRICE = 'MSRP'"
   ]
  },
  {
   "cell_type": "code",
   "execution_count": 3,
   "metadata": {},
   "outputs": [],
   "source": [
    "# Import data\n",
    "df = pd.read_csv('./data/data.csv')\n",
    "# Source: https://www.kaggle.com/CooperUnion/cardataset\n",
    "# Remove null engine hp \n",
    "df = df[~df['Engine HP'].isnull()]\n",
    "df = df[~df['Engine Cylinders'].isnull()]"
   ]
  },
  {
   "cell_type": "markdown",
   "metadata": {},
   "source": [
    "# Feature Selection Linear Regression\n",
    "\n",
    "1) If you are planning to use more than about 10 features I would recommend not using stepwise, or foward or baward selection, The number of possible combinations might take a long time to run, I suggest using a Lasso or RandomForest Regressor. Select features that\n",
    "\n",
    "https://towardsdatascience.com/feature-selection-techniques-in-regression-model-26878fe0e24e\n",
    "https://www.kaggle.com/talhahascelik/automated-stepwise-backward-and-forward-selection\n",
    "https://towardsdatascience.com/stopping-stepwise-why-stepwise-selection-is-bad-and-what-you-should-use-instead-90818b3f52df"
   ]
  },
  {
   "cell_type": "code",
   "execution_count": 19,
   "metadata": {},
   "outputs": [
    {
     "data": {
      "text/html": [
       "<div>\n",
       "<style scoped>\n",
       "    .dataframe tbody tr th:only-of-type {\n",
       "        vertical-align: middle;\n",
       "    }\n",
       "\n",
       "    .dataframe tbody tr th {\n",
       "        vertical-align: top;\n",
       "    }\n",
       "\n",
       "    .dataframe thead th {\n",
       "        text-align: right;\n",
       "    }\n",
       "</style>\n",
       "<table border=\"1\" class=\"dataframe\">\n",
       "  <thead>\n",
       "    <tr style=\"text-align: right;\">\n",
       "      <th></th>\n",
       "      <th>Make</th>\n",
       "      <th>Model</th>\n",
       "      <th>Year</th>\n",
       "      <th>Engine Fuel Type</th>\n",
       "      <th>Engine HP</th>\n",
       "      <th>Engine Cylinders</th>\n",
       "      <th>Transmission Type</th>\n",
       "      <th>Driven_Wheels</th>\n",
       "      <th>Number of Doors</th>\n",
       "      <th>Market Category</th>\n",
       "      <th>Vehicle Size</th>\n",
       "      <th>Vehicle Style</th>\n",
       "      <th>highway MPG</th>\n",
       "      <th>city mpg</th>\n",
       "      <th>Popularity</th>\n",
       "      <th>MSRP</th>\n",
       "    </tr>\n",
       "  </thead>\n",
       "  <tbody>\n",
       "    <tr>\n",
       "      <th>0</th>\n",
       "      <td>BMW</td>\n",
       "      <td>1 Series M</td>\n",
       "      <td>2011</td>\n",
       "      <td>premium unleaded (required)</td>\n",
       "      <td>335.0</td>\n",
       "      <td>6.0</td>\n",
       "      <td>MANUAL</td>\n",
       "      <td>rear wheel drive</td>\n",
       "      <td>2.0</td>\n",
       "      <td>Factory Tuner,Luxury,High-Performance</td>\n",
       "      <td>Compact</td>\n",
       "      <td>Coupe</td>\n",
       "      <td>26</td>\n",
       "      <td>19</td>\n",
       "      <td>3916</td>\n",
       "      <td>46135</td>\n",
       "    </tr>\n",
       "  </tbody>\n",
       "</table>\n",
       "</div>"
      ],
      "text/plain": [
       "  Make       Model  Year             Engine Fuel Type  Engine HP  \\\n",
       "0  BMW  1 Series M  2011  premium unleaded (required)      335.0   \n",
       "\n",
       "   Engine Cylinders Transmission Type     Driven_Wheels  Number of Doors  \\\n",
       "0               6.0            MANUAL  rear wheel drive              2.0   \n",
       "\n",
       "                         Market Category Vehicle Size Vehicle Style  \\\n",
       "0  Factory Tuner,Luxury,High-Performance      Compact         Coupe   \n",
       "\n",
       "   highway MPG  city mpg  Popularity   MSRP  \n",
       "0           26        19        3916  46135  "
      ]
     },
     "execution_count": 19,
     "metadata": {},
     "output_type": "execute_result"
    }
   ],
   "source": [
    "df.head(1)"
   ]
  },
  {
   "cell_type": "code",
   "execution_count": null,
   "metadata": {},
   "outputs": [],
   "source": [
    "hoje - year\n",
    "1\n",
    "2\n",
    "3"
   ]
  },
  {
   "cell_type": "code",
   "execution_count": 8,
   "metadata": {},
   "outputs": [],
   "source": [
    "# Lets suppose we only have 3 features to predict price:\n",
    "features = ['highway MPG', 'Year', 'Engine HP']"
   ]
  },
  {
   "cell_type": "code",
   "execution_count": null,
   "metadata": {},
   "outputs": [],
   "source": [
    "# POSSIBLE FEATURE COMBINATIONS:\n",
    "# SINGLE FEATURE (3 OPTIONS)\n",
    "# TWO FEATURES (3 OPTIONS)\n",
    "# THREE FEATURES (1 OPTIONS)"
   ]
  },
  {
   "cell_type": "code",
   "execution_count": 22,
   "metadata": {},
   "outputs": [
    {
     "data": {
      "text/plain": [
       "<matplotlib.collections.PathCollection at 0x1e7aea23898>"
      ]
     },
     "execution_count": 22,
     "metadata": {},
     "output_type": "execute_result"
    },
    {
     "data": {
      "image/png": "[encoded data removed]",
      "text/plain": [
       "<Figure size 720x432 with 1 Axes>"
      ]
     },
     "metadata": {
      "needs_background": "light"
     },
     "output_type": "display_data"
    }
   ],
   "source": [
    "fig, ax = plt.subplots(figsize=(10, 6))\n",
    "ax.scatter(x = df['Engine HP'], y = df['MSRP'])"
   ]
  },
  {
   "cell_type": "markdown",
   "metadata": {},
   "source": [
    "# Step Wise Feature Selection"
   ]
  },
  {
   "cell_type": "code",
   "execution_count": 23,
   "metadata": {},
   "outputs": [
    {
     "name": "stdout",
     "output_type": "stream",
     "text": [
      "                            OLS Regression Results                            \n",
      "==============================================================================\n",
      "Dep. Variable:                   MSRP   R-squared:                       0.040\n",
      "Model:                            OLS   Adj. R-squared:                  0.040\n",
      "Method:                 Least Squares   F-statistic:                     488.5\n",
      "Date:                Thu, 03 Dec 2020   Prob (F-statistic):          4.17e-106\n",
      "Time:                        19:11:32   Log-Likelihood:            -1.4659e+05\n",
      "No. Observations:               11816   AIC:                         2.932e+05\n",
      "Df Residuals:                   11814   BIC:                         2.932e+05\n",
      "Df Model:                           1                                         \n",
      "Covariance Type:            nonrobust                                         \n",
      "===============================================================================\n",
      "                  coef    std err          t      P>|t|      [0.025      0.975]\n",
      "-------------------------------------------------------------------------------\n",
      "const        8.308e+04   1998.514     41.571      0.000    7.92e+04     8.7e+04\n",
      "highway MPG -1614.9587     73.067    -22.102      0.000   -1758.182   -1471.735\n",
      "==============================================================================\n",
      "Omnibus:                    20397.907   Durbin-Watson:                   0.580\n",
      "Prob(Omnibus):                  0.000   Jarque-Bera (JB):         37689350.362\n",
      "Skew:                          11.818   Prob(JB):                         0.00\n",
      "Kurtosis:                     278.670   Cond. No.                         101.\n",
      "==============================================================================\n",
      "\n",
      "Warnings:\n",
      "[1] Standard Errors assume that the covariance matrix of the errors is correctly specified.\n",
      "R2:  0.03970878226604446\n"
     ]
    }
   ],
   "source": [
    "# 1) Run Model with each individual of feature\n",
    "y = df['MSRP']\n",
    "X = df['highway MPG']\n",
    "X_2 = sm.add_constant(X)\n",
    "model = sm.OLS(y, X_2)\n",
    "results = model.fit()\n",
    "print(results.summary())\n",
    "print('R2: ', results.rsquared)"
   ]
  },
  {
   "cell_type": "code",
   "execution_count": 24,
   "metadata": {},
   "outputs": [
    {
     "name": "stdout",
     "output_type": "stream",
     "text": [
      "                            OLS Regression Results                            \n",
      "==============================================================================\n",
      "Dep. Variable:                   MSRP   R-squared:                       0.052\n",
      "Model:                            OLS   Adj. R-squared:                  0.052\n",
      "Method:                 Least Squares   F-statistic:                     643.8\n",
      "Date:                Thu, 03 Dec 2020   Prob (F-statistic):          2.41e-138\n",
      "Time:                        19:11:58   Log-Likelihood:            -1.4652e+05\n",
      "No. Observations:               11816   AIC:                         2.930e+05\n",
      "Df Residuals:                   11814   BIC:                         2.931e+05\n",
      "Df Model:                           1                                         \n",
      "Covariance Type:            nonrobust                                         \n",
      "==============================================================================\n",
      "                 coef    std err          t      P>|t|      [0.025      0.975]\n",
      "------------------------------------------------------------------------------\n",
      "const       -3.59e+06   1.43e+05    -25.090      0.000   -3.87e+06   -3.31e+06\n",
      "Year        1805.7193     71.165     25.374      0.000    1666.224    1945.215\n",
      "==============================================================================\n",
      "Omnibus:                    21103.397   Durbin-Watson:                   0.585\n",
      "Prob(Omnibus):                  0.000   Jarque-Bera (JB):         44303485.231\n",
      "Skew:                          12.704   Prob(JB):                         0.00\n",
      "Kurtosis:                     301.900   Cond. No.                     5.32e+05\n",
      "==============================================================================\n",
      "\n",
      "Warnings:\n",
      "[1] Standard Errors assume that the covariance matrix of the errors is correctly specified.\n",
      "[2] The condition number is large, 5.32e+05. This might indicate that there are\n",
      "strong multicollinearity or other numerical problems.\n",
      "R2:  0.051679976504455216\n"
     ]
    }
   ],
   "source": [
    "y = df['MSRP']\n",
    "X = df['Year']\n",
    "X_2 = sm.add_constant(X)\n",
    "model = sm.OLS(y, X_2)\n",
    "results = model.fit()\n",
    "print(results.summary())\n",
    "print('R2: ', results.rsquared)"
   ]
  },
  {
   "cell_type": "code",
   "execution_count": 26,
   "metadata": {},
   "outputs": [
    {
     "name": "stdout",
     "output_type": "stream",
     "text": [
      "                            OLS Regression Results                            \n",
      "==============================================================================\n",
      "Dep. Variable:                   MSRP   R-squared:                       0.439\n",
      "Model:                            OLS   Adj. R-squared:                  0.439\n",
      "Method:                 Least Squares   F-statistic:                     4615.\n",
      "Date:                Thu, 03 Dec 2020   Prob (F-statistic):               0.00\n",
      "Time:                        19:13:07   Log-Likelihood:            -1.4342e+05\n",
      "No. Observations:               11816   AIC:                         2.868e+05\n",
      "Df Residuals:                   11813   BIC:                         2.869e+05\n",
      "Df Model:                           2                                         \n",
      "Covariance Type:            nonrobust                                         \n",
      "==============================================================================\n",
      "                 coef    std err          t      P>|t|      [0.025      0.975]\n",
      "------------------------------------------------------------------------------\n",
      "const       6.522e+04   1.17e+05      0.556      0.578   -1.65e+05    2.95e+05\n",
      "Engine HP    367.0396      4.067     90.240      0.000     359.067     375.012\n",
      "Year         -57.8156     58.520     -0.988      0.323    -172.525      56.894\n",
      "==============================================================================\n",
      "Omnibus:                    23298.392   Durbin-Watson:                   0.713\n",
      "Prob(Omnibus):                  0.000   Jarque-Bera (JB):        103801714.740\n",
      "Skew:                          15.586   Prob(JB):                         0.00\n",
      "Kurtosis:                     461.110   Cond. No.                     5.71e+05\n",
      "==============================================================================\n",
      "\n",
      "Warnings:\n",
      "[1] Standard Errors assume that the covariance matrix of the errors is correctly specified.\n",
      "[2] The condition number is large, 5.71e+05. This might indicate that there are\n",
      "strong multicollinearity or other numerical problems.\n",
      "R2:  0.438646012836584\n"
     ]
    }
   ],
   "source": [
    "y = df['MSRP']\n",
    "X = df[['Engine HP','Year']]\n",
    "X_2 = sm.add_constant(X)\n",
    "model = sm.OLS(y, X_2)\n",
    "results = model.fit()\n",
    "print(results.summary())\n",
    "print('R2: ', results.rsquared)"
   ]
  },
  {
   "cell_type": "code",
   "execution_count": 27,
   "metadata": {},
   "outputs": [
    {
     "name": "stdout",
     "output_type": "stream",
     "text": [
      "                            OLS Regression Results                            \n",
      "==============================================================================\n",
      "Dep. Variable:                   MSRP   R-squared:                       0.445\n",
      "Model:                            OLS   Adj. R-squared:                  0.445\n",
      "Method:                 Least Squares   F-statistic:                     4744.\n",
      "Date:                Thu, 03 Dec 2020   Prob (F-statistic):               0.00\n",
      "Time:                        19:13:41   Log-Likelihood:            -1.4335e+05\n",
      "No. Observations:               11816   AIC:                         2.867e+05\n",
      "Df Residuals:                   11813   BIC:                         2.867e+05\n",
      "Df Model:                           2                                         \n",
      "Covariance Type:            nonrobust                                         \n",
      "===============================================================================\n",
      "                  coef    std err          t      P>|t|      [0.025      0.975]\n",
      "-------------------------------------------------------------------------------\n",
      "const       -7.518e+04   2281.462    -32.952      0.000   -7.97e+04   -7.07e+04\n",
      "Engine HP     386.3712      4.156     92.961      0.000     378.224     394.518\n",
      "highway MPG   735.1397     61.013     12.049      0.000     615.544     854.735\n",
      "==============================================================================\n",
      "Omnibus:                    23432.923   Durbin-Watson:                   0.724\n",
      "Prob(Omnibus):                  0.000   Jarque-Bera (JB):        107294302.319\n",
      "Skew:                          15.788   Prob(JB):                         0.00\n",
      "Kurtosis:                     468.761   Cond. No.                     1.51e+03\n",
      "==============================================================================\n",
      "\n",
      "Warnings:\n",
      "[1] Standard Errors assume that the covariance matrix of the errors is correctly specified.\n",
      "[2] The condition number is large, 1.51e+03. This might indicate that there are\n",
      "strong multicollinearity or other numerical problems.\n",
      "R2:  0.4454151861977036\n"
     ]
    }
   ],
   "source": [
    "y = df['MSRP']\n",
    "X = df[['Engine HP','highway MPG']]\n",
    "X_2 = sm.add_constant(X)\n",
    "model = sm.OLS(y, X_2)\n",
    "results = model.fit()\n",
    "print(results.summary())\n",
    "print('R2: ', results.rsquared)"
   ]
  },
  {
   "cell_type": "code",
   "execution_count": 28,
   "metadata": {},
   "outputs": [
    {
     "name": "stdout",
     "output_type": "stream",
     "text": [
      "                            OLS Regression Results                            \n",
      "==============================================================================\n",
      "Dep. Variable:                   MSRP   R-squared:                       0.449\n",
      "Model:                            OLS   Adj. R-squared:                  0.448\n",
      "Method:                 Least Squares   F-statistic:                     3202.\n",
      "Date:                Thu, 03 Dec 2020   Prob (F-statistic):               0.00\n",
      "Time:                        19:14:03   Log-Likelihood:            -1.4331e+05\n",
      "No. Observations:               11816   AIC:                         2.866e+05\n",
      "Df Residuals:                   11812   BIC:                         2.867e+05\n",
      "Df Model:                           3                                         \n",
      "Covariance Type:            nonrobust                                         \n",
      "===============================================================================\n",
      "                  coef    std err          t      P>|t|      [0.025      0.975]\n",
      "-------------------------------------------------------------------------------\n",
      "const        1.008e+06   1.33e+05      7.574      0.000    7.47e+05    1.27e+06\n",
      "Engine HP     407.8344      4.913     83.020      0.000     398.205     417.464\n",
      "highway MPG  1021.5927     70.290     14.534      0.000     883.813    1159.372\n",
      "Year         -545.4376     67.010     -8.140      0.000    -676.789    -414.087\n",
      "==============================================================================\n",
      "Omnibus:                    23247.876   Durbin-Watson:                   0.734\n",
      "Prob(Omnibus):                  0.000   Jarque-Bera (JB):        103462946.679\n",
      "Skew:                          15.505   Prob(JB):                         0.00\n",
      "Kurtosis:                     460.369   Cond. No.                     6.55e+05\n",
      "==============================================================================\n",
      "\n",
      "Warnings:\n",
      "[1] Standard Errors assume that the covariance matrix of the errors is correctly specified.\n",
      "[2] The condition number is large, 6.55e+05. This might indicate that there are\n",
      "strong multicollinearity or other numerical problems.\n",
      "R2:  0.44850849773815893\n"
     ]
    }
   ],
   "source": [
    "y = df['MSRP']\n",
    "X = df[['Engine HP','highway MPG', 'Year']]\n",
    "X_2 = sm.add_constant(X)\n",
    "model = sm.OLS(y, X_2)\n",
    "results = model.fit()\n",
    "print(results.summary())\n",
    "print('R2: ', results.rsquared)"
   ]
  },
  {
   "cell_type": "code",
   "execution_count": null,
   "metadata": {},
   "outputs": [],
   "source": []
  },
  {
   "cell_type": "code",
   "execution_count": null,
   "metadata": {},
   "outputs": [],
   "source": [
    "# First feature selected is Engine HP, since it has p-value < 0.05 and lowest AIC.\n",
    "y = df['MSRP']\n",
    "X = df[['Engine HP']]\n",
    "X_2 = sm.add_constant(X)\n",
    "model = sm.OLS(y, X_2)\n",
    "results = model.fit()\n",
    "print(results.summary())\n",
    "print('R2: ', results.rsquared)"
   ]
  },
  {
   "cell_type": "code",
   "execution_count": null,
   "metadata": {},
   "outputs": [],
   "source": []
  },
  {
   "cell_type": "code",
   "execution_count": 4,
   "metadata": {},
   "outputs": [],
   "source": [
    "columns_to_dummy = ['Vehicle Style']\n",
    "dummies_df = pd.get_dummies(df[columns_to_dummy], drop_first=True,)\n",
    "df2 = pd.concat([df, dummies_df], axis=1)"
   ]
  },
  {
   "cell_type": "code",
   "execution_count": 5,
   "metadata": {},
   "outputs": [],
   "source": [
    "y = df2[PRICE]\n",
    "x = df2[[HP] + list(dummies_df.columns)]"
   ]
  },
  {
   "cell_type": "code",
   "execution_count": 6,
   "metadata": {},
   "outputs": [],
   "source": [
    "import seaborn as sns\n",
    "import matplotlib.pyplot as plt\n",
    "from sklearn.preprocessing import LabelEncoder, OneHotEncoder\n",
    "import warnings\n",
    "warnings.filterwarnings(\"ignore\")\n",
    "from sklearn.model_selection import train_test_split\n",
    "from sklearn.svm import SVC\n",
    "from sklearn.metrics import confusion_matrix"
   ]
  },
  {
   "cell_type": "code",
   "execution_count": 7,
   "metadata": {},
   "outputs": [],
   "source": [
    "corr = df2.corr()"
   ]
  },
  {
   "cell_type": "code",
   "execution_count": 8,
   "metadata": {},
   "outputs": [
    {
     "data": {
      "text/plain": [
       "<matplotlib.axes._subplots.AxesSubplot at 0x214e5a31358>"
      ]
     },
     "execution_count": 8,
     "metadata": {},
     "output_type": "execute_result"
    },
    {
     "data": {
      "image/png": "[encoded data removed]",
      "text/plain": [
       "<Figure size 432x288 with 2 Axes>"
      ]
     },
     "metadata": {
      "needs_background": "light"
     },
     "output_type": "display_data"
    }
   ],
   "source": [
    "sns.heatmap(corr)"
   ]
  },
  {
   "cell_type": "code",
   "execution_count": 15,
   "metadata": {},
   "outputs": [
    {
     "data": {
      "text/plain": [
       "Index(['Make', 'Model', 'Year', 'Engine Fuel Type', 'Engine HP',\n",
       "       'Engine Cylinders', 'Transmission Type', 'Driven_Wheels',\n",
       "       'Number of Doors', 'Market Category', 'Vehicle Size', 'Vehicle Style',\n",
       "       'highway MPG', 'city mpg', 'Popularity', 'MSRP'],\n",
       "      dtype='object')"
      ]
     },
     "execution_count": 15,
     "metadata": {},
     "output_type": "execute_result"
    }
   ],
   "source": [
    "df.columns"
   ]
  },
  {
   "cell_type": "code",
   "execution_count": 20,
   "metadata": {},
   "outputs": [
    {
     "ename": "IndexError",
     "evalue": "boolean index did not match indexed array along dimension 0; dimension is 31 but corresponding boolean dimension is 23",
     "output_type": "error",
     "traceback": [
      "\u001b[1;31m---------------------------------------------------------------------------\u001b[0m",
      "\u001b[1;31mIndexError\u001b[0m                                Traceback (most recent call last)",
      "\u001b[1;32m<ipython-input-20-7f107c64f2c6>\u001b[0m in \u001b[0;36m<module>\u001b[1;34m\u001b[0m\n\u001b[0;32m      5\u001b[0m             \u001b[1;32mif\u001b[0m \u001b[0mcolumns\u001b[0m\u001b[1;33m[\u001b[0m\u001b[0mj\u001b[0m\u001b[1;33m]\u001b[0m\u001b[1;33m:\u001b[0m\u001b[1;33m\u001b[0m\u001b[1;33m\u001b[0m\u001b[0m\n\u001b[0;32m      6\u001b[0m                 \u001b[0mcolumns\u001b[0m\u001b[1;33m[\u001b[0m\u001b[0mj\u001b[0m\u001b[1;33m]\u001b[0m \u001b[1;33m=\u001b[0m \u001b[1;32mFalse\u001b[0m\u001b[1;33m\u001b[0m\u001b[1;33m\u001b[0m\u001b[0m\n\u001b[1;32m----> 7\u001b[1;33m \u001b[0mselected_columns\u001b[0m \u001b[1;33m=\u001b[0m \u001b[0mdf2\u001b[0m\u001b[1;33m.\u001b[0m\u001b[0mcolumns\u001b[0m\u001b[1;33m[\u001b[0m\u001b[0mcolumns\u001b[0m\u001b[1;33m]\u001b[0m\u001b[1;33m\u001b[0m\u001b[1;33m\u001b[0m\u001b[0m\n\u001b[0m\u001b[0;32m      8\u001b[0m \u001b[0mdata\u001b[0m \u001b[1;33m=\u001b[0m \u001b[0mdf2\u001b[0m\u001b[1;33m[\u001b[0m\u001b[0mselected_columns\u001b[0m\u001b[1;33m]\u001b[0m\u001b[1;33m\u001b[0m\u001b[1;33m\u001b[0m\u001b[0m\n",
      "\u001b[1;32m~\\Anaconda3\\envs\\line_profiler\\lib\\site-packages\\pandas\\core\\indexes\\base.py\u001b[0m in \u001b[0;36m__getitem__\u001b[1;34m(self, key)\u001b[0m\n\u001b[0;32m   3939\u001b[0m \u001b[1;33m\u001b[0m\u001b[0m\n\u001b[0;32m   3940\u001b[0m         \u001b[0mkey\u001b[0m \u001b[1;33m=\u001b[0m \u001b[0mcom\u001b[0m\u001b[1;33m.\u001b[0m\u001b[0mvalues_from_object\u001b[0m\u001b[1;33m(\u001b[0m\u001b[0mkey\u001b[0m\u001b[1;33m)\u001b[0m\u001b[1;33m\u001b[0m\u001b[1;33m\u001b[0m\u001b[0m\n\u001b[1;32m-> 3941\u001b[1;33m         \u001b[0mresult\u001b[0m \u001b[1;33m=\u001b[0m \u001b[0mgetitem\u001b[0m\u001b[1;33m(\u001b[0m\u001b[0mkey\u001b[0m\u001b[1;33m)\u001b[0m\u001b[1;33m\u001b[0m\u001b[1;33m\u001b[0m\u001b[0m\n\u001b[0m\u001b[0;32m   3942\u001b[0m         \u001b[1;32mif\u001b[0m \u001b[1;32mnot\u001b[0m \u001b[0mis_scalar\u001b[0m\u001b[1;33m(\u001b[0m\u001b[0mresult\u001b[0m\u001b[1;33m)\u001b[0m\u001b[1;33m:\u001b[0m\u001b[1;33m\u001b[0m\u001b[1;33m\u001b[0m\u001b[0m\n\u001b[0;32m   3943\u001b[0m             \u001b[1;32mif\u001b[0m \u001b[0mnp\u001b[0m\u001b[1;33m.\u001b[0m\u001b[0mndim\u001b[0m\u001b[1;33m(\u001b[0m\u001b[0mresult\u001b[0m\u001b[1;33m)\u001b[0m \u001b[1;33m>\u001b[0m \u001b[1;36m1\u001b[0m\u001b[1;33m:\u001b[0m\u001b[1;33m\u001b[0m\u001b[1;33m\u001b[0m\u001b[0m\n",
      "\u001b[1;31mIndexError\u001b[0m: boolean index did not match indexed array along dimension 0; dimension is 31 but corresponding boolean dimension is 23"
     ]
    }
   ],
   "source": [
    "columns = np.full((corr.shape[0],), True, dtype=bool)\n",
    "for i in range(corr.shape[0]):\n",
    "    for j in range(i+1, corr.shape[0]):\n",
    "        if corr.iloc[i,j] >= 0.7:\n",
    "            if columns[j]:\n",
    "                columns[j] = False\n",
    "selected_columns = df2.columns[columns]\n",
    "data = df2[selected_columns]"
   ]
  },
  {
   "cell_type": "code",
   "execution_count": 19,
   "metadata": {},
   "outputs": [
    {
     "data": {
      "text/plain": [
       "array([ True,  True,  True,  True,  True,  True,  True,  True,  True,\n",
       "        True,  True,  True,  True,  True,  True,  True,  True,  True,\n",
       "        True,  True,  True,  True,  True])"
      ]
     },
     "execution_count": 19,
     "metadata": {},
     "output_type": "execute_result"
    }
   ],
   "source": [
    "columns"
   ]
  },
  {
   "cell_type": "code",
   "execution_count": null,
   "metadata": {},
   "outputs": [],
   "source": []
  }
 ],
 "metadata": {
  "kernelspec": {
   "display_name": "Python (line_profiler)",
   "language": "python",
   "name": "line_profiler"
  },
  "language_info": {
   "codemirror_mode": {
    "name": "ipython",
    "version": 3
   },
   "file_extension": ".py",
   "mimetype": "text/x-python",
   "name": "python",
   "nbconvert_exporter": "python",
   "pygments_lexer": "ipython3",
   "version": "3.7.1"
  }
 },
 "nbformat": 4,
 "nbformat_minor": 2
}
