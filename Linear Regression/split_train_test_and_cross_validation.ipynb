{
 "cells": [
  {
   "cell_type": "code",
   "execution_count": 1,
   "metadata": {},
   "outputs": [],
   "source": [
    "import pandas as pd\n",
    "import numpy as np\n",
    "\n",
    "import matplotlib.pyplot as plt\n",
    "\n",
    "from sklearn.linear_model import LinearRegression\n",
    "from sklearn.metrics import mean_squared_error\n",
    "from sklearn.model_selection import train_test_split, cross_val_score, KFold\n",
    "\n",
    "from IPython.display import Image\n",
    "from IPython.core.display import HTML \n",
    "\n",
    "import seaborn as sns\n",
    "\n",
    "pd.set_option('display.max_colwidth', 100)"
   ]
  },
  {
   "cell_type": "code",
   "execution_count": 2,
   "metadata": {},
   "outputs": [],
   "source": [
    "HP = 'Engine HP'\n",
    "PRICE = 'MSRP'\n",
    "\n",
    "# Import data\n",
    "df = pd.read_csv('./data/data.csv')\n",
    "# Source: https://www.kaggle.com/CooperUnion/cardataset\n",
    "# Remove null engine hp \n",
    "df = df[~df['Engine HP'].isnull()]\n",
    "df = df[~df['Engine Cylinders'].isnull()]"
   ]
  },
  {
   "cell_type": "markdown",
   "metadata": {},
   "source": [
    "# Train Test Split\n",
    "- When we create a model its a common practice to train it using a random subset of you data also known as train set, and score the model using the remmaning data test set. This will allow us to see how the model would perform on unseen data. This procedure will give us indications if model is over or under fit. \n"
   ]
  },
  {
   "cell_type": "code",
   "execution_count": 3,
   "metadata": {},
   "outputs": [],
   "source": [
    "features = ['highway MPG', 'Year', 'Engine HP', 'Popularity']\n",
    "X = df[features]\n",
    "y = df['MSRP']\n",
    "\n",
    "X_train, X_test, y_train, y_test = train_test_split(X, y, test_size=0.25, random_state=42)"
   ]
  },
  {
   "cell_type": "code",
   "execution_count": null,
   "metadata": {},
   "outputs": [],
   "source": []
  },
  {
   "cell_type": "code",
   "execution_count": 23,
   "metadata": {},
   "outputs": [
    {
     "name": "stdout",
     "output_type": "stream",
     "text": [
      "R2 train score: 0.4484541951684514\n"
     ]
    }
   ],
   "source": [
    "lr = LinearRegression(fit_intercept=False)\n",
    "lr.fit(X_train, y_train)\n",
    "# # R2 of trained data\n",
    "# y_hat = lr.predict(X_train).\n",
    "# print('R2 train score:', r2_score(y_train, y_hat))\n",
    "# # R2 of test data\n",
    "# y_hat = model2.predict(X_test)\n",
    "# print('R2 test score:', r2_score(y_test, y_hat))"
   ]
  },
  {
   "cell_type": "markdown",
   "metadata": {},
   "source": [
    "# K-Fold Cross validation\n",
    "- Is a way of checking if we by change got a bad split on the Train, Test Split procedure or if we are in fact over or underfitting our model."
   ]
  },
  {
   "cell_type": "markdown",
   "metadata": {},
   "source": [
    "![Image](https://scikit-learn.org/stable/_images/grid_search_cross_validation.png)\n",
    "Source: https://scikit-learn.org/stable/modules/cross_validation.html"
   ]
  },
  {
   "cell_type": "code",
   "execution_count": 4,
   "metadata": {},
   "outputs": [
    {
     "name": "stdout",
     "output_type": "stream",
     "text": [
      "Train score 0.5615117467662802\n",
      "Test score 0.33711979179458174\n"
     ]
    }
   ],
   "source": [
    "X_train, X_test, y_train, y_test = train_test_split(X, y, test_size=0.25, random_state=5165)\n",
    "\n",
    "lr = LinearRegression(fit_intercept=False)\n",
    "lr.fit(X_train, y_train)\n",
    "train_score = lr.score(X_train, y_train)\n",
    "tst = lr.score(X_test, y_test)\n",
    "print(f'Train score {train_score}')\n",
    "print(f'Test score {tst}')"
   ]
  },
  {
   "cell_type": "markdown",
   "metadata": {},
   "source": [
    "The numbers above indicate a model that is overfitting.\n",
    "\n",
    "If we run a Cross Validation with 3 fold we will find indications that these train and test scores are off."
   ]
  },
  {
   "cell_type": "code",
   "execution_count": 96,
   "metadata": {},
   "outputs": [
    {
     "name": "stdout",
     "output_type": "stream",
     "text": [
      "0.4509412515731697\n"
     ]
    }
   ],
   "source": [
    "print(cross_val_score(lr, X, y, cv=3).mean())"
   ]
  },
  {
   "cell_type": "markdown",
   "metadata": {},
   "source": [
    "Now Running lets change the train_test_split random state to 42 and re train and score the model."
   ]
  },
  {
   "cell_type": "code",
   "execution_count": 8,
   "metadata": {},
   "outputs": [
    {
     "name": "stdout",
     "output_type": "stream",
     "text": [
      "Train score 0.4484541951684514\n",
      "Test score 0.45609982727210163\n"
     ]
    }
   ],
   "source": [
    "X_train, X_test, y_train, y_test = train_test_split(X, y, test_size=0.25, random_state=42)\n",
    "lr = LinearRegression(fit_intercept=False)\n",
    "lr.fit(X_train, y_train)\n",
    "train_score = lr.score(X_train, y_train)\n",
    "tst = lr.score(X_test, y_test)\n",
    "print(f'Train score {train_score}')\n",
    "print(f'Test score {tst}')"
   ]
  },
  {
   "cell_type": "markdown",
   "metadata": {},
   "source": [
    "Now we get results that are much more in line with the cross validation score."
   ]
  },
  {
   "cell_type": "code",
   "execution_count": 5,
   "metadata": {},
   "outputs": [
    {
     "name": "stdout",
     "output_type": "stream",
     "text": [
      "0.4509412515731697\n"
     ]
    }
   ],
   "source": [
    "# lr = LinearRegression(fit_intercept=False)\n",
    "# print(cross_val_score(lr, X, y, cv=3))\n",
    "print(cross_val_score(lr, X, y, cv=3).mean())"
   ]
  },
  {
   "cell_type": "markdown",
   "metadata": {},
   "source": [
    "We can also personalize the kfold like this:"
   ]
  },
  {
   "cell_type": "code",
   "execution_count": 101,
   "metadata": {},
   "outputs": [
    {
     "name": "stdout",
     "output_type": "stream",
     "text": [
      "[0.46534069 0.41217911 0.47926784]\n"
     ]
    }
   ],
   "source": [
    "kf = KFold(n_splits=3, shuffle=True, random_state=42)\n",
    "print(cross_val_score(lr, X, y, cv=kf))"
   ]
  },
  {
   "cell_type": "code",
   "execution_count": null,
   "metadata": {},
   "outputs": [],
   "source": []
  }
 ],
 "metadata": {
  "kernelspec": {
   "display_name": "Python (line_profiler)",
   "language": "python",
   "name": "line_profiler"
  },
  "language_info": {
   "codemirror_mode": {
    "name": "ipython",
    "version": 3
   },
   "file_extension": ".py",
   "mimetype": "text/x-python",
   "name": "python",
   "nbconvert_exporter": "python",
   "pygments_lexer": "ipython3",
   "version": "3.7.1"
  }
 },
 "nbformat": 4,
 "nbformat_minor": 2
}
