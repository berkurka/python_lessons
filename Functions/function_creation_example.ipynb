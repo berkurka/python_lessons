{
 "cells": [
  {
   "cell_type": "code",
   "execution_count": 1,
   "metadata": {},
   "outputs": [],
   "source": [
    "## Python Functions"
   ]
  },
  {
   "cell_type": "code",
   "execution_count": 10,
   "metadata": {},
   "outputs": [],
   "source": [
    "me = 'Bernardo'\n",
    "all_students = ['Pedro', 'Caio', 'Ruy', 'Rodrigo']"
   ]
  },
  {
   "cell_type": "code",
   "execution_count": 8,
   "metadata": {},
   "outputs": [],
   "source": [
    "# Simple way to create a function\n",
    "def add_name_to_list(student, all_students):\n",
    "    return all_students if student in all_students else all_students.append(student) "
   ]
  },
  {
   "cell_type": "code",
   "execution_count": 19,
   "metadata": {},
   "outputs": [
    {
     "data": {
      "text/plain": [
       "['Pedro', 'Caio', 'Ruy', 'Rodrigo', 'Bernardo']"
      ]
     },
     "execution_count": 19,
     "metadata": {},
     "output_type": "execute_result"
    }
   ],
   "source": [
    "add_name_to_list(me, all_students)"
   ]
  },
  {
   "cell_type": "code",
   "execution_count": 39,
   "metadata": {},
   "outputs": [],
   "source": [
    "# Add default values for a and b\n",
    "# If neither a or b is defined the default value will be zero\n",
    "def add_name_to_list2(student, all_students=['Ruy']):\n",
    "    return all_students if student in all_students else all_students.append(student) "
   ]
  },
  {
   "cell_type": "code",
   "execution_count": 41,
   "metadata": {
    "scrolled": true
   },
   "outputs": [
    {
     "data": {
      "text/plain": [
       "['Ruy', 'Bernardo']"
      ]
     },
     "execution_count": 41,
     "metadata": {},
     "output_type": "execute_result"
    }
   ],
   "source": [
    "add_name_to_list2(me)"
   ]
  },
  {
   "cell_type": "code",
   "execution_count": 42,
   "metadata": {},
   "outputs": [],
   "source": [
    "from typing import List\n",
    "\n",
    "# Good practice is to add a docstring and type hints when creating functions.\n",
    "def add_name_to_list3(student: str='', all_students: List=[]) -> List:\n",
    "    '''\n",
    "    Add name to list if its not already.\n",
    "    Parameters\n",
    "    ----------\n",
    "    student : str\n",
    "        Name to be appended to the string.\n",
    "    \n",
    "    all_students : List\n",
    "        List with all the strings.\n",
    "    Returns\n",
    "    -------\n",
    "    List\n",
    "        List with all names.\n",
    "    '''\n",
    "    return all_students if student in all_students else all_students.append(student) "
   ]
  },
  {
   "cell_type": "code",
   "execution_count": 43,
   "metadata": {},
   "outputs": [
    {
     "data": {
      "text/plain": [
       "['Pedro', 'Caio', 'Ruy', 'Rodrigo', 'Bernardo']"
      ]
     },
     "execution_count": 43,
     "metadata": {},
     "output_type": "execute_result"
    }
   ],
   "source": [
    "add_name_to_list3(me, all_students)"
   ]
  },
  {
   "cell_type": "code",
   "execution_count": 17,
   "metadata": {},
   "outputs": [],
   "source": [
    "from functions import add_name_to_list4\n",
    "# Autoreload with allow us to use the latest version function.py file, without having to restart the notebook.\n",
    "%load_ext autoreload\n",
    "%autoreload 2"
   ]
  },
  {
   "cell_type": "code",
   "execution_count": null,
   "metadata": {},
   "outputs": [],
   "source": [
    "add_name_to_list2()"
   ]
  },
  {
   "cell_type": "markdown",
   "metadata": {},
   "source": [
    "Sources:\n",
    "\n",
    "https://numpydoc.readthedocs.io/en/latest/format.html"
   ]
  }
 ],
 "metadata": {
  "kernelspec": {
   "display_name": "Python (line_profiler)",
   "language": "python",
   "name": "line_profiler"
  },
  "language_info": {
   "codemirror_mode": {
    "name": "ipython",
    "version": 3
   },
   "file_extension": ".py",
   "mimetype": "text/x-python",
   "name": "python",
   "nbconvert_exporter": "python",
   "pygments_lexer": "ipython3",
   "version": "3.7.1"
  }
 },
 "nbformat": 4,
 "nbformat_minor": 2
}
